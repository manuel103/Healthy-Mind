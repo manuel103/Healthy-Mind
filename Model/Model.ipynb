{
 "cells": [
  {
   "cell_type": "code",
   "execution_count": 6,
   "metadata": {},
   "outputs": [
    {
     "name": "stderr",
     "output_type": "stream",
     "text": [
      "C:\\Users\\Emmanuel\\anaconda3\\lib\\site-packages\\pydub\\utils.py:170: RuntimeWarning: Couldn't find ffmpeg or avconv - defaulting to ffmpeg, but may not work\n",
      "  warn(\"Couldn't find ffmpeg or avconv - defaulting to ffmpeg, but may not work\", RuntimeWarning)\n"
     ]
    }
   ],
   "source": [
    "from pydub import AudioSegment\n",
    "from scipy import signal\n",
    "from sklearn.utils import shuffle\n",
    "import re\n",
    "import pandas as pd\n",
    "import numpy as np\n",
    "import statistics as stats\n",
    "import matplotlib.pyplot as plt\n",
    "from scipy import signal\n",
    "from scipy.io import wavfile\n",
    "import librosa\n",
    "from librosa import display\n",
    "from sklearn.metrics import confusion_matrix\n",
    "import keras\n",
    "from keras.models import Sequential, Model\n",
    "from keras.layers import Dense, Dropout, Flatten, BatchNormalization, Embedding, Activation\n",
    "from keras.layers import Conv1D, Conv2D, MaxPooling2D, ConvLSTM2D, LSTM, Bidirectional, GRU, TimeDistributed\n",
    "from keras.optimizers import *\n",
    "from keras.engine.input_layer import Input\n",
    "from keras.callbacks import EarlyStopping, ModelCheckpoint\n",
    "import tensorflow as tf\n",
    "import itertools\n",
    "import math\n",
    "import time\n",
    "import os\n",
    "import json"
   ]
  },
  {
   "cell_type": "code",
   "execution_count": 7,
   "metadata": {},
   "outputs": [],
   "source": [
    "num_classes = 5\n",
    "data_path = \"depression-detection-extract/data/raw/transcripts/\"\n",
    "audio_path = \"depression-detection-extract/data/raw/audio/\""
   ]
  },
  {
   "cell_type": "code",
   "execution_count": 8,
   "metadata": {},
   "outputs": [],
   "source": [
    "SR = 22050\n",
    "def get_short_time_fourier_transform(soundwave):\n",
    "    return librosa.stft(soundwave, n_fft=256)\n",
    "\n",
    "def short_time_fourier_transform_amplitude_to_db(stft):\n",
    "    return librosa.amplitude_to_db(stft)\n",
    "\n",
    "def soundwave_to_np_spectrogram(soundwave):\n",
    "    step1 = get_short_time_fourier_transform(soundwave)\n",
    "    step2 = short_time_fourier_transform_amplitude_to_db(step1)\n",
    "    step3 = step2/100\n",
    "    return step3\n",
    "\n",
    "def inspect_data(sound):\n",
    "    a = get_short_time_fourier_transform(sound)\n",
    "    Xdb = short_time_fourier_transform_amplitude_to_db(a)\n",
    "    return Xdb"
   ]
  },
  {
   "cell_type": "code",
   "execution_count": 9,
   "metadata": {},
   "outputs": [],
   "source": [
    "def confusion_matrix(model, x, y):\n",
    "    prediction = model.predict(x, batch_size=None, verbose=0, steps=None)\n",
    "    labels=['none','mild','moderate','moderately severe', 'severe']\n",
    "\n",
    "    max_prediction = np.argmax(prediction, axis=1)\n",
    "    max_actual = np.argmax(y, axis=1)\n",
    "\n",
    "    y_pred = pd.Categorical.from_codes(max_prediction, labels)\n",
    "    y_actu = pd.Categorical.from_codes(max_actual, labels)\n",
    "\n",
    "    return pd.crosstab(y_actu, y_pred)"
   ]
  },
  {
   "cell_type": "code",
   "execution_count": 10,
   "metadata": {},
   "outputs": [],
   "source": [
    "def load_avec_dataset_file(path, score_column):\n",
    "    ds = pd.read_csv(path, sep=',')\n",
    "    ds['level'] = pd.cut(ds[score_column], bins=[-1,0,5,10,15,25], labels=[0,1,2,3,4])\n",
    "    ds['PHQ8_Score'] = ds[score_column]\n",
    "    ds['cat_level'] = keras.utils.to_categorical(ds['level'], num_classes).tolist()\n",
    "    ds = ds[['Participant_ID', 'level', 'cat_level', 'PHQ8_Score']]\n",
    "    ds = ds.astype({\"Participant_ID\": float, \"level\": int, 'PHQ8_Score': int})\n",
    "    return ds"
   ]
  },
  {
   "cell_type": "code",
   "execution_count": 11,
   "metadata": {},
   "outputs": [
    {
     "name": "stdout",
     "output_type": "stream",
     "text": [
      "Size: train= 107, dev= 35, test= 47\n"
     ]
    },
    {
     "data": {
      "text/html": [
       "<div>\n",
       "<style scoped>\n",
       "    .dataframe tbody tr th:only-of-type {\n",
       "        vertical-align: middle;\n",
       "    }\n",
       "\n",
       "    .dataframe tbody tr th {\n",
       "        vertical-align: top;\n",
       "    }\n",
       "\n",
       "    .dataframe thead th {\n",
       "        text-align: right;\n",
       "    }\n",
       "</style>\n",
       "<table border=\"1\" class=\"dataframe\">\n",
       "  <thead>\n",
       "    <tr style=\"text-align: right;\">\n",
       "      <th></th>\n",
       "      <th>Participant_ID</th>\n",
       "      <th>level</th>\n",
       "      <th>cat_level</th>\n",
       "      <th>PHQ8_Score</th>\n",
       "    </tr>\n",
       "  </thead>\n",
       "  <tbody>\n",
       "    <tr>\n",
       "      <th>0</th>\n",
       "      <td>303.0</td>\n",
       "      <td>0</td>\n",
       "      <td>[1.0, 0.0, 0.0, 0.0, 0.0]</td>\n",
       "      <td>0</td>\n",
       "    </tr>\n",
       "    <tr>\n",
       "      <th>1</th>\n",
       "      <td>304.0</td>\n",
       "      <td>2</td>\n",
       "      <td>[0.0, 0.0, 1.0, 0.0, 0.0]</td>\n",
       "      <td>6</td>\n",
       "    </tr>\n",
       "    <tr>\n",
       "      <th>2</th>\n",
       "      <td>305.0</td>\n",
       "      <td>2</td>\n",
       "      <td>[0.0, 0.0, 1.0, 0.0, 0.0]</td>\n",
       "      <td>7</td>\n",
       "    </tr>\n",
       "    <tr>\n",
       "      <th>3</th>\n",
       "      <td>310.0</td>\n",
       "      <td>1</td>\n",
       "      <td>[0.0, 1.0, 0.0, 0.0, 0.0]</td>\n",
       "      <td>4</td>\n",
       "    </tr>\n",
       "    <tr>\n",
       "      <th>4</th>\n",
       "      <td>312.0</td>\n",
       "      <td>1</td>\n",
       "      <td>[0.0, 1.0, 0.0, 0.0, 0.0]</td>\n",
       "      <td>2</td>\n",
       "    </tr>\n",
       "  </tbody>\n",
       "</table>\n",
       "</div>"
      ],
      "text/plain": [
       "   Participant_ID  level                  cat_level  PHQ8_Score\n",
       "0           303.0      0  [1.0, 0.0, 0.0, 0.0, 0.0]           0\n",
       "1           304.0      2  [0.0, 0.0, 1.0, 0.0, 0.0]           6\n",
       "2           305.0      2  [0.0, 0.0, 1.0, 0.0, 0.0]           7\n",
       "3           310.0      1  [0.0, 1.0, 0.0, 0.0, 0.0]           4\n",
       "4           312.0      1  [0.0, 1.0, 0.0, 0.0, 0.0]           2"
      ]
     },
     "execution_count": 11,
     "metadata": {},
     "output_type": "execute_result"
    }
   ],
   "source": [
    "train = load_avec_dataset_file('depression-detection-extract/data/train_split_Depression_AVEC2017.csv', 'PHQ8_Score')\n",
    "dev = load_avec_dataset_file('depression-detection-extract/data/dev_split_Depression_AVEC2017.csv', 'PHQ8_Score')\n",
    "test = load_avec_dataset_file('depression-detection-extract/data/full_test_split.csv', 'PHQ_Score')\n",
    "print(\"Size: train= {}, dev= {}, test= {}\".format(len(train), len(dev), len(test)))\n",
    "train.head()"
   ]
  },
  {
   "cell_type": "markdown",
   "metadata": {},
   "source": [
    "### Audio segmentation & speaker diarization"
   ]
  },
  {
   "cell_type": "code",
   "execution_count": 12,
   "metadata": {},
   "outputs": [
    {
     "name": "stdout",
     "output_type": "stream",
     "text": [
      "Total size = 189\n"
     ]
    }
   ],
   "source": [
    "ds_total = pd.concat([train,dev,test])\n",
    "total_phq8 = len(ds_total)\n",
    "print(\"Total size = {}\".format(total_phq8))"
   ]
  },
  {
   "cell_type": "code",
   "execution_count": 13,
   "metadata": {},
   "outputs": [
    {
     "name": "stdout",
     "output_type": "stream",
     "text": [
      "File was created\n"
     ]
    }
   ],
   "source": [
    "ds_total.to_csv(data_path + 'ds_total.csv', sep='\\t')\n",
    "print(\"File was created\")"
   ]
  },
  {
   "cell_type": "code",
   "execution_count": 14,
   "metadata": {},
   "outputs": [],
   "source": [
    "def segment_audio(ds_total, transcript_directory, audio_directory, audio_output_dir):\n",
    "    input_array = []\n",
    "    person_id_list = []\n",
    "    level_array = []\n",
    "    \n",
    "    filenames = os.listdir(transcript_directory)\n",
    "    \n",
    "    if \".DS_Store\" in filenames:\n",
    "        filenames.remove(\".DS_Store\")\n",
    "        \n",
    "    for filename in filenames:\n",
    "        transcript_path = os.path.join(transcript_directory, filename)\n",
    "        transcript = pd.read_csv(transcript_path, sep='\\t')\n",
    "        m = re.search(\"(\\d{3})_TRANSCRIPT.csv\", filename)\n",
    "        if m:\n",
    "            person_id = int(m.group(1))            \n",
    "            person_audio = AudioSegment.from_wav(audio_directory \n",
    "                                             + str(person_id) + '_AUDIO.wav')\n",
    "            lines = len(transcript)\n",
    "            combined_sounds = AudioSegment.empty()\n",
    "            for i in range(0, lines):\n",
    "                row = transcript.iloc[i]\n",
    "                if row[\"speaker\"] == \"Participant\":\n",
    "                    t1 = int(float(row[\"start_time\"]) * 1000)\n",
    "                    t2 = int(float(row[\"stop_time\"]) * 1000)\n",
    "                    newAudio = person_audio[t1:t2]\n",
    "                    combined_sounds += newAudio\n",
    "                    \n",
    "            combined_sounds.export(audio_output_dir + str(person_id) + '.wav', format=\"wav\")\n",
    "\n",
    "            w = AudioSegment.from_wav(audio_output_dir + str(person_id) + '.wav')\n",
    "            input_array.append(w)\n",
    "            person_id_list.append(person_id)\n",
    "            level_array.append(ds_total.loc[ds_total[\"Participant_ID\"] == person_id, \"level\"].item())\n",
    "    print(f\"Segmentation complete!\")\n",
    "            \n",
    "    return input_array, person_id_list, level_array"
   ]
  },
  {
   "cell_type": "code",
   "execution_count": 15,
   "metadata": {},
   "outputs": [
    {
     "name": "stdout",
     "output_type": "stream",
     "text": [
      "Segmentation complete!\n"
     ]
    }
   ],
   "source": [
    "input_array, person_id_list, level_array = segment_audio (ds_total, data_path , audio_path, \"depression-detection-extract/data/segmented_audio/\")\n"
   ]
  },
  {
   "cell_type": "code",
   "execution_count": 16,
   "metadata": {},
   "outputs": [],
   "source": [
    "len_list = []\n",
    "for audio_file in input_array:\n",
    "    len_list.append(int(len(audio_file) / (1000)))"
   ]
  },
  {
   "cell_type": "code",
   "execution_count": 17,
   "metadata": {},
   "outputs": [],
   "source": [
    "# print(\"\\n\",input_array)\n",
    "# print(\"\\n\",person_id_list)\n",
    "# print(\"\\n\",level_array)\n",
    "\n",
    "len_list = []\n",
    "for audio_file in input_array:\n",
    "    len_list.append(int(len(audio_file) / (1000)))"
   ]
  },
  {
   "cell_type": "markdown",
   "metadata": {},
   "source": [
    "### Creating audio samples each 7sec long for each diarized recording"
   ]
  },
  {
   "cell_type": "code",
   "execution_count": 18,
   "metadata": {},
   "outputs": [],
   "source": [
    "person_id_list_extended = []\n",
    "trim_array = []\n",
    "level_array_extended = []\n",
    "stride = 15\n",
    "time_window = 7\n",
    "n_samples_max = 10\n",
    "\n",
    "path = \"depression-detection-extract/data/audio_augmented/time_window_\" + str(time_window) + \"_stride_\" + str(stride) + \"_max_\" + str(n_samples_max) +\"/\"\n",
    "\n",
    "if not os.path.exists(path):\n",
    "    os.makedirs(path)\n",
    "\n",
    "for audio_file, person_id, level in zip(input_array, person_id_list, level_array):  \n",
    "    n_samples = min(n_samples_max, int((len(audio_file) - time_window * 1000)/(stride * 1000)))\n",
    "    t1_ini = 0\n",
    "    t2_end = time_window * 1000\n",
    "    for i in range(n_samples):\n",
    "        t1_ini = t1_ini + stride * 1000\n",
    "        t2_end = t2_end + stride * 1000\n",
    "        audio_trim = audio_file[t1_ini:t2_end]\n",
    "        trim_array.append(audio_trim)\n",
    "        person_id_list_extended.append(person_id)\n",
    "        level_array_extended.append(level)\n",
    "        audio_trim.export(path + str(person_id) + '_' + str(i) + '.wav', format=\"wav\")"
   ]
  },
  {
   "cell_type": "code",
   "execution_count": 19,
   "metadata": {},
   "outputs": [
    {
     "data": {
      "text/plain": [
       "309"
      ]
     },
     "execution_count": 19,
     "metadata": {},
     "output_type": "execute_result"
    }
   ],
   "source": [
    "len(trim_array)"
   ]
  },
  {
   "cell_type": "code",
   "execution_count": 20,
   "metadata": {},
   "outputs": [],
   "source": [
    "person_id_list_padded = []\n",
    "padded_array = []\n",
    "level_array_padded = []\n",
    "max_size = max(len_list)\n",
    "mean_size = np.mean(len_list)\n",
    "min_size = min(len_list)\n",
    "for audio_file, person_id, level in zip(input_array, person_id_list, level_array):  \n",
    "    padding = AudioSegment.silent(duration = min_size * 1000)\n",
    "    audio_trim = padding.overlay(audio_file)\n",
    "    padded_array.append(audio_trim)\n",
    "    person_id_list_padded.append(person_id)\n",
    "    level_array_padded.append(level)\n",
    "    audio_trim.export(\"depression-detection-extract/data/audio_cut_padded/mean/\" + str(person_id) + '.wav', format=\"wav\")\n"
   ]
  },
  {
   "cell_type": "code",
   "execution_count": 21,
   "metadata": {},
   "outputs": [
    {
     "name": "stderr",
     "output_type": "stream",
     "text": [
      "C:\\Users\\Emmanuel\\anaconda3\\lib\\site-packages\\librosa\\core\\spectrum.py:1641: UserWarning: amplitude_to_db was called on complex input so phase information will be discarded. To suppress this warning, call amplitude_to_db(np.abs(S)) instead.\n",
      "  warnings.warn(\n"
     ]
    },
    {
     "data": {
      "text/plain": [
       "(95, 2412)"
      ]
     },
     "execution_count": 21,
     "metadata": {},
     "output_type": "execute_result"
    }
   ],
   "source": [
    "# Read the audio sample and calculate the normalized spectrogram\n",
    "\n",
    "X, sr = librosa.load(path + '303' + '_' + '1' + '.wav')\n",
    "sample = soundwave_to_np_spectrogram(X)\n",
    "sample = sample[0:95,:]\n",
    "sample.shape"
   ]
  },
  {
   "cell_type": "code",
   "execution_count": 22,
   "metadata": {},
   "outputs": [
    {
     "data": {
      "text/plain": [
       "229140"
      ]
     },
     "execution_count": 22,
     "metadata": {},
     "output_type": "execute_result"
    }
   ],
   "source": [
    "sample.size"
   ]
  },
  {
   "cell_type": "code",
   "execution_count": 23,
   "metadata": {},
   "outputs": [],
   "source": [
    "X, sr = librosa.load('depression-detection-extract/data/audio_cut_padded/mean/' + '303' + '.wav')\n",
    "sample = soundwave_to_np_spectrogram(X)"
   ]
  },
  {
   "cell_type": "code",
   "execution_count": 24,
   "metadata": {},
   "outputs": [
    {
     "data": {
      "image/png": "[encoded data removed]",
      "text/plain": [
       "<Figure size 432x288 with 2 Axes>"
      ]
     },
     "metadata": {
      "needs_background": "light"
     },
     "output_type": "display_data"
    }
   ],
   "source": [
    "# Show the spectrogram\n",
    "\n",
    "librosa.display.specshow(sample,\n",
    "                         y_axis='mel',\n",
    "                         x_axis='time')\n",
    "plt.colorbar(format='%+2.0f dB')\n",
    "plt.title('Mel spectrogram')\n",
    "plt.tight_layout()"
   ]
  },
  {
   "cell_type": "code",
   "execution_count": 25,
   "metadata": {},
   "outputs": [],
   "source": [
    "def tryint(s):\n",
    "    try:\n",
    "        return int(s)\n",
    "    except:\n",
    "        return s\n",
    "\n",
    "def alphanum_key(s):\n",
    "    \"\"\" Turn a string into a list of string and number chunks.\n",
    "        \"z23a\" -> [\"z\", 23, \"a\"]\n",
    "    \"\"\"\n",
    "    return [ tryint(c) for c in re.split('([0-9]+)', s) ]\n",
    "\n",
    "def sort_nicely(l):\n",
    "    \"\"\" Sort the given list in the way that humans expect.\n",
    "    \"\"\"\n",
    "    l.sort(key=alphanum_key)"
   ]
  },
  {
   "cell_type": "code",
   "execution_count": 26,
   "metadata": {},
   "outputs": [],
   "source": [
    "dataset_path = path\n",
    "filenames = os.listdir(dataset_path)\n",
    "\n",
    "if \".DS_Store\" in filenames:\n",
    "    filenames.remove(\".DS_Store\")\n",
    "\n",
    "sort_nicely(filenames)\n",
    "Xdb = []    \n",
    "    \n",
    "for filename in filenames:\n",
    "    X, sr = librosa.load(dataset_path + filename)\n",
    "    X = abs(soundwave_to_np_spectrogram(X))\n",
    "    X = X[0:95,:]\n",
    "    Xdb.append(X)"
   ]
  },
  {
   "cell_type": "code",
   "execution_count": 27,
   "metadata": {},
   "outputs": [],
   "source": [
    "spec_path = \"depression-detection-extract/data/spectrogram/audio_augmented/time_window_\" + str(time_window) + \"_stride_\" + str(stride) + \"_max_\" + str(n_samples_max) + \"/\"\n",
    "\n",
    "if not os.path.exists(spec_path):\n",
    "    os.makedirs(spec_path)\n",
    "\n",
    "np.asarray(Xdb).dump(open(spec_path +\"Xdb.npy\", \"wb\"))\n",
    "np.asarray(level_array_extended).dump(open(spec_path + 'Y.npy', 'wb'))"
   ]
  },
  {
   "cell_type": "code",
   "execution_count": 28,
   "metadata": {},
   "outputs": [],
   "source": [
    "number_of_files = int(len(Xdb)/500)\n",
    "for i in range(number_of_files):\n",
    "    start = i * 500\n",
    "    end = start + 500 if start + 500 < len(Xdb) else len(Xdb)\n",
    "    np.asarray(Xdb[start:end]).dump(open('depression-detection-extract/data/spectrogram/audio_augmented/time_window_10_stride_10_max_10/Xdb_' + str(i) + '.npy', 'wb'))\n",
    "    np.asarray(level_array_extended[start:end]).dump(open('depression-detection-extract/data/spectrogram/audio_augmented/time_window_10_stride_10_max_10/Y_' + str(i) + '.npy', 'wb'))"
   ]
  },
  {
   "cell_type": "code",
   "execution_count": 29,
   "metadata": {},
   "outputs": [
    {
     "data": {
      "text/plain": [
       "\"Xdb = np.load(open('depression-detection-extract/data/spectrogram/audio_augmented/time_window_10_stride_10_max_10/Xdb.npy', 'rb'))\""
      ]
     },
     "execution_count": 29,
     "metadata": {},
     "output_type": "execute_result"
    }
   ],
   "source": [
    "'''Xdb = np.load(open('depression-detection-extract/data/spectrogram/audio_augmented/time_window_10_stride_10_max_10/Xdb.npy', 'rb'))'''\n"
   ]
  },
  {
   "cell_type": "code",
   "execution_count": 30,
   "metadata": {},
   "outputs": [
    {
     "name": "stdout",
     "output_type": "stream",
     "text": [
      "95 2412\n"
     ]
    }
   ],
   "source": [
    "# Size of the spectrogram. Every sample has the same length so only 1 size is calculated.\n",
    "\n",
    "alto, ancho = Xdb[0].shape\n",
    "print(alto, ancho)"
   ]
  },
  {
   "cell_type": "code",
   "execution_count": 31,
   "metadata": {},
   "outputs": [
    {
     "name": "stdout",
     "output_type": "stream",
     "text": [
      "(309, 95, 2412)\n",
      "(309,)\n"
     ]
    },
    {
     "data": {
      "text/plain": [
       "309"
      ]
     },
     "execution_count": 31,
     "metadata": {},
     "output_type": "execute_result"
    }
   ],
   "source": [
    "level_array_extended_new = np.asarray(level_array_extended)\n",
    "print(np.asarray(Xdb).shape)\n",
    "print(level_array_extended_new.shape)\n",
    "len(Xdb)"
   ]
  },
  {
   "cell_type": "code",
   "execution_count": 32,
   "metadata": {},
   "outputs": [
    {
     "data": {
      "text/plain": [
       "(array([0, 1, 2, 3, 4]), array([ 20, 159,  60,  40,  30], dtype=int64))"
      ]
     },
     "execution_count": 32,
     "metadata": {},
     "output_type": "execute_result"
    }
   ],
   "source": [
    "def split_by_phq_level(ds):\n",
    "    none_ds = ds[ds['level']==0]\n",
    "    mild_ds = ds[ds['level']==1]\n",
    "    moderate_ds = ds[ds['level']==2]\n",
    "    moderate_severe_ds = ds[ds['level']==3]\n",
    "    severe_ds = ds[ds['level']==4]\n",
    "    return (none_ds, mild_ds, moderate_ds, moderate_severe_ds, severe_ds)\n",
    "\n",
    "np.unique(level_array_extended_new, return_counts=True)\n"
   ]
  },
  {
   "cell_type": "code",
   "execution_count": 33,
   "metadata": {},
   "outputs": [],
   "source": [
    "def distribute_levels(Xdb, level_array):\n",
    "    Xdb_shuffled, level_array_shuffled = shuffle(Xdb, level_array, random_state=0)\n",
    "    \n",
    "    levels, counts = np.unique(level_array, return_counts=True)\n",
    "    n_levels = len(levels)\n",
    "    \n",
    "    \n",
    "    X = [None] * n_levels\n",
    "    Y = [None] * n_levels\n",
    "       \n",
    "    for i in levels:\n",
    "        X[i] = np.compress(level_array_shuffled == i, Xdb_shuffled, axis = 0)\n",
    "        Y[i] = [i] * counts[i]\n",
    "    \n",
    "    X = np.array(X)\n",
    "    Y = np.array(Y)\n",
    "\n",
    "    return X, Y, levels, counts\n",
    "\n",
    "X, Y, levels, counts = distribute_levels(Xdb, level_array_extended_new)\n"
   ]
  },
  {
   "cell_type": "code",
   "execution_count": 34,
   "metadata": {},
   "outputs": [],
   "source": [
    "def distribute_sets(X, Y, levels, counts, split = [70,14,16]): \n",
    "    \n",
    "    n_levels = len(levels)\n",
    "        \n",
    "    X_dict = dict()\n",
    "    Y_dict = dict()\n",
    "    \n",
    "    last = np.zeros(n_levels)\n",
    "    prev = np.zeros(n_levels)\n",
    "   \n",
    "    for p in split:\n",
    "        X_dict['d'+str(p)] = []\n",
    "        Y_dict['d'+str(p)] = []\n",
    "        for i in levels:\n",
    "            last[i] = min(counts[i], prev[i] + round(counts[i] * p /100.))\n",
    "       \n",
    "        X_dict['d'+str(p)] = np.concatenate([X[i][int(prev[i]):int(last[i])] for i in levels], axis = 0)\n",
    "        Y_dict['d'+str(p)] = np.concatenate([Y[i][int(prev[i]):int(last[i])] for i in levels], axis = 0)\n",
    "        \n",
    "        prev = last.copy()\n",
    "        \n",
    "        \n",
    "    return (X_dict['d70'], Y_dict['d70'], X_dict['d14'], Y_dict['d14'], X_dict['d16'], Y_dict['d16'])"
   ]
  },
  {
   "cell_type": "code",
   "execution_count": 79,
   "metadata": {},
   "outputs": [
    {
     "data": {
      "text/plain": [
       "((49, 95, 2412), (216, 95, 2412))"
      ]
     },
     "execution_count": 79,
     "metadata": {},
     "output_type": "execute_result"
    }
   ],
   "source": [
    "X_train, Y_train, X_dev, Y_dev, X_test, Y_test = distribute_sets(X, Y, levels, counts)\n",
    "\n",
    "X_test.shape, X_train.shape\n",
    "# print(X_test)"
   ]
  },
  {
   "cell_type": "code",
   "execution_count": 36,
   "metadata": {},
   "outputs": [],
   "source": [
    "def reshape_to_cnn(X):\n",
    "    X_reshape = np.asarray(X.reshape(X.shape[0], X.shape[1], X.shape[2], 1))\n",
    "    return X_reshape"
   ]
  },
  {
   "cell_type": "code",
   "execution_count": 37,
   "metadata": {},
   "outputs": [],
   "source": [
    "X_train_cnn = reshape_to_cnn(X_train)\n",
    "X_dev_cnn = reshape_to_cnn(X_dev)\n",
    "X_test_cnn = reshape_to_cnn(X_test)\n",
    "\n",
    "Y_train_oh = keras.utils.to_categorical(Y_train)\n",
    "Y_dev_oh = keras.utils.to_categorical(Y_dev)\n",
    "Y_test_oh = keras.utils.to_categorical(Y_test)\n",
    "\n",
    "early_stopping = EarlyStopping(monitor='val_loss', patience=10)"
   ]
  },
  {
   "cell_type": "code",
   "execution_count": 74,
   "metadata": {},
   "outputs": [
    {
     "name": "stdout",
     "output_type": "stream",
     "text": [
      "(49, 95, 2412, 1)\n"
     ]
    }
   ],
   "source": [
    "print(X_test_cnn.shape)"
   ]
  },
  {
   "cell_type": "code",
   "execution_count": 38,
   "metadata": {},
   "outputs": [
    {
     "data": {
      "text/plain": [
       "(216, 95, 2412)"
      ]
     },
     "execution_count": 38,
     "metadata": {},
     "output_type": "execute_result"
    }
   ],
   "source": [
    "X_train.shape"
   ]
  },
  {
   "cell_type": "code",
   "execution_count": 39,
   "metadata": {},
   "outputs": [],
   "source": [
    "def model(input_shape):\n",
    "    \"\"\"\n",
    "    Function creating the model's graph in Keras.\n",
    "    \n",
    "    Argument:\n",
    "    input_shape -- shape of the model's input data (using Keras conventions)\n",
    "\n",
    "    Returns:\n",
    "    model -- Keras model instance\n",
    "    \"\"\"\n",
    "    \n",
    "    X_input = Input(shape = input_shape)\n",
    "    \n",
    "    # Step 1: CONV layer \n",
    "    X = Dropout(rate = 0.2)(X_input) \n",
    "    X = Conv1D(filters = 100, kernel_size = 2, strides=1)(X)                              # CONV1D\n",
    "    X = BatchNormalization(axis=-1)(X)                                 # Batch normalization\n",
    "    X = Activation('relu')(X)                                 # ReLu activation\n",
    "    X = Dropout(rate = 0.4)(X)                                 # dropout (use 0.8)\n",
    "\n",
    "    # Step 2: First GRU Layer\n",
    "    X = GRU(units = 100, return_sequences = True)(X)                                # GRU (use 128 units and return the sequences)\n",
    "    X = Dropout(rate = 0.4)(X)                                 # dropout (use 0.8)\n",
    "    X = BatchNormalization(axis=-1)(X)                                 # Batch normalization\n",
    "    \n",
    "    # Step 3: Second GRU Layer\n",
    "    X = GRU(units = 100, return_sequences = False)(X)                                  # GRU (use 128 units and return the sequences)\n",
    "    X = Dropout(rate = 0.4)(X)                                 # dropout (use 0.8)\n",
    "    X = BatchNormalization(axis=-1)(X)                                 # Batch normalization\n",
    "    \n",
    "    # Step 4: Time-distributed dense layer (≈1 line)\n",
    "    X = Dense(5, activation = \"softmax\")(X) # sigmoid\n",
    "\n",
    "    model = Model(inputs = X_input, outputs = X)\n",
    "    \n",
    "    return model"
   ]
  },
  {
   "cell_type": "code",
   "execution_count": 77,
   "metadata": {},
   "outputs": [
    {
     "data": {
      "text/plain": [
       "(216, 95, 2412)"
      ]
     },
     "execution_count": 77,
     "metadata": {},
     "output_type": "execute_result"
    }
   ],
   "source": [
    "X_train.shape"
   ]
  },
  {
   "cell_type": "code",
   "execution_count": 40,
   "metadata": {},
   "outputs": [
    {
     "name": "stdout",
     "output_type": "stream",
     "text": [
      "Model: \"functional_1\"\n",
      "_________________________________________________________________\n",
      "Layer (type)                 Output Shape              Param #   \n",
      "=================================================================\n",
      "input_1 (InputLayer)         [(None, 95, 2412)]        0         \n",
      "_________________________________________________________________\n",
      "dropout (Dropout)            (None, 95, 2412)          0         \n",
      "_________________________________________________________________\n",
      "conv1d (Conv1D)              (None, 94, 100)           482500    \n",
      "_________________________________________________________________\n",
      "batch_normalization (BatchNo (None, 94, 100)           400       \n",
      "_________________________________________________________________\n",
      "activation (Activation)      (None, 94, 100)           0         \n",
      "_________________________________________________________________\n",
      "dropout_1 (Dropout)          (None, 94, 100)           0         \n",
      "_________________________________________________________________\n",
      "gru (GRU)                    (None, 94, 100)           60600     \n",
      "_________________________________________________________________\n",
      "dropout_2 (Dropout)          (None, 94, 100)           0         \n",
      "_________________________________________________________________\n",
      "batch_normalization_1 (Batch (None, 94, 100)           400       \n",
      "_________________________________________________________________\n",
      "gru_1 (GRU)                  (None, 100)               60600     \n",
      "_________________________________________________________________\n",
      "dropout_3 (Dropout)          (None, 100)               0         \n",
      "_________________________________________________________________\n",
      "batch_normalization_2 (Batch (None, 100)               400       \n",
      "_________________________________________________________________\n",
      "dense (Dense)                (None, 5)                 505       \n",
      "=================================================================\n",
      "Total params: 605,405\n",
      "Trainable params: 604,805\n",
      "Non-trainable params: 600\n",
      "_________________________________________________________________\n"
     ]
    }
   ],
   "source": [
    "model = model(input_shape = X_train[0].shape)\n",
    "model.summary()\n"
   ]
  },
  {
   "cell_type": "code",
   "execution_count": 41,
   "metadata": {},
   "outputs": [],
   "source": [
    "model.compile(optimizer=\"adam\",loss=\"categorical_crossentropy\",metrics=[\"accuracy\"])\n"
   ]
  },
  {
   "cell_type": "code",
   "execution_count": 42,
   "metadata": {},
   "outputs": [
    {
     "name": "stdout",
     "output_type": "stream",
     "text": [
      "Epoch 1/30\n",
      "4/4 [==============================] - 8s 2s/step - loss: 2.1951 - accuracy: 0.2037 - val_loss: 1.9762 - val_accuracy: 0.0930\n",
      "Epoch 2/30\n",
      "4/4 [==============================] - 3s 826ms/step - loss: 2.2010 - accuracy: 0.2083 - val_loss: 2.0817 - val_accuracy: 0.0930\n",
      "Epoch 3/30\n",
      "4/4 [==============================] - 3s 722ms/step - loss: 2.2028 - accuracy: 0.2361 - val_loss: 2.0254 - val_accuracy: 0.0930\n",
      "Epoch 4/30\n",
      "4/4 [==============================] - 3s 871ms/step - loss: 1.9942 - accuracy: 0.2731 - val_loss: 1.9827 - val_accuracy: 0.1163\n",
      "Epoch 5/30\n",
      "4/4 [==============================] - 2s 605ms/step - loss: 1.9734 - accuracy: 0.2546 - val_loss: 1.9412 - val_accuracy: 0.1163\n",
      "Epoch 6/30\n",
      "4/4 [==============================] - 3s 697ms/step - loss: 1.9790 - accuracy: 0.2407 - val_loss: 1.9255 - val_accuracy: 0.1395\n",
      "Epoch 7/30\n",
      "4/4 [==============================] - 2s 617ms/step - loss: 1.9122 - accuracy: 0.3009 - val_loss: 1.8696 - val_accuracy: 0.1395\n",
      "Epoch 8/30\n",
      "4/4 [==============================] - 3s 671ms/step - loss: 1.8649 - accuracy: 0.2593 - val_loss: 1.8681 - val_accuracy: 0.1395\n",
      "Epoch 9/30\n",
      "4/4 [==============================] - 3s 739ms/step - loss: 1.8679 - accuracy: 0.2639 - val_loss: 1.9179 - val_accuracy: 0.1395\n",
      "Epoch 10/30\n",
      "4/4 [==============================] - 3s 701ms/step - loss: 1.9173 - accuracy: 0.2731 - val_loss: 1.9329 - val_accuracy: 0.1395\n",
      "Epoch 11/30\n",
      "4/4 [==============================] - 3s 655ms/step - loss: 1.7959 - accuracy: 0.3009 - val_loss: 1.9747 - val_accuracy: 0.1395\n",
      "Epoch 12/30\n",
      "4/4 [==============================] - 3s 658ms/step - loss: 1.8281 - accuracy: 0.2917 - val_loss: 1.9730 - val_accuracy: 0.1395\n",
      "Epoch 13/30\n",
      "4/4 [==============================] - 3s 703ms/step - loss: 1.6965 - accuracy: 0.3565 - val_loss: 1.9395 - val_accuracy: 0.1395\n",
      "Epoch 14/30\n",
      "4/4 [==============================] - 3s 660ms/step - loss: 1.8296 - accuracy: 0.3102 - val_loss: 1.8589 - val_accuracy: 0.0465\n",
      "Epoch 15/30\n",
      "4/4 [==============================] - 3s 870ms/step - loss: 1.7556 - accuracy: 0.3056 - val_loss: 1.7685 - val_accuracy: 0.0698\n",
      "Epoch 16/30\n",
      "4/4 [==============================] - 3s 640ms/step - loss: 1.7847 - accuracy: 0.2778 - val_loss: 1.6802 - val_accuracy: 0.1395\n",
      "Epoch 17/30\n",
      "4/4 [==============================] - 3s 633ms/step - loss: 1.5975 - accuracy: 0.3426 - val_loss: 1.6260 - val_accuracy: 0.1395\n",
      "Epoch 18/30\n",
      "4/4 [==============================] - 2s 589ms/step - loss: 1.6351 - accuracy: 0.3333 - val_loss: 1.6410 - val_accuracy: 0.1395\n",
      "Epoch 19/30\n",
      "4/4 [==============================] - 3s 708ms/step - loss: 1.7251 - accuracy: 0.3333 - val_loss: 1.6421 - val_accuracy: 0.0930\n",
      "Epoch 20/30\n",
      "4/4 [==============================] - 3s 742ms/step - loss: 1.5682 - accuracy: 0.3333 - val_loss: 1.6664 - val_accuracy: 0.1163\n",
      "Epoch 21/30\n",
      "4/4 [==============================] - 3s 716ms/step - loss: 1.6203 - accuracy: 0.3333 - val_loss: 1.6691 - val_accuracy: 0.0465\n",
      "Epoch 22/30\n",
      "4/4 [==============================] - 3s 686ms/step - loss: 1.5511 - accuracy: 0.3426 - val_loss: 1.6831 - val_accuracy: 0.0465\n",
      "Epoch 23/30\n",
      "4/4 [==============================] - 3s 697ms/step - loss: 1.4650 - accuracy: 0.3981 - val_loss: 1.7273 - val_accuracy: 0.0465\n",
      "Epoch 24/30\n",
      "4/4 [==============================] - 3s 664ms/step - loss: 1.5421 - accuracy: 0.3981 - val_loss: 1.7732 - val_accuracy: 0.1395\n",
      "Epoch 25/30\n",
      "4/4 [==============================] - 3s 651ms/step - loss: 1.4378 - accuracy: 0.4213 - val_loss: 1.7346 - val_accuracy: 0.1395\n",
      "Epoch 26/30\n",
      "4/4 [==============================] - 2s 591ms/step - loss: 1.4695 - accuracy: 0.3889 - val_loss: 1.6193 - val_accuracy: 0.2093\n",
      "Epoch 27/30\n",
      "4/4 [==============================] - 3s 708ms/step - loss: 1.4520 - accuracy: 0.4120 - val_loss: 1.5165 - val_accuracy: 0.4419\n",
      "Epoch 28/30\n",
      "4/4 [==============================] - 3s 678ms/step - loss: 1.4996 - accuracy: 0.3981 - val_loss: 1.5451 - val_accuracy: 0.3721\n",
      "Epoch 29/30\n",
      "4/4 [==============================] - 3s 667ms/step - loss: 1.4158 - accuracy: 0.3750 - val_loss: 1.6198 - val_accuracy: 0.3023\n",
      "Epoch 30/30\n",
      "4/4 [==============================] - 3s 637ms/step - loss: 1.3967 - accuracy: 0.4028 - val_loss: 1.5881 - val_accuracy: 0.4884\n"
     ]
    }
   ],
   "source": [
    "model_2gru_hist = model.fit(X_train, Y_train_oh, validation_data=(X_dev, Y_dev_oh), epochs = 30, batch_size = 64, shuffle = True, callbacks=[early_stopping])"
   ]
  },
  {
   "cell_type": "code",
   "execution_count": 43,
   "metadata": {},
   "outputs": [],
   "source": [
    "# print(model_2gru_hist.history)\n",
    "\n",
    "with open('depression-detection-extract/models/model_2gru_hist.json', 'w') as f:\n",
    "    json.dump(model_2gru_hist.history, f)\n",
    "model.save('depression-detection-extract/models/model_2gru.h5')"
   ]
  },
  {
   "cell_type": "code",
   "execution_count": 44,
   "metadata": {},
   "outputs": [
    {
     "name": "stdout",
     "output_type": "stream",
     "text": [
      "Test loss: 1.6099563837051392\n",
      "Test accuracy: 0.5102040767669678\n"
     ]
    }
   ],
   "source": [
    "score = model.evaluate(X_test, Y_test_oh, verbose=0)\n",
    "print('Test loss:', score[0])\n",
    "print('Test accuracy:', score[1])"
   ]
  },
  {
   "cell_type": "code",
   "execution_count": 45,
   "metadata": {},
   "outputs": [
    {
     "name": "stdout",
     "output_type": "stream",
     "text": [
      "[[ 0  3  0  0  0]\n",
      " [ 0 24  0  0  1]\n",
      " [ 0 10  0  0  0]\n",
      " [ 0  6  0  0  0]\n",
      " [ 0  4  0  0  1]]\n"
     ]
    }
   ],
   "source": [
    "from sklearn import metrics\n",
    "\n",
    "Y_predict = model.predict(X_test) \n",
    "confusionmatrix = metrics.confusion_matrix(Y_test_oh.argmax(axis=1), Y_predict.argmax(axis=1))\n",
    "print(confusionmatrix)"
   ]
  },
  {
   "cell_type": "code",
   "execution_count": 46,
   "metadata": {},
   "outputs": [
    {
     "data": {
      "text/plain": [
       "<matplotlib.axes._subplots.AxesSubplot at 0x1bd9464b2e0>"
      ]
     },
     "execution_count": 46,
     "metadata": {},
     "output_type": "execute_result"
    },
    {
     "data": {
      "image/png": "[encoded data removed]",
      "text/plain": [
       "<Figure size 432x288 with 2 Axes>"
      ]
     },
     "metadata": {
      "needs_background": "light"
     },
     "output_type": "display_data"
    }
   ],
   "source": [
    "import seaborn as sns\n",
    "sns.heatmap(confusionmatrix, annot=True)"
   ]
  },
  {
   "cell_type": "code",
   "execution_count": 47,
   "metadata": {},
   "outputs": [
    {
     "data": {
      "text/plain": [
       "<matplotlib.axes._subplots.AxesSubplot at 0x1bd94722550>"
      ]
     },
     "execution_count": 47,
     "metadata": {},
     "output_type": "execute_result"
    },
    {
     "data": {
      "image/png": "[encoded data removed]",
      "text/plain": [
       "<Figure size 432x288 with 2 Axes>"
      ]
     },
     "metadata": {
      "needs_background": "light"
     },
     "output_type": "display_data"
    }
   ],
   "source": [
    "sns.heatmap(confusionmatrix/np.sum(confusionmatrix), annot=True, fmt='.2%', cmap='Blues')"
   ]
  },
  {
   "cell_type": "code",
   "execution_count": 48,
   "metadata": {},
   "outputs": [],
   "source": [
    "def model_cnn(input_shape):\n",
    "    \"\"\"\n",
    "    Function creating the model's graph in Keras.\n",
    "    \n",
    "    Argument:\n",
    "    input_shape -- shape of the model's input data (using Keras conventions)\n",
    "\n",
    "    Returns:\n",
    "    model -- Keras model instance\n",
    "    \"\"\"\n",
    "    \n",
    "    X_input = Input(shape = input_shape)\n",
    "    \n",
    "    # Step 1: CONV2D layer \n",
    "    X = Conv2D(filters = 50, kernel_size = (5,5), strides=(1, 4), padding='same', data_format=\"channels_last\", activation='relu')(X_input)      # CONV2D\n",
    "    X = MaxPooling2D(pool_size=(2, 4))(X)\n",
    "    X = BatchNormalization(axis=-1)(X)                                 # Batch normalization\n",
    "    X = Dropout(rate = 0.4)(X)                                 # dropout \n",
    "\n",
    "    # Step 2: CONV2D Layer\n",
    "    X = Conv2D(filters = 100, kernel_size = (5,5), strides=(1, 2), padding='same', data_format=\"channels_last\", activation='relu')(X)      # CONV2D\n",
    "    X = MaxPooling2D(pool_size=(2, 3))(X)\n",
    "    X = BatchNormalization(axis=-1)(X)                                 # Batch normalization\n",
    "    X = Dropout(rate = 0.4)(X)                                 # dropout \n",
    "    \n",
    "#     # Step 3: CONV2D Layer\n",
    "#     X = Conv2D(filters = 128, kernel_size = (3,3), strides=(1, 1), padding='same', data_format=\"channels_last\", activation='relu')(X)      # CONV2D\n",
    "#     X = MaxPooling2D(pool_size=(2, 3))(X)\n",
    "#     X = BatchNormalization(axis=-1)(X)                                 # Batch normalization\n",
    "#     X = Dropout(rate = 0.4)(X)   # dropout \n",
    "    \n",
    "#     # Step 4: CONV2D Layer\n",
    "#     X = Conv2D(filters = 250, kernel_size = (3,3), strides=(1, 1), padding='same', data_format=\"channels_last\", activation='relu')(X)      # CONV2D\n",
    "#     X = MaxPooling2D(pool_size=(2, 2))(X)\n",
    "#     X = BatchNormalization(axis=-1)(X)                                 # Batch normalization\n",
    "#     X = Dropout(rate = 0.2)(X)   # dropout \n",
    "    \n",
    "    # Step 4: Flatten and dense layer\n",
    "    X = Flatten()(X)\n",
    "    X = Dense(5, activation = \"relu\")(X)\n",
    "    X = Dense(5, activation = \"softmax\")(X)\n",
    "\n",
    "    model = Model(inputs = X_input, outputs = X)\n",
    "    \n",
    "    return model"
   ]
  },
  {
   "cell_type": "code",
   "execution_count": 49,
   "metadata": {},
   "outputs": [
    {
     "name": "stdout",
     "output_type": "stream",
     "text": [
      "Model: \"functional_3\"\n",
      "_________________________________________________________________\n",
      "Layer (type)                 Output Shape              Param #   \n",
      "=================================================================\n",
      "input_2 (InputLayer)         [(None, 95, 2412, 1)]     0         \n",
      "_________________________________________________________________\n",
      "conv2d (Conv2D)              (None, 95, 603, 50)       1300      \n",
      "_________________________________________________________________\n",
      "max_pooling2d (MaxPooling2D) (None, 47, 150, 50)       0         \n",
      "_________________________________________________________________\n",
      "batch_normalization_3 (Batch (None, 47, 150, 50)       200       \n",
      "_________________________________________________________________\n",
      "dropout_4 (Dropout)          (None, 47, 150, 50)       0         \n",
      "_________________________________________________________________\n",
      "conv2d_1 (Conv2D)            (None, 47, 75, 100)       125100    \n",
      "_________________________________________________________________\n",
      "max_pooling2d_1 (MaxPooling2 (None, 23, 25, 100)       0         \n",
      "_________________________________________________________________\n",
      "batch_normalization_4 (Batch (None, 23, 25, 100)       400       \n",
      "_________________________________________________________________\n",
      "dropout_5 (Dropout)          (None, 23, 25, 100)       0         \n",
      "_________________________________________________________________\n",
      "flatten (Flatten)            (None, 57500)             0         \n",
      "_________________________________________________________________\n",
      "dense_1 (Dense)              (None, 5)                 287505    \n",
      "_________________________________________________________________\n",
      "dense_2 (Dense)              (None, 5)                 30        \n",
      "=================================================================\n",
      "Total params: 414,535\n",
      "Trainable params: 414,235\n",
      "Non-trainable params: 300\n",
      "_________________________________________________________________\n"
     ]
    }
   ],
   "source": [
    "model_cnn = model_cnn(input_shape = X_train_cnn[0].shape)\n",
    "model_cnn.summary()"
   ]
  },
  {
   "cell_type": "code",
   "execution_count": 50,
   "metadata": {},
   "outputs": [],
   "source": [
    "model_cnn.compile(optimizer=\"adam\",loss=\"categorical_crossentropy\",metrics=[\"accuracy\"])\n",
    "\n",
    "# log best model\n",
    "checkpoint_best     = ModelCheckpoint('model_cnn_best',   monitor='loss', verbose=0, save_best_only=True, mode='auto')\n",
    "\n",
    "# log improved model\n",
    "checkpoint_epochs   = ModelCheckpoint('model_cnn_epochs', monitor='loss', verbose=0, save_best_only=True, mode='auto')"
   ]
  },
  {
   "cell_type": "code",
   "execution_count": 51,
   "metadata": {},
   "outputs": [
    {
     "name": "stdout",
     "output_type": "stream",
     "text": [
      "Epoch 1/10\n",
      "4/4 [==============================] - ETA: 0s - loss: 2.2503 - accuracy: 0.3611 - ETA: 23s - loss: 2.3306 - accuracy: 0.333WARNING:tensorflow:From C:\\Users\\Emmanuel\\anaconda3\\lib\\site-packages\\tensorflow\\python\\training\\tracking\\tracking.py:111: Model.state_updates (from tensorflow.python.keras.engine.training) is deprecated and will be removed in a future version.\n",
      "Instructions for updating:\n",
      "This property should not be used in TensorFlow 2.0, as updates are applied automatically.\n",
      "WARNING:tensorflow:From C:\\Users\\Emmanuel\\anaconda3\\lib\\site-packages\\tensorflow\\python\\training\\tracking\\tracking.py:111: Layer.updates (from tensorflow.python.keras.engine.base_layer) is deprecated and will be removed in a future version.\n",
      "Instructions for updating:\n",
      "This property should not be used in TensorFlow 2.0, as updates are applied automatically.\n",
      "INFO:tensorflow:Assets written to: model_cnn_best\\assets\n",
      "INFO:tensorflow:Assets written to: model_cnn_epochs\\assets\n",
      "4/4 [==============================] - 223s 56s/step - loss: 2.2503 - accuracy: 0.3611 - val_loss: 1.6072 - val_accuracy: 0.4186\n",
      "Epoch 2/10\n",
      "4/4 [==============================] - ETA: 0s - loss: 1.5929 - accuracy: 0.5093 INFO:tensorflow:Assets written to: model_cnn_best\\assets\n",
      "INFO:tensorflow:Assets written to: model_cnn_epochs\\assets\n",
      "4/4 [==============================] - 146s 36s/step - loss: 1.5929 - accuracy: 0.5093 - val_loss: 1.6054 - val_accuracy: 0.5116\n",
      "Epoch 3/10\n",
      "4/4 [==============================] - 121s 30s/step - loss: 1.6987 - accuracy: 0.5139 - val_loss: 1.6032 - val_accuracy: 0.5116\n",
      "Epoch 4/10\n",
      "4/4 [==============================] - ETA: 0s - loss: 1.5264 - accuracy: 0.5139 INFO:tensorflow:Assets written to: model_cnn_best\\assets\n",
      "INFO:tensorflow:Assets written to: model_cnn_epochs\\assets\n",
      "4/4 [==============================] - 129s 32s/step - loss: 1.5264 - accuracy: 0.5139 - val_loss: 1.6010 - val_accuracy: 0.5116\n",
      "Epoch 5/10\n",
      "4/4 [==============================] - ETA: 0s - loss: 1.5181 - accuracy: 0.5139 INFO:tensorflow:Assets written to: model_cnn_best\\assets\n",
      "INFO:tensorflow:Assets written to: model_cnn_epochs\\assets\n",
      "4/4 [==============================] - 92s 23s/step - loss: 1.5181 - accuracy: 0.5139 - val_loss: 1.5988 - val_accuracy: 0.5116\n",
      "Epoch 6/10\n",
      "4/4 [==============================] - 42s 11s/step - loss: 1.5341 - accuracy: 0.5139 - val_loss: 1.5966 - val_accuracy: 0.5116\n",
      "Epoch 7/10\n",
      "4/4 [==============================] - 30s 7s/step - loss: 1.5439 - accuracy: 0.5139 - val_loss: 1.5944 - val_accuracy: 0.5116\n",
      "Epoch 8/10\n",
      "4/4 [==============================] - ETA: 0s - loss: 1.4857 - accuracy: 0.5139INFO:tensorflow:Assets written to: model_cnn_best\\assets\n",
      "INFO:tensorflow:Assets written to: model_cnn_epochs\\assets\n",
      "4/4 [==============================] - 95s 24s/step - loss: 1.4857 - accuracy: 0.5139 - val_loss: 1.5922 - val_accuracy: 0.5116\n",
      "Epoch 9/10\n",
      "4/4 [==============================] - 36s 9s/step - loss: 1.5289 - accuracy: 0.5139 - val_loss: 1.5902 - val_accuracy: 0.5116\n",
      "Epoch 10/10\n",
      "4/4 [==============================] - 23s 6s/step - loss: 1.5558 - accuracy: 0.5139 - val_loss: 1.5880 - val_accuracy: 0.5116\n"
     ]
    }
   ],
   "source": [
    "model_cnn_hist = model_cnn.fit(\n",
    "    X_train_cnn, Y_train_oh, validation_data=(\n",
    "        X_dev_cnn, Y_dev_oh), epochs = 10, batch_size = 64, shuffle = True, callbacks=[\n",
    "        early_stopping, checkpoint_best, checkpoint_epochs\n",
    "    ]\n",
    ")"
   ]
  },
  {
   "cell_type": "code",
   "execution_count": 52,
   "metadata": {},
   "outputs": [
    {
     "name": "stdout",
     "output_type": "stream",
     "text": [
      "Test loss: 1.5874887704849243\n",
      "Test accuracy: 0.5102040767669678\n"
     ]
    }
   ],
   "source": [
    "score = model_cnn.evaluate(X_test_cnn, Y_test_oh, verbose=0)\n",
    "print('Test loss:', score[0])\n",
    "print('Test accuracy:', score[1])"
   ]
  },
  {
   "cell_type": "code",
   "execution_count": 53,
   "metadata": {},
   "outputs": [
    {
     "name": "stdout",
     "output_type": "stream",
     "text": [
      "[[ 0  3  0  0  0]\n",
      " [ 0 25  0  0  0]\n",
      " [ 0 10  0  0  0]\n",
      " [ 0  6  0  0  0]\n",
      " [ 0  5  0  0  0]]\n"
     ]
    }
   ],
   "source": [
    "Y_predict = model_cnn.predict(X_test_cnn) \n",
    "confusionmatrix = metrics.confusion_matrix(Y_test_oh.argmax(axis=1), Y_predict.argmax(axis=1))\n",
    "print(confusionmatrix)\n",
    "\n",
    "# 0 = none, 1 = moderate, 2 = moderately severe, 3 = severe"
   ]
  },
  {
   "cell_type": "code",
   "execution_count": 89,
   "metadata": {},
   "outputs": [],
   "source": [
    "new_Ytest = Y_test.astype(int)"
   ]
  },
  {
   "cell_type": "code",
   "execution_count": 90,
   "metadata": {},
   "outputs": [
    {
     "data": {
      "text/plain": [
       "array([0, 0, 0, 1, 1, 1, 1, 1, 1, 1, 1, 1, 1, 1, 1, 1, 1, 1, 1, 1, 1, 1,\n",
       "       1, 1, 1, 1, 1, 1, 2, 2, 2, 2, 2, 2, 2, 2, 2, 2, 3, 3, 3, 3, 3, 3,\n",
       "       4, 4, 4, 4, 4])"
      ]
     },
     "execution_count": 90,
     "metadata": {},
     "output_type": "execute_result"
    }
   ],
   "source": [
    "new_Ytest"
   ]
  },
  {
   "cell_type": "code",
   "execution_count": 54,
   "metadata": {},
   "outputs": [
    {
     "data": {
      "text/plain": [
       "(49, 5)"
      ]
     },
     "execution_count": 54,
     "metadata": {},
     "output_type": "execute_result"
    }
   ],
   "source": [
    "Y_predict.shape\n"
   ]
  },
  {
   "cell_type": "code",
   "execution_count": 55,
   "metadata": {
    "collapsed": true
   },
   "outputs": [
    {
     "name": "stdout",
     "output_type": "stream",
     "text": [
      "[[[[0.1846595 ]\n",
      "   [0.16511181]\n",
      "   [0.30628806]\n",
      "   ...\n",
      "   [0.12701191]\n",
      "   [0.18534477]\n",
      "   [0.1057104 ]]\n",
      "\n",
      "  [[0.22757526]\n",
      "   [0.25142682]\n",
      "   [0.13884239]\n",
      "   ...\n",
      "   [0.07899508]\n",
      "   [0.14059791]\n",
      "   [0.10637975]]\n",
      "\n",
      "  [[0.254209  ]\n",
      "   [0.23977485]\n",
      "   [0.1266913 ]\n",
      "   ...\n",
      "   [0.06746898]\n",
      "   [0.07068444]\n",
      "   [0.10127655]]\n",
      "\n",
      "  ...\n",
      "\n",
      "  [[0.602483  ]\n",
      "   [0.662659  ]\n",
      "   [0.70169294]\n",
      "   ...\n",
      "   [0.70169294]\n",
      "   [0.70169294]\n",
      "   [0.5988713 ]]\n",
      "\n",
      "  [[0.60175097]\n",
      "   [0.66126275]\n",
      "   [0.70169294]\n",
      "   ...\n",
      "   [0.70169294]\n",
      "   [0.70169294]\n",
      "   [0.60249096]]\n",
      "\n",
      "  [[0.6031551 ]\n",
      "   [0.6633384 ]\n",
      "   [0.70169294]\n",
      "   ...\n",
      "   [0.70169294]\n",
      "   [0.70169294]\n",
      "   [0.60586196]]]\n",
      "\n",
      "\n",
      " [[[0.09819605]\n",
      "   [0.11485557]\n",
      "   [0.14898452]\n",
      "   ...\n",
      "   [0.10306196]\n",
      "   [0.15514947]\n",
      "   [0.22236383]]\n",
      "\n",
      "  [[0.15142599]\n",
      "   [0.15926903]\n",
      "   [0.23766449]\n",
      "   ...\n",
      "   [0.19566993]\n",
      "   [0.13486654]\n",
      "   [0.19090582]]\n",
      "\n",
      "  [[0.3975737 ]\n",
      "   [0.27234033]\n",
      "   [0.30063316]\n",
      "   ...\n",
      "   [0.02301736]\n",
      "   [0.02166098]\n",
      "   [0.04817302]]\n",
      "\n",
      "  ...\n",
      "\n",
      "  [[0.59547645]\n",
      "   [0.6564805 ]\n",
      "   [0.7217148 ]\n",
      "   ...\n",
      "   [0.7217148 ]\n",
      "   [0.54366267]\n",
      "   [0.31639406]]\n",
      "\n",
      "  [[0.596318  ]\n",
      "   [0.6561881 ]\n",
      "   [0.7217148 ]\n",
      "   ...\n",
      "   [0.7217148 ]\n",
      "   [0.5501388 ]\n",
      "   [0.32158706]]\n",
      "\n",
      "  [[0.5970364 ]\n",
      "   [0.6570985 ]\n",
      "   [0.7217148 ]\n",
      "   ...\n",
      "   [0.7217148 ]\n",
      "   [0.55545175]\n",
      "   [0.3260828 ]]]\n",
      "\n",
      "\n",
      " [[[0.17775834]\n",
      "   [0.55853444]\n",
      "   [0.30007476]\n",
      "   ...\n",
      "   [0.1293828 ]\n",
      "   [0.08863254]\n",
      "   [0.02359967]]\n",
      "\n",
      "  [[0.22164002]\n",
      "   [0.12773117]\n",
      "   [0.11648835]\n",
      "   ...\n",
      "   [0.13317372]\n",
      "   [0.1518765 ]\n",
      "   [0.04104071]]\n",
      "\n",
      "  [[0.06979495]\n",
      "   [0.06319042]\n",
      "   [0.06029844]\n",
      "   ...\n",
      "   [0.01595123]\n",
      "   [0.0088511 ]\n",
      "   [0.02175325]]\n",
      "\n",
      "  ...\n",
      "\n",
      "  [[0.5348548 ]\n",
      "   [0.5894459 ]\n",
      "   [0.684881  ]\n",
      "   ...\n",
      "   [0.684881  ]\n",
      "   [0.6189516 ]\n",
      "   [0.3882234 ]]\n",
      "\n",
      "  [[0.52409416]\n",
      "   [0.58332574]\n",
      "   [0.684881  ]\n",
      "   ...\n",
      "   [0.684881  ]\n",
      "   [0.62275034]\n",
      "   [0.39388993]]\n",
      "\n",
      "  [[0.52186185]\n",
      "   [0.58081895]\n",
      "   [0.684881  ]\n",
      "   ...\n",
      "   [0.684881  ]\n",
      "   [0.6278834 ]\n",
      "   [0.39858732]]]\n",
      "\n",
      "\n",
      " ...\n",
      "\n",
      "\n",
      " [[[0.2732123 ]\n",
      "   [0.05216033]\n",
      "   [0.16146553]\n",
      "   ...\n",
      "   [0.30203626]\n",
      "   [0.13191256]\n",
      "   [0.16479544]]\n",
      "\n",
      "  [[0.06645229]\n",
      "   [0.01300838]\n",
      "   [0.00342678]\n",
      "   ...\n",
      "   [0.02464091]\n",
      "   [0.01605098]\n",
      "   [0.04965235]]\n",
      "\n",
      "  [[0.08433791]\n",
      "   [0.01166116]\n",
      "   [0.01071652]\n",
      "   ...\n",
      "   [0.01074263]\n",
      "   [0.03446122]\n",
      "   [0.0200855 ]]\n",
      "\n",
      "  ...\n",
      "\n",
      "  [[0.51161635]\n",
      "   [0.5734173 ]\n",
      "   [0.6801276 ]\n",
      "   ...\n",
      "   [0.6801276 ]\n",
      "   [0.63154304]\n",
      "   [0.4079989 ]]\n",
      "\n",
      "  [[0.5186934 ]\n",
      "   [0.5799707 ]\n",
      "   [0.6801276 ]\n",
      "   ...\n",
      "   [0.6801276 ]\n",
      "   [0.6431702 ]\n",
      "   [0.4127972 ]]\n",
      "\n",
      "  [[0.5221971 ]\n",
      "   [0.58223414]\n",
      "   [0.6801276 ]\n",
      "   ...\n",
      "   [0.6801276 ]\n",
      "   [0.644571  ]\n",
      "   [0.41688862]]]\n",
      "\n",
      "\n",
      " [[[0.3660704 ]\n",
      "   [0.33489987]\n",
      "   [0.32447594]\n",
      "   ...\n",
      "   [0.2949296 ]\n",
      "   [0.2412809 ]\n",
      "   [0.25133786]]\n",
      "\n",
      "  [[0.51910645]\n",
      "   [0.37128   ]\n",
      "   [0.35894886]\n",
      "   ...\n",
      "   [0.30450132]\n",
      "   [0.27886754]\n",
      "   [0.3088585 ]]\n",
      "\n",
      "  [[0.4270964 ]\n",
      "   [0.4796637 ]\n",
      "   [0.4983454 ]\n",
      "   ...\n",
      "   [0.39552248]\n",
      "   [0.40157294]\n",
      "   [0.42744148]]\n",
      "\n",
      "  ...\n",
      "\n",
      "  [[0.87395257]\n",
      "   [0.87395257]\n",
      "   [0.87395257]\n",
      "   ...\n",
      "   [0.87395257]\n",
      "   [0.87395257]\n",
      "   [0.863176  ]]\n",
      "\n",
      "  [[0.87395257]\n",
      "   [0.87395257]\n",
      "   [0.87395257]\n",
      "   ...\n",
      "   [0.87395257]\n",
      "   [0.87395257]\n",
      "   [0.8543647 ]]\n",
      "\n",
      "  [[0.87395257]\n",
      "   [0.87395257]\n",
      "   [0.87395257]\n",
      "   ...\n",
      "   [0.87395257]\n",
      "   [0.87395257]\n",
      "   [0.85052484]]]\n",
      "\n",
      "\n",
      " [[[0.28884068]\n",
      "   [0.24597874]\n",
      "   [0.19992785]\n",
      "   ...\n",
      "   [0.18324265]\n",
      "   [0.16892038]\n",
      "   [0.12990874]]\n",
      "\n",
      "  [[0.44550952]\n",
      "   [0.3044701 ]\n",
      "   [0.21516399]\n",
      "   ...\n",
      "   [0.1484123 ]\n",
      "   [0.2648713 ]\n",
      "   [0.14626116]]\n",
      "\n",
      "  [[0.30759937]\n",
      "   [0.34011286]\n",
      "   [0.22633663]\n",
      "   ...\n",
      "   [0.11964937]\n",
      "   [0.12620567]\n",
      "   [0.15998402]]\n",
      "\n",
      "  ...\n",
      "\n",
      "  [[0.6831776 ]\n",
      "   [0.7430198 ]\n",
      "   [0.7806942 ]\n",
      "   ...\n",
      "   [0.7806942 ]\n",
      "   [0.7310857 ]\n",
      "   [0.50915277]]\n",
      "\n",
      "  [[0.68558824]\n",
      "   [0.7457946 ]\n",
      "   [0.7806942 ]\n",
      "   ...\n",
      "   [0.7806942 ]\n",
      "   [0.7432239 ]\n",
      "   [0.51480573]]\n",
      "\n",
      "  [[0.6890236 ]\n",
      "   [0.74908084]\n",
      "   [0.7806942 ]\n",
      "   ...\n",
      "   [0.7806942 ]\n",
      "   [0.7490909 ]\n",
      "   [0.5197971 ]]]]\n",
      "(49, 95, 2412, 1)\n"
     ]
    }
   ],
   "source": [
    "print(X_test_cnn)\n",
    "print(X_test_cnn.shape)"
   ]
  },
  {
   "cell_type": "code",
   "execution_count": 56,
   "metadata": {},
   "outputs": [
    {
     "data": {
      "text/plain": [
       "<matplotlib.axes._subplots.AxesSubplot at 0x1bd948a6250>"
      ]
     },
     "execution_count": 56,
     "metadata": {},
     "output_type": "execute_result"
    },
    {
     "data": {
      "image/png": "[encoded data removed]",
      "text/plain": [
       "<Figure size 432x288 with 2 Axes>"
      ]
     },
     "metadata": {
      "needs_background": "light"
     },
     "output_type": "display_data"
    }
   ],
   "source": [
    "sns.heatmap(confusionmatrix/np.sum(confusionmatrix), annot=True, fmt='.2%', cmap='Blues')"
   ]
  },
  {
   "cell_type": "code",
   "execution_count": 57,
   "metadata": {},
   "outputs": [
    {
     "name": "stdout",
     "output_type": "stream",
     "text": [
      "[0 0 0 0 0 0 0 0 0 0 0 0 0 0 0 0 0 0 0 0 0 0 0 0 0 0 0 0 0 0 0 0 0 0 0 0 0\n",
      " 0 0 0 0 0 0 0 0 0 0 0 0]\n"
     ]
    }
   ],
   "source": [
    "# print(Y_predict)\n",
    "predicted_classes = np.argmax(np.round(Y_predict),axis=1)\n",
    "print(predicted_classes)"
   ]
  },
  {
   "cell_type": "code",
   "execution_count": 58,
   "metadata": {},
   "outputs": [
    {
     "data": {
      "text/plain": [
       "((49,), (49, 5))"
      ]
     },
     "execution_count": 58,
     "metadata": {},
     "output_type": "execute_result"
    }
   ],
   "source": [
    "predicted_classes.shape, Y_test_oh.shape"
   ]
  },
  {
   "cell_type": "markdown",
   "metadata": {},
   "source": [
    "### Number of correct & incorrect labels"
   ]
  },
  {
   "cell_type": "code",
   "execution_count": 59,
   "metadata": {},
   "outputs": [
    {
     "name": "stdout",
     "output_type": "stream",
     "text": [
      "Found 0 correct labels\n"
     ]
    },
    {
     "name": "stderr",
     "output_type": "stream",
     "text": [
      "<ipython-input-59-4bba1e5aac5c>:1: DeprecationWarning: elementwise comparison failed; this will raise an error in the future.\n",
      "  correct = np.where(predicted_classes==Y_test_oh)[0]\n"
     ]
    }
   ],
   "source": [
    "correct = np.where(predicted_classes==Y_test_oh)[0]\n",
    "print(\"Found %d correct labels\" % len(correct))\n",
    "# for i, correct in enumerate(correct[:9]):\n",
    "#     plt.subplot(3,3,i+1)\n",
    "#     plt.imshow(X_test_cnn[correct].reshape(28,28), cmap='gray', interpolation='none')\n",
    "#     plt.title(\"Predicted {}, Class {}\".format(predicted_classes[correct], Y_predict[correct]))\n",
    "#     plt.tight_layout()"
   ]
  },
  {
   "cell_type": "code",
   "execution_count": 60,
   "metadata": {},
   "outputs": [
    {
     "name": "stdout",
     "output_type": "stream",
     "text": [
      "Found 1 incorrect labels\n"
     ]
    },
    {
     "name": "stderr",
     "output_type": "stream",
     "text": [
      "<ipython-input-60-9a086e508f57>:1: DeprecationWarning: elementwise comparison failed; this will raise an error in the future.\n",
      "  incorrect = np.where(predicted_classes!=Y_test_oh)[0]\n"
     ]
    }
   ],
   "source": [
    "incorrect = np.where(predicted_classes!=Y_test_oh)[0]\n",
    "print(\"Found %d incorrect labels\" % len(incorrect))\n",
    "# for i, incorrect in enumerate(incorrect[:9]):\n",
    "#     plt.subplot(3,3,i+1)\n",
    "#     plt.imshow(X_test_cnn[incorrect].reshape(28,28), cmap='gray', interpolation='none')\n",
    "#     plt.title(\"Predicted {}, Class {}\".format(predicted_classes[incorrect], Y_test_oh[incorrect]))\n",
    "#     plt.tight_layout()"
   ]
  },
  {
   "cell_type": "code",
   "execution_count": null,
   "metadata": {},
   "outputs": [],
   "source": []
  },
  {
   "cell_type": "code",
   "execution_count": null,
   "metadata": {},
   "outputs": [],
   "source": []
  },
  {
   "cell_type": "code",
   "execution_count": 61,
   "metadata": {},
   "outputs": [],
   "source": [
    "with open('depression-detection-extract/models/model_cnn_hist.json', 'w') as f:\n",
    "    json.dump(model_cnn_hist.history, f)\n",
    "model_cnn.save('depression-detection-extract/models/model_cnn.h5')"
   ]
  },
  {
   "cell_type": "code",
   "execution_count": 62,
   "metadata": {},
   "outputs": [
    {
     "name": "stdout",
     "output_type": "stream",
     "text": [
      "dict_keys(['loss', 'accuracy', 'val_loss', 'val_accuracy'])\n"
     ]
    }
   ],
   "source": [
    "print(model_cnn_hist.history.keys())"
   ]
  },
  {
   "cell_type": "code",
   "execution_count": 63,
   "metadata": {},
   "outputs": [],
   "source": [
    "def plot_acc(history=model_cnn_hist, title=\"Model Accuracy\"):\n",
    "    plt.plot(history.history['accuracy'])\n",
    "    plt.plot(history.history['val_accuracy'])\n",
    "    plt.title(title)\n",
    "    plt.ylabel('Accuracy')\n",
    "    plt.xlabel('Epoch')\n",
    "    plt.legend(['Train', 'Val'], loc='upper left')\n",
    "    plt.show()\n",
    "    \n",
    "def plot_loss(history, title=\"Model Loss\"):\n",
    "    plt.plot(history.history['loss'])\n",
    "    plt.plot(history.history['val_loss'])\n",
    "    plt.title(title)\n",
    "    plt.ylabel('Loss')\n",
    "    plt.xlabel('Epoch')\n",
    "    plt.legend(['Train', 'Val'], loc='upper right')\n",
    "    plt.show()\n",
    "    \n",
    "def plot_compare_losses(history1, history2, name1=\"Red 1\", name2=\"Red 2\", title=\"Losses Comparison\"):\n",
    "    plt.plot(history1.history['loss'], color=\"green\")\n",
    "    plt.plot(history1.history['val_loss'], 'r--', color=\"green\")\n",
    "    plt.plot(history2.history['loss'], color=\"blue\")\n",
    "    plt.plot(history2.history['val_loss'], 'r--', color=\"blue\")\n",
    "    plt.title(title)\n",
    "    plt.ylabel('Loss')\n",
    "    plt.xlabel('Epoch')\n",
    "    plt.legend(['Train ' + name1, 'Val ' + name1, \n",
    "                'Train ' + name2, 'Val ' + name2],\n",
    "               loc='upper right')\n",
    "    plt.show()\n",
    "    \n",
    "def plot_compare_accs(history1, history2, name1=\"Red 1\",\n",
    "                      name2=\"Red 2\", title=\"Accuracy Comparison\"):\n",
    "    \"\"\"Compare Accuracies of Two Trainings with Names Name1 and Name2\"\"\"\n",
    "    plt.plot(history1.history['accuracy'], color=\"green\")\n",
    "    plt.plot(history1.history['val_accuracy'], 'r--', color=\"green\")\n",
    "    plt.plot(history2.history['accuracy'], color=\"blue\")\n",
    "    plt.plot(history2.history['val_accuracy'], 'r--', color=\"blue\")\n",
    "    plt.title(title)\n",
    "    plt.ylabel('Accuracy')\n",
    "    plt.xlabel('Epoch')\n",
    "    plt.legend(['Train ' + name1, 'Val ' + name1, \n",
    "                'Train ' + name2, 'Val ' + name2], \n",
    "               loc='lower right')\n",
    "    plt.show()\n",
    "\n",
    "def plot_compare_multiple_metrics(history_array, names, colors, title=\"Multiple metrics\", metric='accuracy'):  \n",
    "    legend = []\n",
    "    for i in range(0, len(history_array)):\n",
    "        plt.plot(history_array[i].history[metric], color=colors[i])\n",
    "        plt.plot(history_array[i].history['val_' + metric], 'r--', color=colors[i])\n",
    "        legend.append('Train ' + names[i])\n",
    "        legend.append('Val ' + names[i])\n",
    "    \n",
    "    plt.title(title)\n",
    "    plt.ylabel('Accuracy')\n",
    "    plt.xlabel('Epoch')   \n",
    "    plt.axis\n",
    "    plt.legend(legend, \n",
    "               loc='lower right')\n",
    "    plt.show()"
   ]
  },
  {
   "cell_type": "code",
   "execution_count": 64,
   "metadata": {},
   "outputs": [
    {
     "data": {
      "image/png": "[encoded data removed]",
      "text/plain": [
       "<Figure size 432x288 with 1 Axes>"
      ]
     },
     "metadata": {
      "needs_background": "light"
     },
     "output_type": "display_data"
    },
    {
     "data": {
      "image/png": "[encoded data removed]",
      "text/plain": [
       "<Figure size 432x288 with 1 Axes>"
      ]
     },
     "metadata": {
      "needs_background": "light"
     },
     "output_type": "display_data"
    }
   ],
   "source": [
    "plot_acc(model_cnn_hist)\n",
    "plot_loss(model_cnn_hist)"
   ]
  },
  {
   "cell_type": "code",
   "execution_count": null,
   "metadata": {},
   "outputs": [],
   "source": [
    "plot_compare_losses(model_2gru_hist, model_cnn_hist)"
   ]
  },
  {
   "cell_type": "code",
   "execution_count": null,
   "metadata": {},
   "outputs": [],
   "source": [
    "plot_compare_accs(model_2gru_hist, model_cnn_hist)"
   ]
  },
  {
   "cell_type": "code",
   "execution_count": null,
   "metadata": {},
   "outputs": [],
   "source": [
    "plot_compare_multiple_metrics([model_2gru_hist], names=[\"1\", \"2\", \"3\", \"4\"], colors=[\"purple\"])"
   ]
  },
  {
   "cell_type": "markdown",
   "metadata": {},
   "source": [
    "### Converting model to tflite format (for use on mobile)"
   ]
  },
  {
   "cell_type": "code",
   "execution_count": 114,
   "metadata": {},
   "outputs": [
    {
     "name": "stdout",
     "output_type": "stream",
     "text": [
      "INFO:tensorflow:Assets written to: C:\\Users\\Emmanuel\\AppData\\Local\\Temp\\tmp7a2bnmra\\assets\n"
     ]
    },
    {
     "data": {
      "text/plain": [
       "1661216"
      ]
     },
     "execution_count": 114,
     "metadata": {},
     "output_type": "execute_result"
    }
   ],
   "source": [
    "from tensorflow import lite\n",
    "\n",
    "converter = lite.TFLiteConverter.from_keras_model(model_cnn)\n",
    "tfmodel = converter.convert()\n",
    "open(\"depression-detection-extract/models/model.tflite\", \"wb\").write(tfmodel)\n"
   ]
  },
  {
   "cell_type": "markdown",
   "metadata": {},
   "source": [
    "### Reloading the model to test it"
   ]
  },
  {
   "cell_type": "code",
   "execution_count": 93,
   "metadata": {},
   "outputs": [
    {
     "name": "stdout",
     "output_type": "stream",
     "text": [
      "Model: \"functional_3\"\n",
      "_________________________________________________________________\n",
      "Layer (type)                 Output Shape              Param #   \n",
      "=================================================================\n",
      "input_2 (InputLayer)         [(None, 95, 2412, 1)]     0         \n",
      "_________________________________________________________________\n",
      "conv2d (Conv2D)              (None, 95, 603, 50)       1300      \n",
      "_________________________________________________________________\n",
      "max_pooling2d (MaxPooling2D) (None, 47, 150, 50)       0         \n",
      "_________________________________________________________________\n",
      "batch_normalization_3 (Batch (None, 47, 150, 50)       200       \n",
      "_________________________________________________________________\n",
      "dropout_4 (Dropout)          (None, 47, 150, 50)       0         \n",
      "_________________________________________________________________\n",
      "conv2d_1 (Conv2D)            (None, 47, 75, 100)       125100    \n",
      "_________________________________________________________________\n",
      "max_pooling2d_1 (MaxPooling2 (None, 23, 25, 100)       0         \n",
      "_________________________________________________________________\n",
      "batch_normalization_4 (Batch (None, 23, 25, 100)       400       \n",
      "_________________________________________________________________\n",
      "dropout_5 (Dropout)          (None, 23, 25, 100)       0         \n",
      "_________________________________________________________________\n",
      "flatten (Flatten)            (None, 57500)             0         \n",
      "_________________________________________________________________\n",
      "dense_1 (Dense)              (None, 5)                 287505    \n",
      "_________________________________________________________________\n",
      "dense_2 (Dense)              (None, 5)                 30        \n",
      "=================================================================\n",
      "Total params: 414,535\n",
      "Trainable params: 414,235\n",
      "Non-trainable params: 300\n",
      "_________________________________________________________________\n"
     ]
    }
   ],
   "source": [
    "loaded_model = keras.models.load_model('depression-detection-extract/models/model_cnn.h5')\n",
    "loaded_model.summary()"
   ]
  },
  {
   "cell_type": "code",
   "execution_count": 96,
   "metadata": {},
   "outputs": [
    {
     "name": "stdout",
     "output_type": "stream",
     "text": [
      "2/2 [==============================] - 1s 380ms/step - loss: 1.5875 - accuracy: 0.5102\n",
      "Restored model, accuracy: 51.02%\n"
     ]
    }
   ],
   "source": [
    "loss, acc = loaded_model.evaluate(X_test_cnn, Y_test_oh)\n",
    "print(\"Restored model, accuracy: {:5.2f}%\".format(100*acc))"
   ]
  },
  {
   "cell_type": "code",
   "execution_count": 112,
   "metadata": {},
   "outputs": [
    {
     "ename": "AttributeError",
     "evalue": "'str' object has no attribute 'call'",
     "output_type": "error",
     "traceback": [
      "\u001b[1;31m---------------------------------------------------------------------------\u001b[0m",
      "\u001b[1;31mAttributeError\u001b[0m                            Traceback (most recent call last)",
      "\u001b[1;32m<ipython-input-112-3c9362de8979>\u001b[0m in \u001b[0;36m<module>\u001b[1;34m\u001b[0m\n\u001b[0;32m      3\u001b[0m \u001b[1;33m\u001b[0m\u001b[0m\n\u001b[0;32m      4\u001b[0m \u001b[0mconverter\u001b[0m \u001b[1;33m=\u001b[0m \u001b[0mlite\u001b[0m\u001b[1;33m.\u001b[0m\u001b[0mTFLiteConverter\u001b[0m\u001b[1;33m.\u001b[0m\u001b[0mfrom_keras_model\u001b[0m\u001b[1;33m(\u001b[0m\u001b[1;34m'model_cnn.h5'\u001b[0m\u001b[1;33m)\u001b[0m \u001b[1;31m# Your model's name\u001b[0m\u001b[1;33m\u001b[0m\u001b[1;33m\u001b[0m\u001b[0m\n\u001b[1;32m----> 5\u001b[1;33m \u001b[0mmodel\u001b[0m \u001b[1;33m=\u001b[0m \u001b[0mconverter\u001b[0m\u001b[1;33m.\u001b[0m\u001b[0mconvert\u001b[0m\u001b[1;33m(\u001b[0m\u001b[1;33m)\u001b[0m\u001b[1;33m\u001b[0m\u001b[1;33m\u001b[0m\u001b[0m\n\u001b[0m\u001b[0;32m      6\u001b[0m \u001b[0mfile\u001b[0m \u001b[1;33m=\u001b[0m \u001b[0mopen\u001b[0m\u001b[1;33m(\u001b[0m\u001b[1;34m'model.tflite'\u001b[0m \u001b[1;33m,\u001b[0m \u001b[1;34m'wb'\u001b[0m\u001b[1;33m)\u001b[0m\u001b[1;33m\u001b[0m\u001b[1;33m\u001b[0m\u001b[0m\n\u001b[0;32m      7\u001b[0m \u001b[0mfile\u001b[0m\u001b[1;33m.\u001b[0m\u001b[0mwrite\u001b[0m\u001b[1;33m(\u001b[0m \u001b[0mmodel\u001b[0m \u001b[1;33m)\u001b[0m\u001b[1;33m\u001b[0m\u001b[1;33m\u001b[0m\u001b[0m\n",
      "\u001b[1;32m~\\anaconda3\\lib\\site-packages\\tensorflow\\lite\\python\\lite.py\u001b[0m in \u001b[0;36mconvert\u001b[1;34m(self)\u001b[0m\n\u001b[0;32m    795\u001b[0m     \u001b[1;31m# to None.\u001b[0m\u001b[1;33m\u001b[0m\u001b[1;33m\u001b[0m\u001b[1;33m\u001b[0m\u001b[0m\n\u001b[0;32m    796\u001b[0m     \u001b[1;31m# Once we have better support for dynamic shapes, we can remove this.\u001b[0m\u001b[1;33m\u001b[0m\u001b[1;33m\u001b[0m\u001b[1;33m\u001b[0m\u001b[0m\n\u001b[1;32m--> 797\u001b[1;33m     \u001b[1;32mif\u001b[0m \u001b[1;32mnot\u001b[0m \u001b[0misinstance\u001b[0m\u001b[1;33m(\u001b[0m\u001b[0mself\u001b[0m\u001b[1;33m.\u001b[0m\u001b[0m_keras_model\u001b[0m\u001b[1;33m.\u001b[0m\u001b[0mcall\u001b[0m\u001b[1;33m,\u001b[0m \u001b[0m_def_function\u001b[0m\u001b[1;33m.\u001b[0m\u001b[0mFunction\u001b[0m\u001b[1;33m)\u001b[0m\u001b[1;33m:\u001b[0m\u001b[1;33m\u001b[0m\u001b[1;33m\u001b[0m\u001b[0m\n\u001b[0m\u001b[0;32m    798\u001b[0m       \u001b[1;31m# Pass `keep_original_batch_size=True` will ensure that we get an input\u001b[0m\u001b[1;33m\u001b[0m\u001b[1;33m\u001b[0m\u001b[1;33m\u001b[0m\u001b[0m\n\u001b[0;32m    799\u001b[0m       \u001b[1;31m# signature including the batch dimension specified by the user.\u001b[0m\u001b[1;33m\u001b[0m\u001b[1;33m\u001b[0m\u001b[1;33m\u001b[0m\u001b[0m\n",
      "\u001b[1;31mAttributeError\u001b[0m: 'str' object has no attribute 'call'"
     ]
    }
   ],
   "source": [
    "from tensorflow import lite\n",
    "import tensorflow as tf\n",
    "\n",
    "converter = lite.TFLiteConverter.from_keras_model('model_cnn.h5') # Your model's name\n",
    "model = converter.convert()\n",
    "file = open('model.tflite' , 'wb') \n",
    "file.write( model )"
   ]
  },
  {
   "cell_type": "code",
   "execution_count": null,
   "metadata": {},
   "outputs": [],
   "source": []
  }
 ],
 "metadata": {
  "kernelspec": {
   "display_name": "Python 3",
   "language": "python",
   "name": "python3"
  },
  "language_info": {
   "codemirror_mode": {
    "name": "ipython",
    "version": 3
   },
   "file_extension": ".py",
   "mimetype": "text/x-python",
   "name": "python",
   "nbconvert_exporter": "python",
   "pygments_lexer": "ipython3",
   "version": "3.7.4"
  }
 },
 "nbformat": 4,
 "nbformat_minor": 4
}
