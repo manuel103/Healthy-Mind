{
  "cells": [
    {
      "cell_type": "code",
      "source": [
        "pip install librosa"
      ],
      "outputs": [],
      "execution_count": null,
      "metadata": {
        "collapsed": true,
        "jupyter": {
          "source_hidden": false,
          "outputs_hidden": false
        },
        "nteract": {
          "transient": {
            "deleting": false
          }
        },
        "gather": {
          "logged": 1612874591455
        }
      }
    },
    {
      "cell_type": "code",
      "source": [
        "from pydub import AudioSegment\r\n",
        "from scipy import signal\r\n",
        "from sklearn.utils import shuffle\r\n",
        "import re\r\n",
        "import pandas as pd\r\n",
        "import numpy as np\r\n",
        "import statistics as stats\r\n",
        "import matplotlib.pyplot as plt\r\n",
        "from scipy import signal\r\n",
        "from scipy.io import wavfile\r\n",
        "import librosa\r\n",
        "from librosa import display\r\n",
        "from sklearn.metrics import confusion_matrix\r\n",
        "import keras\r\n",
        "from keras.models import Sequential, Model\r\n",
        "from keras.layers import Dense, Dropout, Flatten, BatchNormalization, Embedding, Activation\r\n",
        "from keras.layers import Conv1D, Conv2D, MaxPooling2D, ConvLSTM2D, LSTM, Bidirectional, GRU, TimeDistributed\r\n",
        "from keras.optimizers import *\r\n",
        "from keras.engine.input_layer import Input\r\n",
        "from keras.callbacks import EarlyStopping, ModelCheckpoint\r\n",
        "import tensorflow as tf\r\n",
        "import itertools\r\n",
        "import math\r\n",
        "import time\r\n",
        "import os\r\n",
        "import json"
      ],
      "outputs": [
        {
          "output_type": "stream",
          "name": "stderr",
          "text": [
            "/anaconda/envs/azureml_py36/lib/python3.6/site-packages/pydub/utils.py:170: RuntimeWarning: Couldn't find ffmpeg or avconv - defaulting to ffmpeg, but may not work\n",
            "  warn(\"Couldn't find ffmpeg or avconv - defaulting to ffmpeg, but may not work\", RuntimeWarning)\n"
          ]
        }
      ],
      "execution_count": 2,
      "metadata": {
        "collapsed": true,
        "jupyter": {
          "source_hidden": false,
          "outputs_hidden": false
        },
        "nteract": {
          "transient": {
            "deleting": false
          }
        },
        "gather": {
          "logged": 1612874593887
        }
      }
    },
    {
      "cell_type": "code",
      "source": [
        "# Extract the files\r\n",
        "\r\n",
        "import fnmatch\r\n",
        "import os\r\n",
        "import zipfile\r\n",
        "\"\"\"\r\n",
        "    A script that takes in a zip file and extracts the .wav file and\r\n",
        "    transcript.csv files into separate folders in the specified directory.\r\n",
        "\"\"\"\r\n",
        "\r\n",
        "\r\n",
        "def extract_files(zip_file, out_dir, delete_zip=False):\r\n",
        " \r\n",
        "    # create audio directory\r\n",
        "    audio_dir = os.path.join(out_dir, 'audio')\r\n",
        "    if not os.path.exists(audio_dir):\r\n",
        "        os.makedirs(audio_dir)\r\n",
        "\r\n",
        "    # create transcripts directory\r\n",
        "    transcripts_dir = os.path.join(out_dir, 'transcripts')\r\n",
        "    if not os.path.exists(audio_dir):\r\n",
        "        os.makedirs(transcripts_dir)\r\n",
        "\r\n",
        "    zip_ref = zipfile.ZipFile(zip_file)\r\n",
        "    for f in zip_ref.namelist():  # iterate through files in zip file\r\n",
        "        if f.endswith('.wav'):\r\n",
        "            zip_ref.extract(f, audio_dir)\r\n",
        "        elif fnmatch.fnmatch(f, '*TRANSCRIPT.csv'):\r\n",
        "            zip_ref.extract(f, transcripts_dir)\r\n",
        "    zip_ref.close()\r\n",
        "\r\n",
        "    if delete_zip:\r\n",
        "        os.remove(zip_file)\r\n",
        "\r\n",
        "\r\n",
        "if __name__ == '__main__':\r\n",
        "    # directory containing DAIC-WOZ zip files\r\n",
        "    dir_name = '../../Users/amaniusagi/'\r\n",
        "\r\n",
        "    # directory where audio and transcripts folders will be created\r\n",
        "    out_dir = './depression-detection-extract/data/raw'\r\n",
        "\r\n",
        "    # delete zip file after file wav and csv extraction. Set to true if you want to delete, otherwise, false.\r\n",
        "    delete_zip = True\r\n",
        "\r\n",
        "    # iterate through zip files in dir_name and extracts wav and transcripts\r\n",
        "    for file in os.listdir(dir_name):\r\n",
        "        if file.endswith('.zip'):\r\n",
        "            zip_file = os.path.join(dir_name, file)\r\n",
        "            extract_files(zip_file, out_dir, delete_zip=delete_zip)"
      ],
      "outputs": [],
      "execution_count": 3,
      "metadata": {
        "collapsed": true,
        "jupyter": {
          "source_hidden": false,
          "outputs_hidden": false
        },
        "nteract": {
          "transient": {
            "deleting": false
          }
        },
        "gather": {
          "logged": 1612874594179
        }
      }
    },
    {
      "cell_type": "code",
      "source": [
        "# Function definition to calculate spectograms and confussion matrix\r\n",
        "\r\n",
        "num_classes = 5\r\n",
        "data_path = \"./depression-detection-extract/data/raw/transcripts/\"\r\n",
        "audio_path = \"./depression-detection-extract/data/raw/audio/\"\r\n",
        "\r\n",
        "SR = 22050\r\n",
        "def get_short_time_fourier_transform(soundwave):\r\n",
        "    return librosa.stft(soundwave, n_fft=256)\r\n",
        "\r\n",
        "def short_time_fourier_transform_amplitude_to_db(stft):\r\n",
        "    return librosa.amplitude_to_db(np.abs(stft))\r\n",
        "\r\n",
        "def soundwave_to_np_spectrogram(soundwave):\r\n",
        "    step1 = get_short_time_fourier_transform(soundwave)\r\n",
        "    step2 = short_time_fourier_transform_amplitude_to_db(step1)\r\n",
        "    step3 = step2/100\r\n",
        "    return step3\r\n",
        "\r\n",
        "def inspect_data(sound):\r\n",
        "    a = get_short_time_fourier_transform(sound)\r\n",
        "    Xdb = short_time_fourier_transform_amplitude_to_db(a)\r\n",
        "    return Xdb"
      ],
      "outputs": [],
      "execution_count": 4,
      "metadata": {
        "collapsed": true,
        "jupyter": {
          "source_hidden": false,
          "outputs_hidden": false
        },
        "nteract": {
          "transient": {
            "deleting": false
          }
        },
        "gather": {
          "logged": 1612874594504
        }
      }
    },
    {
      "cell_type": "code",
      "source": [
        "def confusion_matrix(model, x, y):\r\n",
        "    prediction = model.predict(x, batch_size=None, verbose=0, steps=None)\r\n",
        "    labels=['none','mild','moderate','moderately severe', 'severe']\r\n",
        "\r\n",
        "    max_prediction = np.argmax(prediction, axis=1)\r\n",
        "    max_actual = np.argmax(y, axis=1)\r\n",
        "\r\n",
        "    y_pred = pd.Categorical.from_codes(max_prediction, labels)\r\n",
        "    y_actu = pd.Categorical.from_codes(max_actual, labels)\r\n",
        "\r\n",
        "    return pd.crosstab(y_actu, y_pred)"
      ],
      "outputs": [],
      "execution_count": 5,
      "metadata": {
        "collapsed": true,
        "jupyter": {
          "source_hidden": false,
          "outputs_hidden": false
        },
        "nteract": {
          "transient": {
            "deleting": false
          }
        },
        "gather": {
          "logged": 1612874595011
        }
      }
    },
    {
      "cell_type": "code",
      "source": [
        "def load_avec_dataset_file(path, score_column):\r\n",
        "    ds = pd.read_csv(path, sep=',')\r\n",
        "    ds['level'] = pd.cut(ds[score_column], bins=[-1,0,5,10,15,25], labels=[0,1,2,3,4])\r\n",
        "    ds['PHQ8_Score'] = ds[score_column]\r\n",
        "    ds['cat_level'] = keras.utils.to_categorical(ds['level'], num_classes).tolist()\r\n",
        "    ds = ds[['Participant_ID', 'level', 'cat_level', 'PHQ8_Score']]\r\n",
        "    ds = ds.astype({\"Participant_ID\": float, \"level\": int, 'PHQ8_Score': int})\r\n",
        "    return ds"
      ],
      "outputs": [],
      "execution_count": 6,
      "metadata": {
        "collapsed": true,
        "jupyter": {
          "source_hidden": false,
          "outputs_hidden": false
        },
        "nteract": {
          "transient": {
            "deleting": false
          }
        },
        "gather": {
          "logged": 1612874595291
        }
      }
    },
    {
      "cell_type": "code",
      "source": [
        "# Split 70, 14 and 16 for training, dev & test\r\n",
        "\r\n",
        "train = load_avec_dataset_file('./depression-detection-extract/data/train_split_Depression_AVEC2017.csv', 'PHQ8_Score')\r\n",
        "dev = load_avec_dataset_file('./depression-detection-extract/data/dev_split_Depression_AVEC2017.csv', 'PHQ8_Score')\r\n",
        "test = load_avec_dataset_file('./depression-detection-extract/data/full_test_split.csv', 'PHQ_Score')\r\n",
        "print(\"Size: train= {}, dev= {}, test= {}\".format(len(train), len(dev), len(test)))\r\n",
        "train.head()\r\n"
      ],
      "outputs": [
        {
          "output_type": "stream",
          "name": "stdout",
          "text": [
            "Size: train= 107, dev= 35, test= 47\n"
          ]
        },
        {
          "output_type": "execute_result",
          "execution_count": 7,
          "data": {
            "text/plain": "   Participant_ID  level                  cat_level  PHQ8_Score\n0           303.0      0  [1.0, 0.0, 0.0, 0.0, 0.0]           0\n1           304.0      2  [0.0, 0.0, 1.0, 0.0, 0.0]           6\n2           305.0      2  [0.0, 0.0, 1.0, 0.0, 0.0]           7\n3           310.0      1  [0.0, 1.0, 0.0, 0.0, 0.0]           4\n4           312.0      1  [0.0, 1.0, 0.0, 0.0, 0.0]           2",
            "text/html": "<div>\n<style scoped>\n    .dataframe tbody tr th:only-of-type {\n        vertical-align: middle;\n    }\n\n    .dataframe tbody tr th {\n        vertical-align: top;\n    }\n\n    .dataframe thead th {\n        text-align: right;\n    }\n</style>\n<table border=\"1\" class=\"dataframe\">\n  <thead>\n    <tr style=\"text-align: right;\">\n      <th></th>\n      <th>Participant_ID</th>\n      <th>level</th>\n      <th>cat_level</th>\n      <th>PHQ8_Score</th>\n    </tr>\n  </thead>\n  <tbody>\n    <tr>\n      <th>0</th>\n      <td>303.0</td>\n      <td>0</td>\n      <td>[1.0, 0.0, 0.0, 0.0, 0.0]</td>\n      <td>0</td>\n    </tr>\n    <tr>\n      <th>1</th>\n      <td>304.0</td>\n      <td>2</td>\n      <td>[0.0, 0.0, 1.0, 0.0, 0.0]</td>\n      <td>6</td>\n    </tr>\n    <tr>\n      <th>2</th>\n      <td>305.0</td>\n      <td>2</td>\n      <td>[0.0, 0.0, 1.0, 0.0, 0.0]</td>\n      <td>7</td>\n    </tr>\n    <tr>\n      <th>3</th>\n      <td>310.0</td>\n      <td>1</td>\n      <td>[0.0, 1.0, 0.0, 0.0, 0.0]</td>\n      <td>4</td>\n    </tr>\n    <tr>\n      <th>4</th>\n      <td>312.0</td>\n      <td>1</td>\n      <td>[0.0, 1.0, 0.0, 0.0, 0.0]</td>\n      <td>2</td>\n    </tr>\n  </tbody>\n</table>\n</div>"
          },
          "metadata": {}
        }
      ],
      "execution_count": 7,
      "metadata": {
        "collapsed": true,
        "jupyter": {
          "source_hidden": false,
          "outputs_hidden": false
        },
        "nteract": {
          "transient": {
            "deleting": false
          }
        },
        "gather": {
          "logged": 1612874595602
        }
      }
    },
    {
      "cell_type": "markdown",
      "source": [
        "### **Audio segmentation & speaker diarization**"
      ],
      "metadata": {
        "nteract": {
          "transient": {
            "deleting": false
          }
        }
      }
    },
    {
      "cell_type": "code",
      "source": [
        "ds_total = pd.concat([train,dev,test])\r\n",
        "total_phq8 = len(ds_total)\r\n",
        "print(\"Total size = {}\".format(total_phq8))"
      ],
      "outputs": [
        {
          "output_type": "stream",
          "name": "stdout",
          "text": [
            "Total size = 189\n"
          ]
        }
      ],
      "execution_count": 8,
      "metadata": {
        "collapsed": true,
        "jupyter": {
          "source_hidden": false,
          "outputs_hidden": false
        },
        "nteract": {
          "transient": {
            "deleting": false
          }
        },
        "gather": {
          "logged": 1612874595863
        }
      }
    },
    {
      "cell_type": "code",
      "source": [
        "ds_total.to_csv(data_path + 'ds_total.csv', sep='\\t')\r\n",
        "print(\"File created\")"
      ],
      "outputs": [
        {
          "output_type": "stream",
          "name": "stdout",
          "text": [
            "File created\n"
          ]
        }
      ],
      "execution_count": 9,
      "metadata": {
        "collapsed": true,
        "jupyter": {
          "source_hidden": false,
          "outputs_hidden": false
        },
        "nteract": {
          "transient": {
            "deleting": false
          }
        },
        "gather": {
          "logged": 1612874596127
        }
      }
    },
    {
      "cell_type": "markdown",
      "source": [
        "### **Removing Ellie's voice from the interview audio data**"
      ],
      "metadata": {
        "nteract": {
          "transient": {
            "deleting": false
          }
        }
      }
    },
    {
      "cell_type": "code",
      "source": [
        "# Segmenting the audio for each paricipant\r\n",
        "\r\n",
        "\"\"\"\r\n",
        "The segmentation is done using the transcripts that the database provides for each participant.\r\n",
        "We use the provided transcripts to diarize out the virtual interviewer's voice.\r\n",
        "This is done to achieve better performance in the training and validation of the system\r\n",
        "\"\"\"\r\n",
        "\r\n",
        "# Segment the audio using the time info of the transcript of each participant, also concatenate\r\n",
        "# each segmented audio to the end of the sums of all audios, to create a .wav that only contains\r\n",
        "# the audio from the particpant. The audio from the interviewer gets erased using this segmentation.\r\n",
        "\r\n",
        "def segment_audio(ds_total, transcript_directory, audio_directory, audio_output_dir):\r\n",
        "    input_array = []\r\n",
        "    person_id_list = []\r\n",
        "    level_array = []\r\n",
        "    \r\n",
        "    filenames = os.listdir(transcript_directory)\r\n",
        "    \r\n",
        "    if \".DS_Store\" in filenames:\r\n",
        "        filenames.remove(\".DS_Store\")\r\n",
        "        \r\n",
        "    for filename in filenames:\r\n",
        "        transcript_path = os.path.join(transcript_directory, filename)\r\n",
        "        transcript = pd.read_csv(transcript_path, sep='\\t')\r\n",
        "        m = re.search(\"(\\d{3})_TRANSCRIPT.csv\", filename)\r\n",
        "        if m:\r\n",
        "            person_id = int(m.group(1))            \r\n",
        "            person_audio = AudioSegment.from_wav(audio_directory \r\n",
        "                                             + str(person_id) + '_AUDIO.wav')\r\n",
        "            lines = len(transcript)\r\n",
        "            combined_sounds = AudioSegment.empty()\r\n",
        "            for i in range(0, lines):\r\n",
        "                row = transcript.iloc[i]\r\n",
        "                if row[\"speaker\"] == \"Participant\":\r\n",
        "                    t1 = int(float(row[\"start_time\"]) * 1000)\r\n",
        "                    t2 = int(float(row[\"stop_time\"]) * 1000)\r\n",
        "                    newAudio = person_audio[t1:t2]\r\n",
        "                    combined_sounds += newAudio\r\n",
        "                    \r\n",
        "            combined_sounds.export(audio_output_dir + str(person_id) + '.wav', format=\"wav\")\r\n",
        "\r\n",
        "            w = AudioSegment.from_wav(audio_output_dir + str(person_id) + '.wav')\r\n",
        "            input_array.append(w)\r\n",
        "            person_id_list.append(person_id)\r\n",
        "            level_array.append(ds_total.loc[ds_total[\"Participant_ID\"] == person_id, \"level\"].item())\r\n",
        "    print(\"Segmentation complete!\")\r\n",
        "            \r\n",
        "    return input_array, person_id_list, level_array"
      ],
      "outputs": [],
      "execution_count": 10,
      "metadata": {
        "collapsed": true,
        "jupyter": {
          "source_hidden": false,
          "outputs_hidden": false
        },
        "nteract": {
          "transient": {
            "deleting": false
          }
        },
        "gather": {
          "logged": 1612874596407
        }
      }
    },
    {
      "cell_type": "code",
      "source": [
        "input_array, person_id_list, level_array = segment_audio (ds_total, data_path , audio_path, \"./depression-detection-extract/data/segmented_audio/\")"
      ],
      "outputs": [
        {
          "output_type": "stream",
          "name": "stderr",
          "text": [
            "/anaconda/envs/azureml_py36/lib/python3.6/site-packages/ipykernel_launcher.py:46: FutureWarning: `item` has been deprecated and will be removed in a future version\n"
          ]
        },
        {
          "output_type": "stream",
          "name": "stdout",
          "text": [
            "Segmentation complete!\n"
          ]
        }
      ],
      "execution_count": 11,
      "metadata": {
        "collapsed": true,
        "jupyter": {
          "source_hidden": false,
          "outputs_hidden": false
        },
        "nteract": {
          "transient": {
            "deleting": false
          }
        },
        "gather": {
          "logged": 1612874983349
        }
      }
    },
    {
      "cell_type": "markdown",
      "source": [
        "### **Visualizing sample patient's MFCC**"
      ],
      "metadata": {
        "nteract": {
          "transient": {
            "deleting": false
          }
        }
      }
    },
    {
      "cell_type": "code",
      "source": [
        "from scipy.io import wavfile as wav\r\n",
        "from scipy.fftpack import fft\r\n",
        "import numpy as np\r\n",
        "rate, data = wav.read('./depression-detection-extract/data/segmented_audio/300.wav')\r\n",
        "fft_out = fft(data)\r\n",
        "%matplotlib inline\r\n",
        "plt.plot(data, np.abs(fft_out))\r\n",
        "plt.show()"
      ],
      "outputs": [
        {
          "output_type": "display_data",
          "data": {
            "text/plain": "<Figure size 432x288 with 1 Axes>",
            "image/png": "[encoded data removed]"
          },
          "metadata": {
            "needs_background": "light"
          }
        }
      ],
      "execution_count": 12,
      "metadata": {
        "collapsed": true,
        "jupyter": {
          "source_hidden": false,
          "outputs_hidden": false
        },
        "nteract": {
          "transient": {
            "deleting": false
          }
        },
        "gather": {
          "logged": 1612874986494
        }
      }
    },
    {
      "cell_type": "code",
      "source": [
        "from python_speech_features import mfcc\r\n",
        "from matplotlib import cm\r\n",
        "\r\n",
        "(rate,sig) = wav.read(\"./depression-detection-extract/data/segmented_audio/300.wav\")\r\n",
        "mfcc_feat = mfcc(sig,rate)\r\n",
        "\r\n",
        "ig, ax = plt.subplots()\r\n",
        "mfcc_data= np.swapaxes(mfcc_feat, 0 ,1)\r\n",
        "cax = ax.imshow(mfcc_data, interpolation='nearest', cmap=cm.coolwarm, origin='lower', aspect='auto')\r\n",
        "ax.set_title('MFCC')\r\n",
        "#Showing mfcc_data\r\n",
        "plt.show()\r\n",
        "#Showing mfcc_feat\r\n",
        "plt.plot(mfcc_feat)\r\n",
        "plt.show()"
      ],
      "outputs": [
        {
          "output_type": "display_data",
          "data": {
            "text/plain": "<Figure size 432x288 with 1 Axes>",
            "image/png": "[encoded data removed]"
          },
          "metadata": {
            "needs_background": "light"
          }
        },
        {
          "output_type": "display_data",
          "data": {
            "text/plain": "<Figure size 432x288 with 1 Axes>",
            "image/png": "[encoded data removed]"
          },
          "metadata": {
            "needs_background": "light"
          }
        }
      ],
      "execution_count": 13,
      "metadata": {
        "collapsed": true,
        "jupyter": {
          "source_hidden": false,
          "outputs_hidden": false
        },
        "nteract": {
          "transient": {
            "deleting": false
          }
        },
        "gather": {
          "logged": 1612874987432
        }
      }
    },
    {
      "cell_type": "code",
      "source": [
        "import matplotlib.pyplot as plt\r\n",
        "import numpy as np\r\n",
        "import wave\r\n",
        "import sys\r\n",
        "\r\n",
        "\r\n",
        "spf = wave.open(\"./depression-detection-extract/data/segmented_audio/300.wav\", \"r\")\r\n",
        "\r\n",
        "# Extract Raw Audio from Wav File\r\n",
        "signal = spf.readframes(-1)\r\n",
        "signal = np.fromstring(signal, \"Int16\")\r\n",
        "\r\n",
        "\r\n",
        "plt.figure(1)\r\n",
        "plt.title(\"Signal Wave as Time Series\")\r\n",
        "plt.plot(signal)\r\n",
        "plt.show()"
      ],
      "outputs": [
        {
          "output_type": "stream",
          "name": "stderr",
          "text": [
            "/anaconda/envs/azureml_py36/lib/python3.6/site-packages/ipykernel_launcher.py:11: DeprecationWarning: Numeric-style type codes are deprecated and will result in an error in the future.\n",
            "  # This is added back by InteractiveShellApp.init_path()\n",
            "/anaconda/envs/azureml_py36/lib/python3.6/site-packages/ipykernel_launcher.py:11: DeprecationWarning: The binary mode of fromstring is deprecated, as it behaves surprisingly on unicode inputs. Use frombuffer instead\n",
            "  # This is added back by InteractiveShellApp.init_path()\n"
          ]
        },
        {
          "output_type": "display_data",
          "data": {
            "text/plain": "<Figure size 432x288 with 1 Axes>",
            "image/png": "[encoded data removed]"
          },
          "metadata": {
            "needs_background": "light"
          }
        }
      ],
      "execution_count": 14,
      "metadata": {
        "collapsed": true,
        "jupyter": {
          "source_hidden": false,
          "outputs_hidden": false
        },
        "nteract": {
          "transient": {
            "deleting": false
          }
        },
        "gather": {
          "logged": 1612874988101
        }
      }
    },
    {
      "cell_type": "code",
      "source": [
        "# Calculation of .wav length so we can move the time window from the start to the end without any problems.\r\n",
        "\r\n",
        "len_list = []\r\n",
        "for audio_file in input_array:\r\n",
        "    len_list.append(int(len(audio_file) / (1000)))"
      ],
      "outputs": [],
      "execution_count": 15,
      "metadata": {
        "collapsed": true,
        "jupyter": {
          "source_hidden": false,
          "outputs_hidden": false
        },
        "nteract": {
          "transient": {
            "deleting": false
          }
        },
        "gather": {
          "logged": 1612874988388
        }
      }
    },
    {
      "cell_type": "code",
      "source": [
        "# print(\"\\n\",input_array)\r\n",
        "print(\"\\n\",person_id_list)\r\n",
        "print(\"\\n\",level_array)"
      ],
      "outputs": [
        {
          "output_type": "stream",
          "name": "stdout",
          "text": [
            "\n",
            " [300, 301, 302, 303, 304, 305, 306, 307, 308, 309, 310, 311, 312, 313, 314, 315, 316, 317, 318, 319, 320, 321, 322, 323, 324, 325, 326, 327, 328, 329, 330, 331, 332, 333, 334, 335, 336, 337, 338, 339, 340, 341, 343, 344, 345, 346, 347, 348, 349, 350, 351, 352, 353, 354, 355, 356, 357, 358, 359, 360, 361, 362, 363, 364, 365, 366, 367, 368, 369, 370, 371, 372, 373, 374, 375, 376, 377, 378, 379, 380, 381, 382, 383, 384, 385, 386, 387, 388, 389, 390, 391, 392, 393, 395, 396, 397, 399, 400, 401, 402, 403, 404, 405, 406, 407, 408, 409, 410, 411, 412, 413, 414, 415, 416, 417, 418, 419, 420, 421, 422, 423, 424, 425, 426, 427, 428, 429, 430, 431, 432, 433, 434, 435, 436, 437, 438, 439, 440, 441, 442, 443, 444, 445, 446, 447, 448, 449, 450, 451, 452, 453, 454, 455, 456, 457, 458, 459, 461, 462, 463, 464, 465, 466, 467, 468, 469, 470, 471, 472, 473, 474, 475, 476, 477, 478, 479, 480, 481, 482, 483, 484, 485, 486, 487, 488, 489, 490, 491, 492]\n",
            "\n",
            " [1, 1, 1, 0, 2, 2, 0, 1, 4, 3, 1, 4, 1, 2, 1, 1, 2, 2, 1, 3, 3, 4, 1, 1, 1, 2, 1, 1, 1, 1, 3, 2, 4, 1, 1, 3, 2, 2, 3, 3, 1, 2, 2, 3, 3, 4, 4, 4, 1, 3, 3, 2, 3, 4, 2, 2, 2, 2, 3, 1, 0, 4, 0, 0, 3, 0, 4, 2, 0, 0, 2, 3, 2, 1, 1, 3, 4, 1, 1, 2, 4, 0, 2, 3, 2, 3, 1, 4, 3, 2, 2, 1, 1, 2, 1, 1, 2, 2, 2, 3, 0, 0, 4, 1, 1, 0, 2, 3, 0, 3, 2, 4, 1, 1, 2, 2, 1, 1, 2, 3, 0, 1, 2, 4, 1, 0, 1, 1, 1, 1, 2, 1, 2, 0, 0, 1, 1, 4, 4, 2, 1, 2, 1, 0, 1, 4, 1, 2, 1, 1, 4, 1, 1, 2, 1, 1, 4, 4, 2, 0, 0, 1, 2, 0, 1, 1, 1, 0, 1, 0, 1, 2, 1, 1, 1, 2, 1, 2, 1, 3, 2, 1, 1, 0, 0, 1, 1, 2, 0]\n"
          ]
        }
      ],
      "execution_count": 16,
      "metadata": {
        "collapsed": true,
        "jupyter": {
          "source_hidden": false,
          "outputs_hidden": false
        },
        "nteract": {
          "transient": {
            "deleting": false
          }
        },
        "gather": {
          "logged": 1612874988651
        }
      }
    },
    {
      "cell_type": "markdown",
      "source": [
        "### **Data Augmentation**\r\n",
        "Data augmentation is used to increase the number of samples to train the system. We take a time window and move it along the .wav that was segmented. We create 10 samples, each 7 minutes long for each segmented .wav file. Also we add the PHQ-8 score (predicted value) to each new sample."
      ],
      "metadata": {
        "nteract": {
          "transient": {
            "deleting": false
          }
        }
      }
    },
    {
      "cell_type": "code",
      "source": [
        "person_id_list_extended = []\r\n",
        "trim_array = []\r\n",
        "level_array_extended = []\r\n",
        "stride = 15\r\n",
        "time_window = 7\r\n",
        "n_samples_max = 10\r\n",
        "\r\n",
        "path = \"./depression-detection-extract/data/audio_augmented/time_window_\" + str(time_window) + \"_stride_\" + str(stride) + \"_max_\" + str(n_samples_max) +\"/\"\r\n",
        "\r\n",
        "if not os.path.exists(path):\r\n",
        "    os.makedirs(path)\r\n",
        "\r\n",
        "for audio_file, person_id, level in zip(input_array, person_id_list, level_array):  \r\n",
        "    n_samples = min(n_samples_max, int((len(audio_file) - time_window * 1000)/(stride * 1000)))\r\n",
        "    t1_ini = 0\r\n",
        "    t2_end = time_window * 1000\r\n",
        "    for i in range(n_samples):\r\n",
        "        t1_ini = t1_ini + stride * 1000\r\n",
        "        t2_end = t2_end + stride * 1000\r\n",
        "        audio_trim = audio_file[t1_ini:t2_end]\r\n",
        "        trim_array.append(audio_trim)\r\n",
        "        person_id_list_extended.append(person_id)\r\n",
        "        level_array_extended.append(level)\r\n",
        "        audio_trim.export(path + str(person_id) + '_' + str(i) + '.wav', format=\"wav\")"
      ],
      "outputs": [],
      "execution_count": 17,
      "metadata": {
        "collapsed": true,
        "jupyter": {
          "source_hidden": false,
          "outputs_hidden": false
        },
        "nteract": {
          "transient": {
            "deleting": false
          }
        },
        "gather": {
          "logged": 1612875166347
        }
      }
    },
    {
      "cell_type": "code",
      "source": [
        "len(trim_array)"
      ],
      "outputs": [
        {
          "output_type": "execute_result",
          "execution_count": 18,
          "data": {
            "text/plain": "1869"
          },
          "metadata": {}
        }
      ],
      "execution_count": 18,
      "metadata": {
        "collapsed": true,
        "jupyter": {
          "source_hidden": false,
          "outputs_hidden": false
        },
        "nteract": {
          "transient": {
            "deleting": false
          }
        },
        "gather": {
          "logged": 1612875166690
        }
      }
    },
    {
      "cell_type": "code",
      "source": [
        "person_id_list_padded = []\r\n",
        "padded_array = []\r\n",
        "level_array_padded = []\r\n",
        "max_size = max(len_list)\r\n",
        "mean_size = np.mean(len_list)\r\n",
        "min_size = min(len_list)\r\n",
        "for audio_file, person_id, level in zip(input_array, person_id_list, level_array):  \r\n",
        "    padding = AudioSegment.silent(duration = min_size * 1000)\r\n",
        "    audio_trim = padding.overlay(audio_file)\r\n",
        "    padded_array.append(audio_trim)\r\n",
        "    person_id_list_padded.append(person_id)\r\n",
        "    level_array_padded.append(level)\r\n",
        "    audio_trim.export(\"./depression-detection-extract/data/audio_cut_padded/mean/\" + str(person_id) + '.wav', format=\"wav\")"
      ],
      "outputs": [],
      "execution_count": 19,
      "metadata": {
        "collapsed": true,
        "jupyter": {
          "source_hidden": false,
          "outputs_hidden": false
        },
        "nteract": {
          "transient": {
            "deleting": false
          }
        },
        "gather": {
          "logged": 1612875202785
        }
      }
    },
    {
      "cell_type": "markdown",
      "source": [
        "### **Spectograms creation for each audio sample**"
      ],
      "metadata": {
        "nteract": {
          "transient": {
            "deleting": false
          }
        }
      }
    },
    {
      "cell_type": "code",
      "source": [
        "# Read the audio sample and calculate the normalized spectrogram\r\n",
        "\r\n",
        "X, sr = librosa.load(path + '303' + '_' + '1' + '.wav')\r\n",
        "sample = soundwave_to_np_spectrogram(X)\r\n",
        "sample = sample[0:95,:]\r\n",
        "sample.shape"
      ],
      "outputs": [
        {
          "output_type": "execute_result",
          "execution_count": 20,
          "data": {
            "text/plain": "(95, 2412)"
          },
          "metadata": {}
        }
      ],
      "execution_count": 20,
      "metadata": {
        "collapsed": true,
        "jupyter": {
          "source_hidden": false,
          "outputs_hidden": false
        },
        "nteract": {
          "transient": {
            "deleting": false
          }
        },
        "gather": {
          "logged": 1612875203897
        }
      }
    },
    {
      "cell_type": "code",
      "source": [
        "sample.size"
      ],
      "outputs": [
        {
          "output_type": "execute_result",
          "execution_count": 21,
          "data": {
            "text/plain": "229140"
          },
          "metadata": {}
        }
      ],
      "execution_count": 21,
      "metadata": {
        "collapsed": true,
        "jupyter": {
          "source_hidden": false,
          "outputs_hidden": false
        },
        "nteract": {
          "transient": {
            "deleting": false
          }
        },
        "gather": {
          "logged": 1612875204209
        }
      }
    },
    {
      "cell_type": "markdown",
      "source": [
        "*The spectogram shows the information of the audio in the frequency domain. The frequencies shown are up to ~3600 MHz*"
      ],
      "metadata": {
        "nteract": {
          "transient": {
            "deleting": false
          }
        }
      }
    },
    {
      "cell_type": "code",
      "source": [
        "X, sr = librosa.load('./depression-detection-extract/data/audio_cut_padded/mean/' + '303' + '.wav')\r\n",
        "sample = soundwave_to_np_spectrogram(X)"
      ],
      "outputs": [],
      "execution_count": 22,
      "metadata": {
        "collapsed": true,
        "jupyter": {
          "source_hidden": false,
          "outputs_hidden": false
        },
        "nteract": {
          "transient": {
            "deleting": false
          }
        },
        "gather": {
          "logged": 1612875205440
        }
      }
    },
    {
      "cell_type": "code",
      "source": [
        "# Show the sample spectrogram of participant 303\r\n",
        "\r\n",
        "librosa.display.specshow(sample,\r\n",
        "                         y_axis='mel',\r\n",
        "                         x_axis='time')\r\n",
        "plt.colorbar(format='%+2.0f dB')\r\n",
        "plt.title('Mel spectrogram')\r\n",
        "plt.tight_layout()"
      ],
      "outputs": [
        {
          "output_type": "display_data",
          "data": {
            "text/plain": "<Figure size 432x288 with 2 Axes>",
            "image/png": "[encoded data removed]"
          },
          "metadata": {
            "needs_background": "light"
          }
        }
      ],
      "execution_count": 23,
      "metadata": {
        "collapsed": true,
        "jupyter": {
          "source_hidden": false,
          "outputs_hidden": false
        },
        "nteract": {
          "transient": {
            "deleting": false
          }
        },
        "gather": {
          "logged": 1612875208586
        }
      }
    },
    {
      "cell_type": "code",
      "source": [
        "def tryint(s):\r\n",
        "    try:\r\n",
        "        return int(s)\r\n",
        "    except:\r\n",
        "        return s\r\n",
        "\r\n",
        "def alphanum_key(s):\r\n",
        "    \"\"\" \r\n",
        "    Turn a string into a list of string and number chunks.\r\n",
        "        \"z23a\" -> [\"z\", 23, \"a\"]\r\n",
        "    \"\"\"\r\n",
        "    return [ tryint(c) for c in re.split('([0-9]+)', s) ]\r\n",
        "\r\n",
        "def sort_nicely(l):\r\n",
        "    \"\"\" \r\n",
        "    Sort the given list in the way that humans expect.\r\n",
        "    \"\"\"\r\n",
        "    l.sort(key=alphanum_key)"
      ],
      "outputs": [],
      "execution_count": 24,
      "metadata": {
        "collapsed": true,
        "jupyter": {
          "source_hidden": false,
          "outputs_hidden": false
        },
        "nteract": {
          "transient": {
            "deleting": false
          }
        },
        "gather": {
          "logged": 1612875208889
        }
      }
    },
    {
      "cell_type": "code",
      "source": [
        "\"\"\"\r\n",
        "Create Spectograms of each segmented audio\r\n",
        "\"\"\"\r\n",
        "dataset_path = path\r\n",
        "filenames = os.listdir(dataset_path)\r\n",
        "\r\n",
        "if \".DS_Store\" in filenames:\r\n",
        "    filenames.remove(\".DS_Store\")\r\n",
        "\r\n",
        "sort_nicely(filenames)\r\n",
        "Xdb = []    \r\n",
        "    \r\n",
        "for filename in filenames:\r\n",
        "    X, sr = librosa.load(dataset_path + filename)\r\n",
        "    X = abs(soundwave_to_np_spectrogram(X))\r\n",
        "    X = X[0:95,:]\r\n",
        "    Xdb.append(X)"
      ],
      "outputs": [],
      "execution_count": 25,
      "metadata": {
        "collapsed": true,
        "jupyter": {
          "source_hidden": false,
          "outputs_hidden": false
        },
        "nteract": {
          "transient": {
            "deleting": false
          }
        },
        "gather": {
          "logged": 1612875639375
        }
      }
    },
    {
      "cell_type": "code",
      "source": [
        "Xdb"
      ],
      "outputs": [],
      "execution_count": null,
      "metadata": {
        "collapsed": true,
        "jupyter": {
          "source_hidden": false,
          "outputs_hidden": false
        },
        "nteract": {
          "transient": {
            "deleting": false
          }
        },
        "gather": {
          "logged": 1612875641408
        }
      }
    },
    {
      "cell_type": "code",
      "source": [
        "spec_path = \"./depression-detection-extract/data/spectrogram/audio_augmented/time_window_\" + str(time_window) + \"_stride_\" + str(stride) + \"_max_\" + str(n_samples_max) + \"/\"\r\n",
        "\r\n",
        "if not os.path.exists(spec_path):\r\n",
        "    os.makedirs(spec_path)\r\n",
        "\r\n",
        "np.asarray(Xdb).dump(open(spec_path +\"Xdb.npy\", \"wb\"))\r\n",
        "np.asarray(level_array_extended).dump(open(spec_path + 'Y.npy', 'wb'))"
      ],
      "outputs": [],
      "execution_count": 27,
      "metadata": {
        "collapsed": true,
        "jupyter": {
          "source_hidden": false,
          "outputs_hidden": false
        },
        "nteract": {
          "transient": {
            "deleting": false
          }
        },
        "gather": {
          "logged": 1612875680185
        }
      }
    },
    {
      "cell_type": "code",
      "source": [
        "number_of_files = int(len(Xdb)/500)\r\n",
        "for i in range(number_of_files):\r\n",
        "    start = i * 500\r\n",
        "    end = start + 500 if start + 500 < len(Xdb) else len(Xdb)\r\n",
        "    np.asarray(Xdb[start:end]).dump(open('./depression-detection-extract/data/spectrogram/audio_augmented/time_window_7_stride_15_max_10/Xdb_' + str(i) + '.npy', 'wb'))\r\n",
        "    np.asarray(level_array_extended[start:end]).dump(open('./depression-detection-extract/data/spectrogram/audio_augmented/time_window_7_stride_15_max_10/Y_' + str(i) + '.npy', 'wb'))"
      ],
      "outputs": [],
      "execution_count": 28,
      "metadata": {
        "collapsed": true,
        "jupyter": {
          "source_hidden": false,
          "outputs_hidden": false
        },
        "nteract": {
          "transient": {
            "deleting": false
          }
        },
        "gather": {
          "logged": 1612875710434
        }
      }
    },
    {
      "cell_type": "code",
      "source": [
        "# Calculate size of the spectrogram. Every sample has the same length so only 1 size is calculated.\r\n",
        "\r\n",
        "alto, ancho = Xdb[0].shape\r\n",
        "print(alto, ancho)"
      ],
      "outputs": [
        {
          "output_type": "stream",
          "name": "stdout",
          "text": [
            "95 2412\n"
          ]
        }
      ],
      "execution_count": 29,
      "metadata": {
        "collapsed": true,
        "jupyter": {
          "source_hidden": false,
          "outputs_hidden": false
        },
        "nteract": {
          "transient": {
            "deleting": false
          }
        },
        "gather": {
          "logged": 1612875710719
        }
      }
    },
    {
      "cell_type": "markdown",
      "source": [
        "### **Reshaping the data to be input to the model**\r\n",
        "Reshaping the spectogram matrix to feed it in an LSTM network or a Convolutional network."
      ],
      "metadata": {
        "nteract": {
          "transient": {
            "deleting": false
          }
        }
      }
    },
    {
      "cell_type": "code",
      "source": [
        "level_array_extended_new = np.asarray(level_array_extended)\r\n",
        "print(np.asarray(Xdb).shape)\r\n",
        "print(level_array_extended_new.shape)\r\n",
        "len(Xdb)"
      ],
      "outputs": [
        {
          "output_type": "stream",
          "name": "stdout",
          "text": [
            "(1869, 95, 2412)\n",
            "(1869,)\n"
          ]
        },
        {
          "output_type": "execute_result",
          "execution_count": 30,
          "data": {
            "text/plain": "1869"
          },
          "metadata": {}
        }
      ],
      "execution_count": 30,
      "metadata": {
        "collapsed": true,
        "jupyter": {
          "source_hidden": false,
          "outputs_hidden": false
        },
        "nteract": {
          "transient": {
            "deleting": false
          }
        },
        "gather": {
          "logged": 1612875713079
        }
      }
    },
    {
      "cell_type": "code",
      "source": [],
      "outputs": [],
      "execution_count": null,
      "metadata": {
        "collapsed": true,
        "jupyter": {
          "source_hidden": false,
          "outputs_hidden": false
        },
        "nteract": {
          "transient": {
            "deleting": false
          }
        }
      }
    },
    {
      "cell_type": "code",
      "source": [
        "def distribute_levels(Xdb, level_array):\r\n",
        "    Xdb_shuffled, level_array_shuffled = shuffle(Xdb, level_array, random_state=0)\r\n",
        "    \r\n",
        "    levels, counts = np.unique(level_array, return_counts=True)\r\n",
        "    n_levels = len(levels)\r\n",
        "    \r\n",
        "    X = [None] * n_levels\r\n",
        "    Y = [None] * n_levels\r\n",
        "       \r\n",
        "    for i in levels:\r\n",
        "        X[i] = np.compress(level_array_shuffled == i, Xdb_shuffled, axis = 0)\r\n",
        "        Y[i] = [i] * counts[i]\r\n",
        "    \r\n",
        "    X = np.array(X)\r\n",
        "    Y = np.array(Y)\r\n",
        "\r\n",
        "    return X, Y, levels, counts\r\n",
        "\r\n",
        "X, Y, levels, counts = distribute_levels(Xdb, level_array_extended_new)"
      ],
      "outputs": [
        {
          "output_type": "stream",
          "name": "stderr",
          "text": [
            "/anaconda/envs/azureml_py36/lib/python3.6/site-packages/ipykernel_launcher.py:14: VisibleDeprecationWarning: Creating an ndarray from ragged nested sequences (which is a list-or-tuple of lists-or-tuples-or ndarrays with different lengths or shapes) is deprecated. If you meant to do this, you must specify 'dtype=object' when creating the ndarray\n",
            "  \n",
            "/anaconda/envs/azureml_py36/lib/python3.6/site-packages/ipykernel_launcher.py:15: VisibleDeprecationWarning: Creating an ndarray from ragged nested sequences (which is a list-or-tuple of lists-or-tuples-or ndarrays with different lengths or shapes) is deprecated. If you meant to do this, you must specify 'dtype=object' when creating the ndarray\n",
            "  from ipykernel import kernelapp as app\n"
          ]
        }
      ],
      "execution_count": 31,
      "metadata": {
        "collapsed": true,
        "jupyter": {
          "source_hidden": false,
          "outputs_hidden": false
        },
        "nteract": {
          "transient": {
            "deleting": false
          }
        },
        "gather": {
          "logged": 1612875718957
        }
      }
    },
    {
      "cell_type": "code",
      "source": [
        "def distribute_sets(X, Y, levels, counts, split = [70,14,16]): \r\n",
        "    \r\n",
        "    n_levels = len(levels)\r\n",
        "        \r\n",
        "    X_dict = dict()\r\n",
        "    Y_dict = dict()\r\n",
        "    \r\n",
        "    last = np.zeros(n_levels)\r\n",
        "    prev = np.zeros(n_levels)\r\n",
        "   \r\n",
        "    for p in split:\r\n",
        "        X_dict['d'+str(p)] = []\r\n",
        "        Y_dict['d'+str(p)] = []\r\n",
        "        for i in levels:\r\n",
        "            last[i] = min(counts[i], prev[i] + round(counts[i] * p /100.))\r\n",
        "       \r\n",
        "        X_dict['d'+str(p)] = np.concatenate([X[i][int(prev[i]):int(last[i])] for i in levels], axis = 0)\r\n",
        "        Y_dict['d'+str(p)] = np.concatenate([Y[i][int(prev[i]):int(last[i])] for i in levels], axis = 0)\r\n",
        "        \r\n",
        "        prev = last.copy()\r\n",
        "        \r\n",
        "        \r\n",
        "    return (X_dict['d70'], Y_dict['d70'], X_dict['d14'], Y_dict['d14'], X_dict['d16'], Y_dict['d16'])"
      ],
      "outputs": [],
      "execution_count": 32,
      "metadata": {
        "collapsed": true,
        "jupyter": {
          "source_hidden": false,
          "outputs_hidden": false
        },
        "nteract": {
          "transient": {
            "deleting": false
          }
        },
        "gather": {
          "logged": 1612875719245
        }
      }
    },
    {
      "cell_type": "code",
      "source": [
        "X_train, Y_train, X_dev, Y_dev, X_test, Y_test = distribute_sets(X, Y, levels, counts)\r\n",
        "\r\n",
        "X_test.shape, X_train.shape\r\n",
        "# print(X_test)"
      ],
      "outputs": [
        {
          "output_type": "execute_result",
          "execution_count": 33,
          "data": {
            "text/plain": "((298, 95, 2412), (1308, 95, 2412))"
          },
          "metadata": {}
        }
      ],
      "execution_count": 33,
      "metadata": {
        "collapsed": true,
        "jupyter": {
          "source_hidden": false,
          "outputs_hidden": false
        },
        "nteract": {
          "transient": {
            "deleting": false
          }
        },
        "gather": {
          "logged": 1612875720025
        }
      }
    },
    {
      "cell_type": "code",
      "source": [
        "def reshape_to_cnn(X):\r\n",
        "    X_reshape = np.asarray(X.reshape(X.shape[0], X.shape[1], X.shape[2], 1))\r\n",
        "    return X_reshape"
      ],
      "outputs": [],
      "execution_count": 34,
      "metadata": {
        "collapsed": true,
        "jupyter": {
          "source_hidden": false,
          "outputs_hidden": false
        },
        "nteract": {
          "transient": {
            "deleting": false
          }
        },
        "gather": {
          "logged": 1612875720303
        }
      }
    },
    {
      "cell_type": "code",
      "source": [
        "X_train_cnn = reshape_to_cnn(X_train)\r\n",
        "X_dev_cnn = reshape_to_cnn(X_dev)\r\n",
        "X_test_cnn = reshape_to_cnn(X_test)\r\n",
        "\r\n",
        "Y_train_oh = keras.utils.to_categorical(Y_train)\r\n",
        "Y_dev_oh = keras.utils.to_categorical(Y_dev)\r\n",
        "Y_test_oh = keras.utils.to_categorical(Y_test)\r\n",
        "\r\n",
        "early_stopping = EarlyStopping(monitor='val_loss', patience=10) # introduce early stopping to prevent overfitting\r\n",
        "\r\n",
        "# # X_train_cnn = reshape_to_cnn(X_train)\r\n",
        "# X_train_cnn = X_train.reshape(1308, 95, ancho, 1)\r\n",
        "# X_dev_cnn = reshape_to_cnn(X_dev)\r\n",
        "# # X_dev_cnn = np.asarray(X_dev).reshape(262, 95, ancho, 1)\r\n",
        "# X_test_cnn = reshape_to_cnn(X_test)\r\n",
        "# # X_test_cnn = X_test.reshape(299, 95, ancho, 1)\r\n"
      ],
      "outputs": [],
      "execution_count": 35,
      "metadata": {
        "collapsed": true,
        "jupyter": {
          "source_hidden": false,
          "outputs_hidden": false
        },
        "nteract": {
          "transient": {
            "deleting": false
          }
        },
        "gather": {
          "logged": 1612875720572
        }
      }
    },
    {
      "cell_type": "code",
      "source": [
        "X_train_cnn.shape"
      ],
      "outputs": [
        {
          "output_type": "execute_result",
          "execution_count": 36,
          "data": {
            "text/plain": "(1308, 95, 2412, 1)"
          },
          "metadata": {}
        }
      ],
      "execution_count": 36,
      "metadata": {
        "collapsed": true,
        "jupyter": {
          "source_hidden": false,
          "outputs_hidden": false
        },
        "nteract": {
          "transient": {
            "deleting": false
          }
        },
        "gather": {
          "logged": 1612875720874
        }
      }
    },
    {
      "cell_type": "code",
      "source": [
        "X_test_cnn.shape"
      ],
      "outputs": [
        {
          "output_type": "execute_result",
          "execution_count": 37,
          "data": {
            "text/plain": "(298, 95, 2412, 1)"
          },
          "metadata": {}
        }
      ],
      "execution_count": 37,
      "metadata": {
        "collapsed": true,
        "jupyter": {
          "source_hidden": false,
          "outputs_hidden": false
        },
        "nteract": {
          "transient": {
            "deleting": false
          }
        },
        "gather": {
          "logged": 1612875721194
        }
      }
    },
    {
      "cell_type": "markdown",
      "source": [
        "### **Creation of GRU and CNN model**"
      ],
      "metadata": {
        "nteract": {
          "transient": {
            "deleting": false
          }
        }
      }
    },
    {
      "cell_type": "code",
      "source": [
        "# GRU model\r\n",
        "\r\n",
        "def model(input_shape):\r\n",
        "    \"\"\"\r\n",
        "    A function creating the model's graph in Keras.\r\n",
        "    \"\"\"\r\n",
        "    \r\n",
        "    X_input = Input(shape = input_shape)\r\n",
        "    \r\n",
        "    # Step 1: CONV layer \r\n",
        "    X = Dropout(rate = 0.2)(X_input) \r\n",
        "    X = Conv1D(filters = 100, kernel_size = 2, strides=1)(X)\r\n",
        "    X = BatchNormalization(axis=-1)(X)\r\n",
        "    X = Activation('relu')(X)\r\n",
        "    X = Dropout(rate = 0.4)(X)\r\n",
        "\r\n",
        "    # Step 2: First GRU Layer\r\n",
        "    X = GRU(units = 128, return_sequences = True)(X)\r\n",
        "    X = Dropout(rate = 0.8)(X)\r\n",
        "    X = BatchNormalization(axis=-1)(X)\r\n",
        "    \r\n",
        "    # Step 3: Second GRU Layer\r\n",
        "    X = GRU(units = 100, return_sequences = False)(X)\r\n",
        "    X = Dropout(rate = 0.8)(X)\r\n",
        "    X = BatchNormalization(axis=-1)(X)\r\n",
        "    \r\n",
        "    # Step 4: Time-distributed dense layer (≈1 line)\r\n",
        "    X = Dense(5, activation = \"softmax\")(X) # sigmoid\r\n",
        "\r\n",
        "    model = Model(inputs = X_input, outputs = X)\r\n",
        "    \r\n",
        "    return model"
      ],
      "outputs": [],
      "execution_count": 38,
      "metadata": {
        "collapsed": true,
        "jupyter": {
          "source_hidden": false,
          "outputs_hidden": false
        },
        "nteract": {
          "transient": {
            "deleting": false
          }
        },
        "gather": {
          "logged": 1612875721500
        }
      }
    },
    {
      "cell_type": "code",
      "source": [
        "model = model(input_shape = X_train[0].shape)\r\n",
        "model.summary()"
      ],
      "outputs": [
        {
          "output_type": "stream",
          "name": "stdout",
          "text": [
            "Model: \"model\"\n",
            "_________________________________________________________________\n",
            "Layer (type)                 Output Shape              Param #   \n",
            "=================================================================\n",
            "input_1 (InputLayer)         [(None, 95, 2412)]        0         \n",
            "_________________________________________________________________\n",
            "dropout (Dropout)            (None, 95, 2412)          0         \n",
            "_________________________________________________________________\n",
            "conv1d (Conv1D)              (None, 94, 100)           482500    \n",
            "_________________________________________________________________\n",
            "batch_normalization (BatchNo (None, 94, 100)           400       \n",
            "_________________________________________________________________\n",
            "activation (Activation)      (None, 94, 100)           0         \n",
            "_________________________________________________________________\n",
            "dropout_1 (Dropout)          (None, 94, 100)           0         \n",
            "_________________________________________________________________\n",
            "gru (GRU)                    (None, 94, 128)           88320     \n",
            "_________________________________________________________________\n",
            "dropout_2 (Dropout)          (None, 94, 128)           0         \n",
            "_________________________________________________________________\n",
            "batch_normalization_1 (Batch (None, 94, 128)           512       \n",
            "_________________________________________________________________\n",
            "gru_1 (GRU)                  (None, 100)               69000     \n",
            "_________________________________________________________________\n",
            "dropout_3 (Dropout)          (None, 100)               0         \n",
            "_________________________________________________________________\n",
            "batch_normalization_2 (Batch (None, 100)               400       \n",
            "_________________________________________________________________\n",
            "dense (Dense)                (None, 5)                 505       \n",
            "=================================================================\n",
            "Total params: 641,637\n",
            "Trainable params: 640,981\n",
            "Non-trainable params: 656\n",
            "_________________________________________________________________\n"
          ]
        }
      ],
      "execution_count": 39,
      "metadata": {
        "collapsed": true,
        "jupyter": {
          "source_hidden": false,
          "outputs_hidden": false
        },
        "nteract": {
          "transient": {
            "deleting": false
          }
        },
        "gather": {
          "logged": 1612875722145
        }
      }
    },
    {
      "cell_type": "markdown",
      "source": [
        "### **Training the GRU model**"
      ],
      "metadata": {
        "nteract": {
          "transient": {
            "deleting": false
          }
        }
      }
    },
    {
      "cell_type": "code",
      "source": [
        "model.compile(optimizer=\"adam\",loss=\"categorical_crossentropy\",metrics=[\"accuracy\"])"
      ],
      "outputs": [],
      "execution_count": 40,
      "metadata": {
        "collapsed": true,
        "jupyter": {
          "source_hidden": false,
          "outputs_hidden": false
        },
        "nteract": {
          "transient": {
            "deleting": false
          }
        },
        "gather": {
          "logged": 1612875722665
        }
      }
    },
    {
      "cell_type": "code",
      "source": [
        "from tensorflow.keras.callbacks import ReduceLROnPlateau\r\n",
        "learning_rate_reduced = ReduceLROnPlateau(monitor=\"val_loss\", patience=10, verbose=1, factor=0.5, min_lr=0.0001)"
      ],
      "outputs": [],
      "execution_count": 41,
      "metadata": {
        "collapsed": true,
        "jupyter": {
          "source_hidden": false,
          "outputs_hidden": false
        },
        "nteract": {
          "transient": {
            "deleting": false
          }
        },
        "gather": {
          "logged": 1612875722948
        }
      }
    },
    {
      "cell_type": "code",
      "source": [
        "model_2gru_hist = model.fit(X_train, Y_train_oh, validation_data=(X_dev, Y_dev_oh), epochs = 30, batch_size = 64, shuffle = True)"
      ],
      "outputs": [
        {
          "output_type": "stream",
          "name": "stdout",
          "text": [
            "Epoch 1/30\n",
            "21/21 [==============================] - 10s 295ms/step - loss: 2.1146 - accuracy: 0.2153 - val_loss: 1.6295 - val_accuracy: 0.1141\b\b\b\b\b\b\b\b\b\b\b\b\b\b\b\b\b\b\b\b\b\b\b\b\b\b\b\b\b\b\b\b\b\b\b\b\b\n",
            "Epoch 2/30\n",
            "21/21 [==============================] - 4s 209ms/step - loss: 2.0546 - accuracy: 0.2086 - val_loss: 1.6546 - val_accuracy: 0.1141\b\b\b\b\b\b\b\b\b\b\b\b\b\b\b\b\b\b\b\b\b\b\b\b\b\b\b\b\b\b\b\b\b\b\n",
            "Epoch 3/30\n",
            "21/21 [==============================] - 5s 224ms/step - loss: 2.0341 - accuracy: 0.2320 - val_loss: 1.5618 - val_accuracy: 0.3688\b\b\b\b\b\b\b\b\b\b\b\b\b\b\b\b\b\b\b\b\b\b\b\b\b\b\b\b\b\b\b\b\b\b\n",
            "Epoch 4/30\n",
            "21/21 [==============================] - 4s 212ms/step - loss: 1.9154 - accuracy: 0.2500 - val_loss: 1.5901 - val_accuracy: 0.2471\b\b\b\b\b\b\b\b\b\b\b\b\b\b\b\b\b\b\b\b\b\b\b\b\b\b\b\b\b\b\b\b\b\b\n",
            "Epoch 5/30\n",
            "21/21 [==============================] - 4s 211ms/step - loss: 1.9056 - accuracy: 0.2370 - val_loss: 1.6430 - val_accuracy: 0.2471\b\b\b\b\b\b\b\b\b\b\b\b\b\b\b\b\b\b\b\b\b\b\b\b\b\b\b\b\b\b\b\b\b\b\n",
            "Epoch 6/30\n",
            "21/21 [==============================] - 5s 218ms/step - loss: 1.8100 - accuracy: 0.2732 - val_loss: 1.5349 - val_accuracy: 0.2548\b\b\b\b\b\b\b\b\b\b\b\b\b\b\b\b\b\b\b\b\b\b\b\b\b\b\b\b\b\b\b\b\b\b\n",
            "Epoch 7/30\n",
            "21/21 [==============================] - 4s 214ms/step - loss: 1.8406 - accuracy: 0.2619 - val_loss: 1.5049 - val_accuracy: 0.3726\b\b\b\b\b\b\b\b\b\b\b\b\b\b\b\b\b\b\b\b\b\b\b\b\b\b\b\b\b\b\b\b\b\b\n",
            "Epoch 8/30\n",
            "21/21 [==============================] - 4s 208ms/step - loss: 1.7295 - accuracy: 0.2908 - val_loss: 1.5059 - val_accuracy: 0.3726\b\b\b\b\b\b\b\b\b\b\b\b\b\b\b\b\b\b\b\b\b\b\b\b\b\b\b\b\b\b\b\b\b\b\n",
            "Epoch 9/30\n",
            "21/21 [==============================] - 4s 209ms/step - loss: 1.7544 - accuracy: 0.2643 - val_loss: 1.5112 - val_accuracy: 0.2966\b\b\b\b\b\b\b\b\b\b\b\b\b\b\b\b\b\b\b\b\b\b\b\b\b\b\b\b\b\b\b\b\b\b\n",
            "Epoch 10/30\n",
            "21/21 [==============================] - 5s 217ms/step - loss: 1.7220 - accuracy: 0.2759 - val_loss: 1.4999 - val_accuracy: 0.3726\b\b\b\b\b\b\b\b\b\b\b\b\b\b\b\b\b\b\b\b\b\b\b\b\b\b\b\b\b\b\b\b\b\b\n",
            "Epoch 11/30\n",
            "21/21 [==============================] - 4s 210ms/step - loss: 1.6855 - accuracy: 0.3113 - val_loss: 1.4951 - val_accuracy: 0.3726\b\b\b\b\b\b\b\b\b\b\b\b\b\b\b\b\b\b\b\b\b\b\b\b\b\b\b\b\b\b\b\b\b\b\n",
            "Epoch 12/30\n",
            "21/21 [==============================] - 4s 212ms/step - loss: 1.6450 - accuracy: 0.2896 - val_loss: 1.4964 - val_accuracy: 0.3726\b\b\b\b\b\b\b\b\b\b\b\b\b\b\b\b\b\b\b\b\b\b\b\b\b\b\b\b\b\b\b\b\b\b\n",
            "Epoch 13/30\n",
            "21/21 [==============================] - 5s 221ms/step - loss: 1.6046 - accuracy: 0.3137 - val_loss: 1.4987 - val_accuracy: 0.3726\b\b\b\b\b\b\b\b\b\b\b\b\b\b\b\b\b\b\b\b\b\b\b\b\b\b\b\b\b\b\b\b\b\b\n",
            "Epoch 14/30\n",
            "21/21 [==============================] - 5s 218ms/step - loss: 1.6264 - accuracy: 0.2897 - val_loss: 1.4991 - val_accuracy: 0.3726\b\b\b\b\b\b\b\b\b\b\b\b\b\b\b\b\b\b\b\b\b\b\b\b\b\b\b\b\b\b\b\b\b\b\n",
            "Epoch 15/30\n",
            "21/21 [==============================] - 4s 214ms/step - loss: 1.6234 - accuracy: 0.2859 - val_loss: 1.4949 - val_accuracy: 0.3726\b\b\b\b\b\b\b\b\b\b\b\b\b\b\b\b\b\b\b\b\b\b\b\b\b\b\b\b\b\b\b\b\b\b\n",
            "Epoch 16/30\n",
            "21/21 [==============================] - 4s 211ms/step - loss: 1.6306 - accuracy: 0.2971 - val_loss: 1.4931 - val_accuracy: 0.3726\b\b\b\b\b\b\b\b\b\b\b\b\b\b\b\b\b\b\b\b\b\b\b\b\b\b\b\b\b\b\b\b\b\b\n",
            "Epoch 17/30\n",
            "21/21 [==============================] - 4s 214ms/step - loss: 1.6041 - accuracy: 0.3065 - val_loss: 1.4925 - val_accuracy: 0.3726\b\b\b\b\b\b\b\b\b\b\b\b\b\b\b\b\b\b\b\b\b\b\b\b\b\b\b\b\b\b\b\b\b\b\n",
            "Epoch 18/30\n",
            "21/21 [==============================] - 5s 217ms/step - loss: 1.6014 - accuracy: 0.3234 - val_loss: 1.4924 - val_accuracy: 0.3726\b\b\b\b\b\b\b\b\b\b\b\b\b\b\b\b\b\b\b\b\b\b\b\b\b\b\b\b\b\b\b\b\b\b\n",
            "Epoch 19/30\n",
            "21/21 [==============================] - 5s 215ms/step - loss: 1.5875 - accuracy: 0.3075 - val_loss: 1.4928 - val_accuracy: 0.3726\b\b\b\b\b\b\b\b\b\b\b\b\b\b\b\b\b\b\b\b\b\b\b\b\b\b\b\b\b\b\b\b\b\b\n",
            "Epoch 20/30\n",
            "21/21 [==============================] - 5s 216ms/step - loss: 1.5653 - accuracy: 0.3291 - val_loss: 1.4916 - val_accuracy: 0.3726\b\b\b\b\b\b\b\b\b\b\b\b\b\b\b\b\b\b\b\b\b\b\b\b\b\b\b\b\b\b\b\b\b\b\n",
            "Epoch 21/30\n",
            "21/21 [==============================] - 4s 210ms/step - loss: 1.5596 - accuracy: 0.3268 - val_loss: 1.4913 - val_accuracy: 0.3726\b\b\b\b\b\b\b\b\b\b\b\b\b\b\b\b\b\b\b\b\b\b\b\b\b\b\b\b\b\b\b\b\b\b\n",
            "Epoch 22/30\n",
            "21/21 [==============================] - 4s 209ms/step - loss: 1.5476 - accuracy: 0.3258 - val_loss: 1.4908 - val_accuracy: 0.3726\b\b\b\b\b\b\b\b\b\b\b\b\b\b\b\b\b\b\b\b\b\b\b\b\b\b\b\b\b\b\b\b\b\b\n",
            "Epoch 23/30\n",
            "21/21 [==============================] - 4s 212ms/step - loss: 1.5407 - accuracy: 0.3366 - val_loss: 1.4930 - val_accuracy: 0.3726\b\b\b\b\b\b\b\b\b\b\b\b\b\b\b\b\b\b\b\b\b\b\b\b\b\b\b\b\b\b\b\b\b\b\n",
            "Epoch 24/30\n",
            "21/21 [==============================] - 4s 213ms/step - loss: 1.5446 - accuracy: 0.3394 - val_loss: 1.4929 - val_accuracy: 0.3726\b\b\b\b\b\b\b\b\b\b\b\b\b\b\b\b\b\b\b\b\b\b\b\b\b\b\b\b\b\b\b\b\b\b\n",
            "Epoch 25/30\n",
            "21/21 [==============================] - 4s 209ms/step - loss: 1.5162 - accuracy: 0.3687 - val_loss: 1.4994 - val_accuracy: 0.3726\b\b\b\b\b\b\b\b\b\b\b\b\b\b\b\b\b\b\b\b\b\b\b\b\b\b\b\b\b\b\b\b\b\b\n",
            "Epoch 26/30\n",
            "21/21 [==============================] - 4s 211ms/step - loss: 1.5436 - accuracy: 0.3386 - val_loss: 1.4985 - val_accuracy: 0.3726\b\b\b\b\b\b\b\b\b\b\b\b\b\b\b\b\b\b\b\b\b\b\b\b\b\b\b\b\b\b\b\b\b\b\n",
            "Epoch 27/30\n",
            "21/21 [==============================] - 4s 213ms/step - loss: 1.5040 - accuracy: 0.3578 - val_loss: 1.4984 - val_accuracy: 0.3726\b\b\b\b\b\b\b\b\b\b\b\b\b\b\b\b\b\b\b\b\b\b\b\b\b\b\b\b\b\b\b\b\b\b\n",
            "Epoch 28/30\n",
            "21/21 [==============================] - 4s 213ms/step - loss: 1.5280 - accuracy: 0.3558 - val_loss: 1.5017 - val_accuracy: 0.3726\b\b\b\b\b\b\b\b\b\b\b\b\b\b\b\b\b\b\b\b\b\b\b\b\b\b\b\b\b\b\b\b\b\b\n",
            "Epoch 29/30\n",
            "21/21 [==============================] - 5s 229ms/step - loss: 1.5391 - accuracy: 0.3399 - val_loss: 1.5035 - val_accuracy: 0.3726\b\b\b\b\b\b\b\b\b\b\b\b\b\b\b\b\b\b\b\b\b\b\b\b\b\b\b\b\b\b\b\b\b\b\n",
            "Epoch 30/30\n",
            "21/21 [==============================] - 5s 216ms/step - loss: 1.5492 - accuracy: 0.3293 - val_loss: 1.5019 - val_accuracy: 0.3726\b\b\b\b\b\b\b\b\b\b\b\b\b\b\b\b\b\b\b\b\b\b\b\b\b\b\b\b\b\b\b\b\b\b\n"
          ]
        }
      ],
      "execution_count": 42,
      "metadata": {
        "collapsed": true,
        "jupyter": {
          "source_hidden": false,
          "outputs_hidden": false
        },
        "nteract": {
          "transient": {
            "deleting": false
          }
        },
        "gather": {
          "logged": 1612875862355
        }
      }
    },
    {
      "cell_type": "code",
      "source": [
        "# save the GRU model\r\n",
        "\r\n",
        "# print(model_2gru_hist.history)\r\n",
        "\r\n",
        "with open('./depression-detection-extract/models/model_2gru_hist.json', 'w') as f:\r\n",
        "    json.dump(model_2gru_hist.history, f)\r\n",
        "model.save('./depression-detection-extract/models/model_2gru.h5')"
      ],
      "outputs": [],
      "execution_count": 43,
      "metadata": {
        "collapsed": true,
        "jupyter": {
          "source_hidden": false,
          "outputs_hidden": false
        },
        "nteract": {
          "transient": {
            "deleting": false
          }
        },
        "gather": {
          "logged": 1612875862799
        }
      }
    },
    {
      "cell_type": "code",
      "source": [
        "plot_acc(model_2gru_hist)\r\n",
        "plot_loss(model_2gru_hist)"
      ],
      "outputs": [
        {
          "output_type": "display_data",
          "data": {
            "text/plain": "<Figure size 432x288 with 1 Axes>",
            "image/png": "[encoded data removed]"
          },
          "metadata": {
            "needs_background": "light"
          }
        },
        {
          "output_type": "display_data",
          "data": {
            "text/plain": "<Figure size 432x288 with 1 Axes>",
            "image/png": "[encoded data removed]"
          },
          "metadata": {
            "needs_background": "light"
          }
        }
      ],
      "execution_count": 73,
      "metadata": {
        "collapsed": true,
        "jupyter": {
          "source_hidden": false,
          "outputs_hidden": false
        },
        "nteract": {
          "transient": {
            "deleting": false
          }
        },
        "gather": {
          "logged": 1612877433562
        }
      }
    },
    {
      "cell_type": "code",
      "source": [
        "score = model.evaluate(X_test, Y_test_oh, verbose=0)\r\n",
        "accuracy1 = 100*score[0]\r\n",
        "accuracy2 = 100*score[1]\r\n",
        "print('Test loss:  %.4f%%' % accuracy1)\r\n",
        "print('Test accuracy:  %.4f%%' % accuracy2)"
      ],
      "outputs": [
        {
          "output_type": "stream",
          "name": "stdout",
          "text": [
            "Test loss:  150.1299%\n",
            "Test accuracy:  37.2483%\n"
          ]
        }
      ],
      "execution_count": 45,
      "metadata": {
        "collapsed": true,
        "jupyter": {
          "source_hidden": false,
          "outputs_hidden": false
        },
        "nteract": {
          "transient": {
            "deleting": false
          }
        },
        "gather": {
          "logged": 1612875863404
        }
      }
    },
    {
      "cell_type": "code",
      "source": [
        "from sklearn import metrics\r\n",
        "\r\n",
        "Y_predict = model.predict(X_test) \r\n",
        "confusionmatrix = metrics.confusion_matrix(Y_test_oh.argmax(axis=1), Y_predict.argmax(axis=1))"
      ],
      "outputs": [],
      "execution_count": 46,
      "metadata": {
        "collapsed": true,
        "jupyter": {
          "source_hidden": false,
          "outputs_hidden": false
        },
        "nteract": {
          "transient": {
            "deleting": false
          }
        },
        "gather": {
          "logged": 1612875864273
        }
      }
    },
    {
      "cell_type": "code",
      "source": [
        "def plot_confusion_matrix(cm, classes,\r\n",
        "                          normalize=False,\r\n",
        "                          title='Confusion matrix',\r\n",
        "                          cmap=plt.cm.Blues):\r\n",
        "    \"\"\"\r\n",
        "    This function prints and plots the confusion matrix.\r\n",
        "    Normalization can be applied by setting `normalize=True`.\r\n",
        "    \"\"\"\r\n",
        "    if normalize:\r\n",
        "        cm = cm.astype('float') / cm.sum(axis=1)[:, np.newaxis]\r\n",
        "        print(\"Normalized confusion matrix\")\r\n",
        "    else:\r\n",
        "        print('Confusion matrix, without normalization')\r\n",
        "\r\n",
        "    print(cm)\r\n",
        "\r\n",
        "    plt.imshow(cm, interpolation='nearest', cmap=cmap)\r\n",
        "    plt.title(title)\r\n",
        "    plt.colorbar()\r\n",
        "    tick_marks = np.arange(len(classes))\r\n",
        "    plt.xticks(tick_marks, classes, rotation=45)\r\n",
        "    plt.yticks(tick_marks, classes)\r\n",
        "\r\n",
        "    fmt = '.2f' if normalize else 'd'\r\n",
        "    thresh = cm.max() / 2.\r\n",
        "    for i, j in itertools.product(range(cm.shape[0]), range(cm.shape[1])):\r\n",
        "        plt.text(j, i, format(cm[i, j], fmt),\r\n",
        "                 horizontalalignment=\"center\",\r\n",
        "                 color=\"white\" if cm[i, j] > thresh else \"black\")\r\n",
        "\r\n",
        "    plt.ylabel('True label')\r\n",
        "    plt.xlabel('Predicted label')\r\n",
        "    plt.tight_layout()"
      ],
      "outputs": [],
      "execution_count": 47,
      "metadata": {
        "collapsed": true,
        "jupyter": {
          "source_hidden": false,
          "outputs_hidden": false
        },
        "nteract": {
          "transient": {
            "deleting": false
          }
        },
        "gather": {
          "logged": 1612875864557
        }
      }
    },
    {
      "cell_type": "code",
      "source": [
        "plot_confusion_matrix(confusionmatrix, classes=['None','Mild', 'Moderate', 'Moderately \\n Severe', 'Severe'],\r\n",
        "                      title='GRU Confusion matrix')"
      ],
      "outputs": [
        {
          "output_type": "stream",
          "name": "stdout",
          "text": [
            "Confusion matrix, without normalization\n",
            "[[  0  41   0   0   0]\n",
            " [  0 111   0   0   0]\n",
            " [  0  73   0   0   0]\n",
            " [  0  38   0   0   0]\n",
            " [  0  35   0   0   0]]\n"
          ]
        },
        {
          "output_type": "display_data",
          "data": {
            "text/plain": "<Figure size 432x288 with 2 Axes>",
            "image/png": "[encoded data removed]"
          },
          "metadata": {
            "needs_background": "light"
          }
        }
      ],
      "execution_count": 48,
      "metadata": {
        "collapsed": true,
        "jupyter": {
          "source_hidden": false,
          "outputs_hidden": false
        },
        "nteract": {
          "transient": {
            "deleting": false
          }
        },
        "gather": {
          "logged": 1612875865056
        }
      }
    },
    {
      "cell_type": "code",
      "source": [
        "import seaborn as sns\r\n",
        "\r\n",
        "sns.heatmap(confusionmatrix/np.sum(confusionmatrix), annot=True, fmt='.2%', cmap='Blues')"
      ],
      "outputs": [
        {
          "output_type": "execute_result",
          "execution_count": 49,
          "data": {
            "text/plain": "<matplotlib.axes._subplots.AxesSubplot at 0x7fe810da2358>"
          },
          "metadata": {}
        },
        {
          "output_type": "display_data",
          "data": {
            "text/plain": "<Figure size 432x288 with 2 Axes>",
            "image/png": "[encoded data removed]"
          },
          "metadata": {
            "needs_background": "light"
          }
        }
      ],
      "execution_count": 49,
      "metadata": {
        "collapsed": true,
        "jupyter": {
          "source_hidden": false,
          "outputs_hidden": false
        },
        "nteract": {
          "transient": {
            "deleting": false
          }
        },
        "gather": {
          "logged": 1612875865640
        }
      }
    },
    {
      "cell_type": "code",
      "source": [
        "from sklearn.metrics import precision_recall_fscore_support as score\r\n",
        "\r\n",
        "predicted = np.around(model.predict(X_test))\r\n",
        "# metrics.f1_score(Y_test_oh, predicted, average='weighted', labels=np.unique(predicted))\r\n",
        "\r\n",
        "precision, recall, fscore, support = score(Y_test_oh, predicted)\r\n",
        "\r\n",
        "print('precision: {}'.format(precision))\r\n",
        "print('recall: {}'.format(recall))\r\n",
        "print('fscore: {}'.format(fscore))\r\n",
        "print('support: {}'.format(support))"
      ],
      "outputs": [
        {
          "output_type": "stream",
          "name": "stdout",
          "text": [
            "precision: [0. 0. 0. 0. 0.]\n",
            "recall: [0. 0. 0. 0. 0.]\n",
            "fscore: [0. 0. 0. 0. 0.]\n",
            "support: [ 41 111  73  38  35]\n"
          ]
        },
        {
          "output_type": "stream",
          "name": "stderr",
          "text": [
            "/anaconda/envs/azureml_py36/lib/python3.6/site-packages/sklearn/metrics/_classification.py:1272: UndefinedMetricWarning: Precision and F-score are ill-defined and being set to 0.0 in labels with no predicted samples. Use `zero_division` parameter to control this behavior.\n",
            "  _warn_prf(average, modifier, msg_start, len(result))\n"
          ]
        }
      ],
      "execution_count": 50,
      "metadata": {
        "collapsed": true,
        "jupyter": {
          "source_hidden": false,
          "outputs_hidden": false
        },
        "nteract": {
          "transient": {
            "deleting": false
          }
        },
        "gather": {
          "logged": 1612875865945
        }
      }
    },
    {
      "cell_type": "code",
      "source": [],
      "outputs": [],
      "execution_count": null,
      "metadata": {
        "collapsed": true,
        "jupyter": {
          "source_hidden": false,
          "outputs_hidden": false
        },
        "nteract": {
          "transient": {
            "deleting": false
          }
        }
      }
    },
    {
      "cell_type": "markdown",
      "source": [
        "### **Training the CNN model**"
      ],
      "metadata": {
        "nteract": {
          "transient": {
            "deleting": false
          }
        }
      }
    },
    {
      "cell_type": "code",
      "source": [
        "def model_cnn(input_shape):\r\n",
        "    \"\"\"\r\n",
        "    Function to create the model's graph in Keras.\r\n",
        "\r\n",
        "    Returns:\r\n",
        "    model -- Keras model instance\r\n",
        "    \"\"\"\r\n",
        "    \r\n",
        "    X_input = Input(shape = input_shape)\r\n",
        "    \r\n",
        "    # CONV2D layer \r\n",
        "    X = Conv2D(filters = 50, kernel_size = (5,5), strides=(1, 4), padding='same', data_format=\"channels_last\", activation='relu')(X_input)\r\n",
        "    X = MaxPooling2D(pool_size=(2, 4))(X)\r\n",
        "    X = BatchNormalization(axis=-1)(X)\r\n",
        "    X = Dropout(rate = 0.4)(X)\r\n",
        "\r\n",
        "    # CONV2D Layer\r\n",
        "    X = Conv2D(filters = 100, kernel_size = (5,5), strides=(1, 2), padding='same', data_format=\"channels_last\", activation='relu')(X)\r\n",
        "    X = MaxPooling2D(pool_size=(2, 3))(X)\r\n",
        "    X = BatchNormalization(axis=-1)(X)\r\n",
        "    X = Dropout(rate = 0.4)(X)\r\n",
        "\r\n",
        "    # CONV2D Layer\r\n",
        "    X = Conv2D(filters = 128, kernel_size = (3,3), strides=(1, 1), padding='same', data_format=\"channels_last\", activation='relu')(X)\r\n",
        "    X = MaxPooling2D(pool_size=(2, 3))(X)\r\n",
        "    X = BatchNormalization(axis=-1)(X)\r\n",
        "    X = Dropout(rate = 0.4)(X)\r\n",
        "    \r\n",
        "    # Flatten and dense layer\r\n",
        "    X = Flatten()(X)\r\n",
        "    X = Dense(5, activation = \"relu\")(X)\r\n",
        "    X = Dense(5, activation = \"softmax\")(X)\r\n",
        "\r\n",
        "    model = Model(inputs = X_input, outputs = X)\r\n",
        "    \r\n",
        "    return model"
      ],
      "outputs": [],
      "execution_count": 84,
      "metadata": {
        "collapsed": true,
        "jupyter": {
          "source_hidden": false,
          "outputs_hidden": false
        },
        "nteract": {
          "transient": {
            "deleting": false
          }
        },
        "gather": {
          "logged": 1612883622001
        }
      }
    },
    {
      "cell_type": "code",
      "source": [
        "model_cnn = model_cnn(input_shape = X_train_cnn[0].shape)\r\n",
        "model_cnn.summary()"
      ],
      "outputs": [
        {
          "output_type": "stream",
          "name": "stdout",
          "text": [
            "Model: \"model_1\"\n",
            "_________________________________________________________________\n",
            "Layer (type)                 Output Shape              Param #   \n",
            "=================================================================\n",
            "input_2 (InputLayer)         [(None, 95, 2412, 1)]     0         \n",
            "_________________________________________________________________\n",
            "conv2d (Conv2D)              (None, 95, 603, 50)       1300      \n",
            "_________________________________________________________________\n",
            "max_pooling2d (MaxPooling2D) (None, 47, 150, 50)       0         \n",
            "_________________________________________________________________\n",
            "batch_normalization_3 (Batch (None, 47, 150, 50)       200       \n",
            "_________________________________________________________________\n",
            "dropout_4 (Dropout)          (None, 47, 150, 50)       0         \n",
            "_________________________________________________________________\n",
            "conv2d_1 (Conv2D)            (None, 47, 75, 100)       125100    \n",
            "_________________________________________________________________\n",
            "max_pooling2d_1 (MaxPooling2 (None, 23, 25, 100)       0         \n",
            "_________________________________________________________________\n",
            "batch_normalization_4 (Batch (None, 23, 25, 100)       400       \n",
            "_________________________________________________________________\n",
            "dropout_5 (Dropout)          (None, 23, 25, 100)       0         \n",
            "_________________________________________________________________\n",
            "conv2d_2 (Conv2D)            (None, 23, 25, 128)       115328    \n",
            "_________________________________________________________________\n",
            "max_pooling2d_2 (MaxPooling2 (None, 11, 8, 128)        0         \n",
            "_________________________________________________________________\n",
            "batch_normalization_5 (Batch (None, 11, 8, 128)        512       \n",
            "_________________________________________________________________\n",
            "dropout_6 (Dropout)          (None, 11, 8, 128)        0         \n",
            "_________________________________________________________________\n",
            "flatten (Flatten)            (None, 11264)             0         \n",
            "_________________________________________________________________\n",
            "dense_1 (Dense)              (None, 5)                 56325     \n",
            "_________________________________________________________________\n",
            "dense_2 (Dense)              (None, 5)                 30        \n",
            "=================================================================\n",
            "Total params: 299,195\n",
            "Trainable params: 298,639\n",
            "Non-trainable params: 556\n",
            "_________________________________________________________________\n"
          ]
        }
      ],
      "execution_count": 52,
      "metadata": {
        "collapsed": true,
        "jupyter": {
          "source_hidden": false,
          "outputs_hidden": false
        },
        "nteract": {
          "transient": {
            "deleting": false
          }
        },
        "gather": {
          "logged": 1612875866721
        }
      }
    },
    {
      "cell_type": "code",
      "source": [
        "model_cnn.compile(optimizer=\"adam\",loss=\"categorical_crossentropy\",metrics=[\"accuracy\"])"
      ],
      "outputs": [],
      "execution_count": 53,
      "metadata": {
        "collapsed": true,
        "jupyter": {
          "source_hidden": false,
          "outputs_hidden": false
        },
        "nteract": {
          "transient": {
            "deleting": false
          }
        },
        "gather": {
          "logged": 1612875867277
        }
      }
    },
    {
      "cell_type": "code",
      "source": [
        "# log best model\r\n",
        "checkpoint_best     = ModelCheckpoint('model_cnn_best',   monitor='loss', verbose=0, save_best_only=True, mode='auto')\r\n",
        "\r\n",
        "# log improved model\r\n",
        "checkpoint_epochs   = ModelCheckpoint('model_cnn_epochs', monitor='loss', verbose=0, save_best_only=True, mode='auto')"
      ],
      "outputs": [],
      "execution_count": 54,
      "metadata": {
        "collapsed": true,
        "jupyter": {
          "source_hidden": false,
          "outputs_hidden": false
        },
        "nteract": {
          "transient": {
            "deleting": false
          }
        },
        "gather": {
          "logged": 1612875867560
        }
      }
    },
    {
      "cell_type": "code",
      "source": [
        "model_cnn_hist = model_cnn.fit(X_train_cnn, Y_train_oh, validation_data=(X_test_cnn, Y_test_oh), epochs = 10, batch_size = 128, shuffle = True, callbacks=[early_stopping, checkpoint_best, checkpoint_epochs])"
      ],
      "outputs": [
        {
          "output_type": "stream",
          "name": "stdout",
          "text": [
            "Epoch 1/10\n",
            "11/11 [==============================] - 35s 3s/step - loss: 1.7183 - accuracy: 0.3314 - val_loss: 1.5742 - val_accuracy: 0.2450\b\b\b\b\b\b\b\b\b\b\b\b\b\b\b\b\b\b\b\b\b\b\b\b\b\b\b\b\b\b\b\b\b\b\b\b\b\b\n",
            "INFO:tensorflow:Assets written to: model_cnn_best/assets\n",
            "INFO:tensorflow:Assets written to: model_cnn_epochs/assets\n",
            "Epoch 2/10\n",
            "11/11 [==============================] - 33s 3s/step - loss: 1.5980 - accuracy: 0.3798 - val_loss: 1.6672 - val_accuracy: 0.2450\b\b\b\b\b\b\b\b\b\b\b\b\b\b\b\b\b\b\b\b\b\b\b\b\b\b\b\b\b\b\b\b\b\b\b\b\b\b\n",
            "INFO:tensorflow:Assets written to: model_cnn_best/assets\n",
            "INFO:tensorflow:Assets written to: model_cnn_epochs/assets\n",
            "Epoch 3/10\n",
            "11/11 [==============================] - 31s 3s/step - loss: 1.5906 - accuracy: 0.3709 - val_loss: 1.7101 - val_accuracy: 0.2450\b\b\b\b\b\b\b\b\b\b\b\b\b\b\b\b\b\b\b\b\b\b\b\b\b\b\b\b\b\b\b\b\b\b\b\b\b\b\n",
            "INFO:tensorflow:Assets written to: model_cnn_best/assets\n",
            "INFO:tensorflow:Assets written to: model_cnn_epochs/assets\n",
            "Epoch 4/10\n",
            "11/11 [==============================] - 32s 3s/step - loss: 1.5946 - accuracy: 0.3755 - val_loss: 1.6369 - val_accuracy: 0.2450\b\b\b\b\b\b\b\b\b\b\b\b\b\b\b\b\b\b\b\b\b\b\b\b\b\b\b\b\b\b\b\b\b\b\b\b\b\b\n",
            "INFO:tensorflow:Assets written to: model_cnn_best/assets\n",
            "INFO:tensorflow:Assets written to: model_cnn_epochs/assets\n",
            "Epoch 5/10\n",
            "11/11 [==============================] - 31s 3s/step - loss: 1.5912 - accuracy: 0.3628 - val_loss: 1.6947 - val_accuracy: 0.2450\b\b\b\b\b\b\b\b\b\b\b\b\b\b\b\b\b\b\b\b\b\b\b\b\b\b\b\b\b\b\b\b\b\b\b\b\b\b\n",
            "INFO:tensorflow:Assets written to: model_cnn_best/assets\n",
            "INFO:tensorflow:Assets written to: model_cnn_epochs/assets\n",
            "Epoch 6/10\n",
            "11/11 [==============================] - 32s 3s/step - loss: 1.5864 - accuracy: 0.3796 - val_loss: 1.8438 - val_accuracy: 0.2450\b\b\b\b\b\b\b\b\b\b\b\b\b\b\b\b\b\b\b\b\b\b\b\b\b\b\b\b\b\b\b\b\b\b\b\b\b\b\n",
            "INFO:tensorflow:Assets written to: model_cnn_best/assets\n",
            "INFO:tensorflow:Assets written to: model_cnn_epochs/assets\n",
            "Epoch 7/10\n",
            "11/11 [==============================] - 31s 3s/step - loss: 1.5784 - accuracy: 0.3683 - val_loss: 1.8841 - val_accuracy: 0.2450\b\b\b\b\b\b\b\b\b\b\b\b\b\b\b\b\b\b\b\b\b\b\b\b\b\b\b\b\b\b\b\b\b\b\b\b\b\b\n",
            "INFO:tensorflow:Assets written to: model_cnn_best/assets\n",
            "INFO:tensorflow:Assets written to: model_cnn_epochs/assets\n",
            "Epoch 8/10\n",
            "11/11 [==============================] - 32s 3s/step - loss: 1.5789 - accuracy: 0.3853 - val_loss: 2.0379 - val_accuracy: 0.3725\b\b\b\b\b\b\b\b\b\b\b\b\b\b\b\b\b\b\b\b\b\b\b\b\b\b\b\b\b\b\b\b\b\b\b\b\b\b\n",
            "Epoch 9/10\n",
            "11/11 [==============================] - 32s 3s/step - loss: 1.5762 - accuracy: 0.3700 - val_loss: 4.3650 - val_accuracy: 0.3725\b\b\b\b\b\b\b\b\b\b\b\b\b\b\b\b\b\b\b\b\b\b\b\b\b\b\b\b\b\b\b\b\b\b\b\b\b\b\n",
            "INFO:tensorflow:Assets written to: model_cnn_best/assets\n",
            "INFO:tensorflow:Assets written to: model_cnn_epochs/assets\n",
            "Epoch 10/10\n",
            "11/11 [==============================] - 31s 3s/step - loss: 1.5710 - accuracy: 0.3786 - val_loss: 5.6218 - val_accuracy: 0.3725\b\b\b\b\b\b\b\b\b\b\b\b\b\b\b\b\b\b\b\b\b\b\b\b\b\b\b\b\b\b\b\b\b\b\b\b\b\b\n",
            "INFO:tensorflow:Assets written to: model_cnn_best/assets\n",
            "INFO:tensorflow:Assets written to: model_cnn_epochs/assets\n"
          ]
        }
      ],
      "execution_count": 55,
      "metadata": {
        "collapsed": true,
        "jupyter": {
          "source_hidden": false,
          "outputs_hidden": false
        },
        "nteract": {
          "transient": {
            "deleting": false
          }
        },
        "gather": {
          "logged": 1612876242304
        }
      }
    },
    {
      "cell_type": "code",
      "source": [
        "score = model_cnn.evaluate(X_test_cnn, Y_test_oh, verbose=1)\r\n",
        "accuracy1 = 100*score[0]\r\n",
        "accuracy2 = 100*score[1]\r\n",
        "print('Test loss:  %.4f%%' % accuracy1)\r\n",
        "print('Test accuracy:  %.4f%%' % accuracy2)"
      ],
      "outputs": [
        {
          "output_type": "stream",
          "name": "stdout",
          "text": [
            "10/10 [==============================] - 1s 122ms/step - loss: 5.6218 - accuracy: 0.3725\b\b\b\b\b\b\b\b\b\b\b\b\b\b\b\b\b\b\b\b\b\b\b\b\b\b\b\b\b\b\b\b\b\b\b\b\b\b\b\b\b\b\b\b\b\b\b\b\b\b\b\b\b\b\b\b\b\b\b\b\b\b\b\b\b\b\b\b\b\b\b\b\b\b\b\b\b\b\b\b\b\b\b\b\b\b\n",
            "Test loss:  562.1849%\n",
            "Test accuracy:  37.2483%\n"
          ]
        }
      ],
      "execution_count": 56,
      "metadata": {
        "collapsed": true,
        "jupyter": {
          "source_hidden": false,
          "outputs_hidden": false
        },
        "nteract": {
          "transient": {
            "deleting": false
          }
        },
        "gather": {
          "logged": 1612876243882
        }
      }
    },
    {
      "cell_type": "code",
      "source": [
        "Y_predict = model_cnn.predict(X_test_cnn) \r\n",
        "cnn_confusionmatrix = metrics.confusion_matrix(Y_test_oh.argmax(axis=1), Y_predict.argmax(axis=1))\r\n",
        "print(cnn_confusionmatrix)"
      ],
      "outputs": [
        {
          "output_type": "stream",
          "name": "stdout",
          "text": [
            "[[  0  41   0   0   0]\n",
            " [  0 111   0   0   0]\n",
            " [  0  73   0   0   0]\n",
            " [  0  38   0   0   0]\n",
            " [  0  35   0   0   0]]\n"
          ]
        }
      ],
      "execution_count": 57,
      "metadata": {
        "collapsed": true,
        "jupyter": {
          "source_hidden": false,
          "outputs_hidden": false
        },
        "nteract": {
          "transient": {
            "deleting": false
          }
        },
        "gather": {
          "logged": 1612876245247
        }
      }
    },
    {
      "cell_type": "code",
      "source": [
        "plot_confusion_matrix(cnn_confusionmatrix, classes=['None','Mild', 'Moderate', 'Moderately \\n Severe', 'Severe'],\r\n",
        "                      title='CNN Confusion matrix')"
      ],
      "outputs": [
        {
          "output_type": "stream",
          "name": "stdout",
          "text": [
            "Confusion matrix, without normalization\n",
            "[[  0  41   0   0   0]\n",
            " [  0 111   0   0   0]\n",
            " [  0  73   0   0   0]\n",
            " [  0  38   0   0   0]\n",
            " [  0  35   0   0   0]]\n"
          ]
        },
        {
          "output_type": "display_data",
          "data": {
            "text/plain": "<Figure size 432x288 with 2 Axes>",
            "image/png": "[encoded data removed]"
          },
          "metadata": {
            "needs_background": "light"
          }
        }
      ],
      "execution_count": 58,
      "metadata": {
        "collapsed": true,
        "jupyter": {
          "source_hidden": false,
          "outputs_hidden": false
        },
        "nteract": {
          "transient": {
            "deleting": false
          }
        },
        "gather": {
          "logged": 1612876246273
        }
      }
    },
    {
      "cell_type": "code",
      "source": [],
      "outputs": [],
      "execution_count": null,
      "metadata": {
        "collapsed": true,
        "jupyter": {
          "source_hidden": false,
          "outputs_hidden": false
        },
        "nteract": {
          "transient": {
            "deleting": false
          }
        }
      }
    },
    {
      "cell_type": "code",
      "source": [
        "#Saving the cnn model\r\n",
        "with open('./depression-detection-extract/models/model_cnn_hist.json', 'w') as f:\r\n",
        "    json.dump(model_cnn_hist.history, f)\r\n",
        "model_cnn.save('./depression-detection-extract/models/model_cnn.h5')"
      ],
      "outputs": [],
      "execution_count": 59,
      "metadata": {
        "collapsed": true,
        "jupyter": {
          "source_hidden": false,
          "outputs_hidden": false
        },
        "nteract": {
          "transient": {
            "deleting": false
          }
        },
        "gather": {
          "logged": 1612876246582
        }
      }
    },
    {
      "cell_type": "code",
      "source": [
        "def plot_acc(history=model_cnn_hist, title=\"Model Accuracy\"):\r\n",
        "    plt.plot(history.history['accuracy'])\r\n",
        "    plt.plot(history.history['val_accuracy'])\r\n",
        "    plt.title(title)\r\n",
        "    plt.ylabel('Accuracy')\r\n",
        "    plt.xlabel('Epoch')\r\n",
        "    plt.legend(['Train', 'Val'], loc='upper left')\r\n",
        "    plt.show()\r\n",
        "    \r\n",
        "def plot_loss(history, title=\"Model Loss\"):\r\n",
        "    plt.plot(history.history['loss'])\r\n",
        "    plt.plot(history.history['val_loss'])\r\n",
        "    plt.title(title)\r\n",
        "    plt.ylabel('Loss')\r\n",
        "    plt.xlabel('Epoch')\r\n",
        "    plt.legend(['Train', 'Val'], loc='upper right')\r\n",
        "    plt.show()\r\n",
        "    \r\n",
        "def plot_compare_losses(history1, history2, name1=\"Red 1\", name2=\"Red 2\", title=\"Losses Comparison\"):\r\n",
        "    plt.plot(history1.history['loss'], color=\"green\")\r\n",
        "    plt.plot(history1.history['val_loss'], 'r--', color=\"green\")\r\n",
        "    plt.plot(history2.history['loss'], color=\"blue\")\r\n",
        "    plt.plot(history2.history['val_loss'], 'r--', color=\"blue\")\r\n",
        "    plt.title(title)\r\n",
        "    plt.ylabel('Loss')\r\n",
        "    plt.xlabel('Epoch')\r\n",
        "    plt.legend(['Train ' + name1, 'Val ' + name1, \r\n",
        "                'Train ' + name2, 'Val ' + name2],\r\n",
        "               loc='upper right')\r\n",
        "    plt.show()\r\n",
        "    \r\n",
        "def plot_compare_accs(history1, history2, name1=\"Red 1\",\r\n",
        "                      name2=\"Red 2\", title=\"Accuracy Comparison\"):\r\n",
        "    \"\"\"Compare Accuracies of Two Trainings with Names Name1 and Name2\"\"\"\r\n",
        "    plt.plot(history1.history['accuracy'], color=\"green\")\r\n",
        "    plt.plot(history1.history['val_accuracy'], 'r--', color=\"green\")\r\n",
        "    plt.plot(history2.history['accuracy'], color=\"blue\")\r\n",
        "    plt.plot(history2.history['val_accuracy'], 'r--', color=\"blue\")\r\n",
        "    plt.title(title)\r\n",
        "    plt.ylabel('Accuracy')\r\n",
        "    plt.xlabel('Epoch')\r\n",
        "    plt.legend(['Train ' + name1, 'Val ' + name1, \r\n",
        "                'Train ' + name2, 'Val ' + name2], \r\n",
        "               loc='lower right')\r\n",
        "    plt.show()\r\n",
        "\r\n",
        "def plot_compare_multiple_metrics(history_array, names, colors, title=\"Multiple metrics\", metric='accuracy'):  \r\n",
        "    legend = []\r\n",
        "    for i in range(0, len(history_array)):\r\n",
        "        plt.plot(history_array[i].history[metric], color=colors[i])\r\n",
        "        plt.plot(history_array[i].history['val_' + metric], 'r--', color=colors[i])\r\n",
        "        legend.append('Train ' + names[i])\r\n",
        "        legend.append('Val ' + names[i])\r\n",
        "    \r\n",
        "    plt.title(title)\r\n",
        "    plt.ylabel('Accuracy')\r\n",
        "    plt.xlabel('Epoch')   \r\n",
        "    plt.axis\r\n",
        "    plt.legend(legend, \r\n",
        "               loc='lower right')\r\n",
        "    plt.show()"
      ],
      "outputs": [],
      "execution_count": 60,
      "metadata": {
        "collapsed": true,
        "jupyter": {
          "source_hidden": false,
          "outputs_hidden": false
        },
        "nteract": {
          "transient": {
            "deleting": false
          }
        },
        "gather": {
          "logged": 1612876246876
        }
      }
    },
    {
      "cell_type": "markdown",
      "source": [
        "### **Using ensemble learning to improve on model accuracy**\r\n",
        "\r\n",
        "From the above hypotheses, indivdual models are not performing so well. There's <br>\r\n",
        "therefore the need to introduce ensemble learning.\r\n",
        "\r\n",
        "Retraining the CNN model but saving multiple models with each iteration.<br>\r\n",
        "The models would then be combined to try reducing the variance and<br>\r\n",
        "generalization error & improve on accuracy"
      ],
      "metadata": {
        "nteract": {
          "transient": {
            "deleting": false
          }
        }
      }
    },
    {
      "cell_type": "code",
      "source": [],
      "outputs": [],
      "execution_count": null,
      "metadata": {
        "collapsed": true,
        "jupyter": {
          "source_hidden": false,
          "outputs_hidden": false
        },
        "nteract": {
          "transient": {
            "deleting": false
          }
        }
      }
    },
    {
      "cell_type": "code",
      "source": [
        "from math import floor\r\n",
        "from math import pi\r\n",
        "from math import cos\r\n",
        "from keras.callbacks import Callback\r\n",
        "from keras.optimizers import SGD\r\n",
        "from keras import backend\r\n",
        "\r\n",
        "# snapshot ensemble with custom learning rate schedule\r\n",
        "class SnapshotEnsemble(Callback):\r\n",
        "\t# constructor\r\n",
        "\tdef __init__(self, n_epochs, n_cycles, lrate_max, verbose=0):\r\n",
        "\t\tself.epochs = n_epochs\r\n",
        "\t\tself.cycles = n_cycles\r\n",
        "\t\tself.lr_max = lrate_max\r\n",
        "\t\tself.lrates = list()\r\n",
        " \r\n",
        "\t# calculate learning rate for epoch\r\n",
        "\tdef cosine_annealing(self, epoch, n_epochs, n_cycles, lrate_max):\r\n",
        "\t\tepochs_per_cycle = floor(n_epochs/n_cycles)\r\n",
        "\t\tcos_inner = (pi * (epoch % epochs_per_cycle)) / (epochs_per_cycle)\r\n",
        "\t\treturn lrate_max/2 * (cos(cos_inner) + 1)\r\n",
        " \r\n",
        "\t# calculate and set learning rate at the start of the epoch\r\n",
        "\tdef on_epoch_begin(self, epoch, logs={}):\r\n",
        "\t\t# calculate learning rate\r\n",
        "\t\tlr = self.cosine_annealing(epoch, self.epochs, self.cycles, self.lr_max)\r\n",
        "\t\t# set learning rate\r\n",
        "\t\tbackend.set_value(self.model.optimizer.lr, lr)\r\n",
        "\t\t# log value\r\n",
        "\t\tself.lrates.append(lr)\r\n",
        " \r\n",
        "\t# save models at the end of each cycle\r\n",
        "\tdef on_epoch_end(self, epoch, logs={}):\r\n",
        "\t\t# check if we can save model\r\n",
        "\t\tepochs_per_cycle = floor(self.epochs / self.cycles)\r\n",
        "\t\tif epoch != 0 and (epoch + 1) % epochs_per_cycle == 0:\r\n",
        "\t\t\t# save model to file\r\n",
        "\t\t\tfilename = \"snapshot_model_%d.h5\" % int((epoch + 1) / epochs_per_cycle)\r\n",
        "\t\t\tself.model.save(filename)\r\n",
        "\t\t\tprint('>saved snapshot %s, epoch %d' % (filename, epoch))"
      ],
      "outputs": [],
      "execution_count": 62,
      "metadata": {
        "collapsed": true,
        "jupyter": {
          "source_hidden": false,
          "outputs_hidden": false
        },
        "nteract": {
          "transient": {
            "deleting": false
          }
        },
        "gather": {
          "logged": 1612876247855
        }
      }
    },
    {
      "cell_type": "code",
      "source": [
        "model_cnn2 = model_cnn(input_shape = X_train_cnn[0].shape)\r\n",
        "model_cnn2.compile(optimizer=opt,loss=\"categorical_crossentropy\",metrics=[\"accuracy\"])"
      ],
      "outputs": [],
      "execution_count": 85,
      "metadata": {
        "collapsed": true,
        "jupyter": {
          "source_hidden": false,
          "outputs_hidden": false
        },
        "nteract": {
          "transient": {
            "deleting": false
          }
        },
        "gather": {
          "logged": 1612883643521
        }
      }
    },
    {
      "cell_type": "code",
      "source": [
        "# create snapshot ensemble callback\r\n",
        "n_epochs = 100\r\n",
        "n_cycles = n_epochs / 10\r\n",
        "ca = SnapshotEnsemble(n_epochs, n_cycles, 0.01)"
      ],
      "outputs": [],
      "execution_count": 87,
      "metadata": {
        "collapsed": true,
        "jupyter": {
          "source_hidden": false,
          "outputs_hidden": false
        },
        "nteract": {
          "transient": {
            "deleting": false
          }
        },
        "gather": {
          "logged": 1612883745650
        }
      }
    },
    {
      "cell_type": "code",
      "source": [
        "ensemble_hist = model_cnn2.fit(X_train_cnn, Y_train_oh, validation_data=(X_test_cnn, Y_test_oh), epochs = n_epochs, verbose=0, callbacks=[early_stopping, ca])"
      ],
      "outputs": [
        {
          "output_type": "stream",
          "name": "stdout",
          "text": [
            ">saved snapshot snapshot_model_1.h5, epoch 9\n",
            ">saved snapshot snapshot_model_2.h5, epoch 19\n",
            ">saved snapshot snapshot_model_3.h5, epoch 29\n",
            ">saved snapshot snapshot_model_4.h5, epoch 39\n",
            ">saved snapshot snapshot_model_5.h5, epoch 49\n",
            ">saved snapshot snapshot_model_6.h5, epoch 59\n",
            ">saved snapshot snapshot_model_7.h5, epoch 69\n",
            ">saved snapshot snapshot_model_8.h5, epoch 79\n",
            ">saved snapshot snapshot_model_9.h5, epoch 89\n",
            ">saved snapshot snapshot_model_10.h5, epoch 99\n"
          ]
        }
      ],
      "execution_count": 92,
      "metadata": {
        "collapsed": true,
        "jupyter": {
          "source_hidden": false,
          "outputs_hidden": false
        },
        "nteract": {
          "transient": {
            "deleting": false
          }
        },
        "gather": {
          "logged": 1612884008821
        }
      }
    },
    {
      "cell_type": "markdown",
      "source": [
        "### **Load Models and Make Ensemble Prediction**"
      ],
      "metadata": {
        "nteract": {
          "transient": {
            "deleting": false
          }
        }
      }
    },
    {
      "cell_type": "code",
      "source": [
        "from keras.models import load_model\r\n",
        "from numpy import array\r\n",
        "from numpy import argmax\r\n",
        "from numpy import mean\r\n",
        "from numpy import std\r\n",
        "import numpy\r\n",
        "from sklearn.metrics import accuracy_score\r\n",
        "\r\n",
        "# load models from file\r\n",
        "def load_all_models(n_models):\r\n",
        "\tall_models = list()\r\n",
        "\tfor i in range(n_models):\r\n",
        "\t\t# define filename for this ensemble\r\n",
        "\t\tfilename = 'snapshot_model_' + str(i + 1) + '.h5'\r\n",
        "\t\t# load model from file\r\n",
        "\t\tmodel = load_model(filename)\r\n",
        "\t\t# add to list of members\r\n",
        "\t\tall_models.append(model)\r\n",
        "\t\tprint('>loaded %s' % filename)\r\n",
        "\treturn all_models\r\n",
        " \r\n",
        "# make an ensemble prediction for multi-class classification\r\n",
        "def ensemble_predictions(members, testX):\r\n",
        "\t# make predictions\r\n",
        "\tyhats = [model.predict(testX) for model in members]\r\n",
        "\tyhats = array(yhats)\r\n",
        "\t# sum across ensemble members\r\n",
        "\tsummed = numpy.sum(yhats, axis=0)\r\n",
        "\t# argmax across classes\r\n",
        "\tresult = argmax(summed, axis=1)\r\n",
        "\treturn result\r\n",
        " \r\n",
        "# evaluate a specific number of members in an ensemble\r\n",
        "def evaluate_n_members(members, n_members, testX, testy):\r\n",
        "\t# select a subset of members\r\n",
        "\tsubset = members[:n_members]\r\n",
        "\t# make prediction\r\n",
        "\tyhat = ensemble_predictions(subset, testX)\r\n",
        "\t# calculate accuracy\r\n",
        "\treturn accuracy_score(testy, yhat)\r\n",
        " \r\n",
        "# generate 2d classification dataset\r\n",
        "X, y = make_blobs(n_samples=1100, centers=3, n_features=2, cluster_std=2, random_state=2)\r\n",
        "# split into train and test\r\n",
        "n_train = 100\r\n",
        "trainX, testX = X[:n_train, :], X[n_train:, :]\r\n",
        "trainy, testy = y[:n_train], y[n_train:]\r\n",
        "print(trainX.shape, testX.shape)\r\n",
        "# load models in order\r\n",
        "members = load_all_models(10)\r\n",
        "print('Loaded %d models' % len(members))\r\n",
        "# reverse loaded models so we build the ensemble with the last models first\r\n",
        "members = list(reversed(members))\r\n",
        "# evaluate different numbers of ensembles on hold out set\r\n",
        "single_scores, ensemble_scores = list(), list()\r\n",
        "for i in range(1, len(members)+1):\r\n",
        "\t# evaluate model with i members\r\n",
        "\tensemble_score = evaluate_n_members(members, i, testX, testy)\r\n",
        "\t# evaluate the i'th model standalone\r\n",
        "\ttesty_enc = to_categorical(testy)\r\n",
        "\t_, single_score = members[i-1].evaluate(testX, testy_enc, verbose=0)\r\n",
        "\t# summarize this step\r\n",
        "\tprint('> %d: single=%.3f, ensemble=%.3f' % (i, single_score, ensemble_score))\r\n",
        "\tensemble_scores.append(ensemble_score)\r\n",
        "\tsingle_scores.append(single_score)\r\n",
        "# summarize average accuracy of a single final model\r\n",
        "print('Accuracy %.3f (%.3f)' % (mean(single_scores), std(single_scores)))"
      ],
      "outputs": [
        {
          "output_type": "stream",
          "name": "stdout",
          "text": [
            "(100, 2) (1000, 2)\n",
            ">loaded snapshot_model_1.h5\n",
            ">loaded snapshot_model_2.h5\n",
            ">loaded snapshot_model_3.h5\n",
            ">loaded snapshot_model_4.h5\n",
            ">loaded snapshot_model_5.h5\n",
            ">loaded snapshot_model_6.h5\n",
            ">loaded snapshot_model_7.h5\n",
            ">loaded snapshot_model_8.h5\n",
            ">loaded snapshot_model_9.h5\n",
            ">loaded snapshot_model_10.h5\n",
            "Loaded 10 models\n",
            "> 1: single=0.690, ensemble=0.690\n",
            "> 2: single=0.667, ensemble=0.682\n",
            "> 3: single=0.676, ensemble=0.683\n",
            "> 4: single=0.688, ensemble=0.682\n",
            "> 5: single=0.642, ensemble=0.682\n",
            "> 6: single=0.628, ensemble=0.673\n",
            "> 7: single=0.648, ensemble=0.667\n",
            "> 8: single=0.637, ensemble=0.667\n",
            "> 9: single=0.616, ensemble=0.665\n",
            "> 10: single=0.579, ensemble=0.659\n",
            "Accuracy 0.647 (-0.067)\n"
          ]
        }
      ],
      "execution_count": 105,
      "metadata": {
        "collapsed": true,
        "jupyter": {
          "source_hidden": false,
          "outputs_hidden": false
        },
        "nteract": {
          "transient": {
            "deleting": false
          }
        },
        "gather": {
          "logged": 1612885194186
        }
      }
    },
    {
      "cell_type": "code",
      "source": [
        "plot_acc(ensemble_hist)\r\n",
        "plot_loss(ensemble_hist)"
      ],
      "outputs": [],
      "execution_count": null,
      "metadata": {
        "collapsed": true,
        "jupyter": {
          "source_hidden": false,
          "outputs_hidden": false
        },
        "nteract": {
          "transient": {
            "deleting": false
          }
        },
        "gather": {
          "logged": 1612885607683
        }
      }
    },
    {
      "cell_type": "markdown",
      "source": [
        "### **Stacking the ensemble models to a single model**\r\n",
        "The enseble approach shows improved accuracy. Here the models are<br>\r\n",
        "stacked together into a single model."
      ],
      "metadata": {
        "nteract": {
          "transient": {
            "deleting": false
          }
        }
      }
    },
    {
      "cell_type": "code",
      "source": [
        "from numpy import dstack\r\n",
        "# from sklearn.linear_model import LogisticRegression\r\n",
        "import sklearn.linear_model as lm\r\n",
        "\r\n",
        "# create stacked model input dataset as outputs from the ensemble\r\n",
        "def stacked_dataset(members, inputX):\r\n",
        "\tstackX = None\r\n",
        "\tfor model in members:\r\n",
        "\t\t# make prediction\r\n",
        "\t\tyhat = model.predict(inputX, verbose=0)\r\n",
        "\t\t# stack predictions into [rows, members, probabilities]\r\n",
        "\t\tif stackX is None:\r\n",
        "\t\t\tstackX = yhat\r\n",
        "\t\telse:\r\n",
        "\t\t\tstackX = dstack((stackX, yhat))\r\n",
        "\t# flatten predictions to [rows, members x probabilities]\r\n",
        "\tstackX = stackX.reshape((stackX.shape[0], stackX.shape[1]*stackX.shape[2]))\r\n",
        "\treturn stackX\r\n",
        " \r\n",
        "# fit a model based on the outputs from the ensemble members\r\n",
        "def fit_stacked_model(members, inputX, inputy):\r\n",
        "\t# create dataset using ensemble\r\n",
        "\tstackedX = stacked_dataset(members, inputX)\r\n",
        "\t# fit standalone model\r\n",
        "\tmodel = lm.LogisticRegression()\r\n",
        "\tmodel.fit(stackedX, inputy)\r\n",
        "\treturn model\r\n",
        " \r\n",
        "# make a prediction with the stacked model\r\n",
        "def stacked_prediction(members, model, inputX):\r\n",
        "\t# create dataset using ensemble\r\n",
        "\tstackedX = stacked_dataset(members, inputX)\r\n",
        "\t# make a prediction\r\n",
        "\tyhat = model.predict(stackedX)\r\n",
        "\treturn yhat"
      ],
      "outputs": [],
      "execution_count": 121,
      "metadata": {
        "collapsed": true,
        "jupyter": {
          "source_hidden": false,
          "outputs_hidden": false
        },
        "nteract": {
          "transient": {
            "deleting": false
          }
        },
        "gather": {
          "logged": 1612886757916
        }
      }
    },
    {
      "cell_type": "code",
      "source": [
        "stacked_model = fit_stacked_model(members, testX, testy)\r\n",
        "# evaluate model on test set\r\n",
        "yhat = stacked_prediction(members, stacked_model, testX)\r\n",
        "acc = accuracy_score(testy, yhat)\r\n",
        "print('Stacked Model Test Accuracy: %.3f' % acc)"
      ],
      "outputs": [
        {
          "output_type": "stream",
          "name": "stdout",
          "text": [
            "Stacked Model Test Accuracy: 0.659\n"
          ]
        }
      ],
      "execution_count": 145,
      "metadata": {
        "collapsed": true,
        "jupyter": {
          "source_hidden": false,
          "outputs_hidden": false
        },
        "nteract": {
          "transient": {
            "deleting": false
          }
        },
        "gather": {
          "logged": 1612887207753
        }
      }
    },
    {
      "cell_type": "code",
      "source": [
        "# Saving the stacked model\r\n",
        "filename = './depression-detection-extract/models/stacked_model.h5'\r\n",
        "pickle.dump(stacked_model, open(filename, 'wb'))"
      ],
      "outputs": [],
      "execution_count": 147,
      "metadata": {
        "collapsed": true,
        "jupyter": {
          "source_hidden": false,
          "outputs_hidden": false
        },
        "nteract": {
          "transient": {
            "deleting": false
          }
        },
        "gather": {
          "logged": 1612887955266
        }
      }
    },
    {
      "cell_type": "markdown",
      "source": [
        "### **Converting model to tflite format (for deployment on android)**"
      ],
      "metadata": {
        "nteract": {
          "transient": {
            "deleting": false
          }
        }
      }
    },
    {
      "cell_type": "code",
      "source": [
        "import tensorflow as tf\r\n",
        "\r\n",
        "model = tf.keras.models.load_model('./depression-detection-extract/models/stacked_model.h5')\r\n",
        "converter = tf.lite.TFLiteConverter.from_keras_model(model)\r\n",
        "tflite_model = converter.convert()\r\n",
        "open(\"./depression-detection-extract/models/model.tflite\", \"wb\").write(tflite_model)"
      ],
      "outputs": [
        {
          "output_type": "stream",
          "name": "stdout",
          "text": [
            "INFO:tensorflow:Assets written to: /tmp/tmpadvmdbeb/assets\n"
          ]
        },
        {
          "output_type": "stream",
          "name": "stderr",
          "text": [
            "INFO:tensorflow:Assets written to: /tmp/tmpadvmdbeb/assets\n"
          ]
        },
        {
          "output_type": "execute_result",
          "execution_count": 175,
          "data": {
            "text/plain": "1199940"
          },
          "metadata": {}
        }
      ],
      "execution_count": 175,
      "metadata": {
        "collapsed": true,
        "jupyter": {
          "source_hidden": false,
          "outputs_hidden": false
        },
        "nteract": {
          "transient": {
            "deleting": false
          }
        },
        "gather": {
          "logged": 1612891780885
        }
      }
    },
    {
      "cell_type": "markdown",
      "source": [
        "### **Using quantization to compress the model by reducing weights**"
      ],
      "metadata": {
        "nteract": {
          "transient": {
            "deleting": false
          }
        }
      }
    },
    {
      "cell_type": "code",
      "source": [
        "converter = tf.lite.TFLiteConverter.from_saved_model('./depression-detection-extract/models/model_cnn.h5')\r\n",
        "converter.optimizations = [tf.lite.Optimize.DEFAULT]\r\n",
        "tflite_quant_model = converter.convert()\r\n",
        "open(\"./depression-detection-extract/models/model2.tflite\", \"wb\").write(tflite_quant_model)"
      ],
      "outputs": [
        {
          "output_type": "stream",
          "name": "stdout",
          "text": [
            "INFO:tensorflow:Assets written to: /tmp/tmp1eimq6a9/assets\n"
          ]
        },
        {
          "output_type": "stream",
          "name": "stderr",
          "text": [
            "INFO:tensorflow:Assets written to: /tmp/tmp1eimq6a9/assets\n"
          ]
        },
        {
          "output_type": "execute_result",
          "execution_count": 181,
          "data": {
            "text/plain": "1199940"
          },
          "metadata": {}
        }
      ],
      "execution_count": 181,
      "metadata": {
        "collapsed": true,
        "jupyter": {
          "source_hidden": false,
          "outputs_hidden": false
        },
        "nteract": {
          "transient": {
            "deleting": false
          }
        },
        "gather": {
          "logged": 1612894641286
        }
      }
    },
    {
      "cell_type": "code",
      "source": [],
      "outputs": [],
      "execution_count": null,
      "metadata": {
        "collapsed": true,
        "jupyter": {
          "source_hidden": false,
          "outputs_hidden": false
        },
        "nteract": {
          "transient": {
            "deleting": false
          }
        }
      }
    }
  ],
  "metadata": {
    "kernelspec": {
      "name": "python3-azureml",
      "language": "python",
      "display_name": "Python 3.6 - AzureML"
    },
    "language_info": {
      "name": "python",
      "version": "3.6.9",
      "mimetype": "text/x-python",
      "codemirror_mode": {
        "name": "ipython",
        "version": 3
      },
      "pygments_lexer": "ipython3",
      "nbconvert_exporter": "python",
      "file_extension": ".py"
    },
    "kernel_info": {
      "name": "python3-azureml"
    },
    "nteract": {
      "version": "nteract-front-end@1.0.0"
    }
  },
  "nbformat": 4,
  "nbformat_minor": 2
}