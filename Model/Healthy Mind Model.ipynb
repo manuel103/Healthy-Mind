{
  "cells": [
    {
      "cell_type": "code",
      "source": [
        "# Get the audio data\r\n",
        "!wget -r -np -nH --cut-dirs=3 -R index.html --user=daicwozuser --password= --no-check-certificate  https://dcapswoz.ict.usc.edu/wwwdaicwoz/"
      ],
      "outputs": [],
      "execution_count": null,
      "metadata": {
        "gather": {
          "logged": 1610274100960
        }
      }
    },
    {
      "cell_type": "code",
      "source": [
        "from pydub import AudioSegment\r\n",
        "from scipy import signal\r\n",
        "from sklearn.utils import shuffle\r\n",
        "import re\r\n",
        "import pandas as pd\r\n",
        "import numpy as np\r\n",
        "import statistics as stats\r\n",
        "import matplotlib.pyplot as plt\r\n",
        "from scipy import signal\r\n",
        "from scipy.io import wavfile\r\n",
        "import librosa\r\n",
        "from librosa import display\r\n",
        "from sklearn.metrics import confusion_matrix\r\n",
        "import keras\r\n",
        "from keras.models import Sequential, Model\r\n",
        "from keras.layers import Dense, Dropout, Flatten, BatchNormalization, Embedding, Activation\r\n",
        "from keras.layers import Conv1D, Conv2D, MaxPooling2D, ConvLSTM2D, LSTM, Bidirectional, GRU, TimeDistributed\r\n",
        "from keras.optimizers import *\r\n",
        "from keras.engine.input_layer import Input\r\n",
        "from keras.callbacks import EarlyStopping, ModelCheckpoint\r\n",
        "import tensorflow as tf\r\n",
        "import itertools\r\n",
        "import math\r\n",
        "import time\r\n",
        "import os\r\n",
        "import json"
      ],
      "outputs": [],
      "execution_count": 18,
      "metadata": {
        "collapsed": true,
        "jupyter": {
          "source_hidden": false,
          "outputs_hidden": false
        },
        "nteract": {
          "transient": {
            "deleting": false
          }
        },
        "gather": {
          "logged": 1612296828466
        }
      }
    },
    {
      "cell_type": "code",
      "source": [
        "# Extract the files\r\n",
        "\r\n",
        "import fnmatch\r\n",
        "import os\r\n",
        "import zipfile\r\n",
        "\"\"\"\r\n",
        "    A script that takes in a zip file and extracts the .wav file and\r\n",
        "    transcript.csv files into separate folders in the specified directory.\r\n",
        "\"\"\"\r\n",
        "\r\n",
        "\r\n",
        "def extract_files(zip_file, out_dir, delete_zip=False):\r\n",
        " \r\n",
        "    # create audio directory\r\n",
        "    audio_dir = os.path.join(out_dir, 'audio')\r\n",
        "    if not os.path.exists(audio_dir):\r\n",
        "        os.makedirs(audio_dir)\r\n",
        "\r\n",
        "    # create transcripts directory\r\n",
        "    transcripts_dir = os.path.join(out_dir, 'transcripts')\r\n",
        "    if not os.path.exists(audio_dir):\r\n",
        "        os.makedirs(transcripts_dir)\r\n",
        "\r\n",
        "    zip_ref = zipfile.ZipFile(zip_file)\r\n",
        "    for f in zip_ref.namelist():  # iterate through files in zip file\r\n",
        "        if f.endswith('.wav'):\r\n",
        "            zip_ref.extract(f, audio_dir)\r\n",
        "        elif fnmatch.fnmatch(f, '*TRANSCRIPT.csv'):\r\n",
        "            zip_ref.extract(f, transcripts_dir)\r\n",
        "    zip_ref.close()\r\n",
        "\r\n",
        "    if delete_zip:\r\n",
        "        os.remove(zip_file)\r\n",
        "\r\n",
        "\r\n",
        "if __name__ == '__main__':\r\n",
        "    # directory containing DAIC-WOZ zip files\r\n",
        "    dir_name = '../../Users/emmanuel.okwiri/'\r\n",
        "\r\n",
        "    # directory where audio and transcripts folders will be created\r\n",
        "    out_dir = './depression-detection-extract/data/raw'\r\n",
        "\r\n",
        "    # delete zip file after file wav and csv extraction. Set to true if you want to delete, otherwise, false.\r\n",
        "    delete_zip = True\r\n",
        "\r\n",
        "    # iterate through zip files in dir_name and extracts wav and transcripts\r\n",
        "    for file in os.listdir(dir_name):\r\n",
        "        if file.endswith('.zip'):\r\n",
        "            zip_file = os.path.join(dir_name, file)\r\n",
        "            extract_files(zip_file, out_dir, delete_zip=delete_zip)\r\n"
      ],
      "outputs": [],
      "execution_count": 19,
      "metadata": {
        "collapsed": true,
        "jupyter": {
          "source_hidden": false,
          "outputs_hidden": false
        },
        "nteract": {
          "transient": {
            "deleting": false
          }
        },
        "gather": {
          "logged": 1612296837639
        }
      }
    },
    {
      "cell_type": "code",
      "source": [
        "# Function definition to calculate spectograms and confussion matrix\r\n",
        "\r\n",
        "num_classes = 5\r\n",
        "data_path = \"./depression-detection-extract/data/raw/transcripts/\"\r\n",
        "audio_path = \"./depression-detection-extract/data/raw/audio/\"\r\n",
        "\r\n",
        "SR = 22050\r\n",
        "def get_short_time_fourier_transform(soundwave):\r\n",
        "    return librosa.stft(soundwave, n_fft=256)\r\n",
        "\r\n",
        "def short_time_fourier_transform_amplitude_to_db(stft):\r\n",
        "    return librosa.amplitude_to_db(np.abs(stft))\r\n",
        "\r\n",
        "def soundwave_to_np_spectrogram(soundwave):\r\n",
        "    step1 = get_short_time_fourier_transform(soundwave)\r\n",
        "    step2 = short_time_fourier_transform_amplitude_to_db(step1)\r\n",
        "    step3 = step2/100\r\n",
        "    return step3\r\n",
        "\r\n",
        "def inspect_data(sound):\r\n",
        "    a = get_short_time_fourier_transform(sound)\r\n",
        "    Xdb = short_time_fourier_transform_amplitude_to_db(a)\r\n",
        "    return Xdb"
      ],
      "outputs": [],
      "execution_count": 3,
      "metadata": {
        "collapsed": true,
        "jupyter": {
          "source_hidden": false,
          "outputs_hidden": false
        },
        "nteract": {
          "transient": {
            "deleting": false
          }
        },
        "gather": {
          "logged": 1610730477596
        }
      }
    },
    {
      "cell_type": "code",
      "source": [
        "def confusion_matrix(model, x, y):\r\n",
        "    prediction = model.predict(x, batch_size=None, verbose=0, steps=None)\r\n",
        "    labels=['none','mild','moderate','moderately severe', 'severe']\r\n",
        "\r\n",
        "    max_prediction = np.argmax(prediction, axis=1)\r\n",
        "    max_actual = np.argmax(y, axis=1)\r\n",
        "\r\n",
        "    y_pred = pd.Categorical.from_codes(max_prediction, labels)\r\n",
        "    y_actu = pd.Categorical.from_codes(max_actual, labels)\r\n",
        "\r\n",
        "    return pd.crosstab(y_actu, y_pred)"
      ],
      "outputs": [],
      "execution_count": 4,
      "metadata": {
        "collapsed": true,
        "jupyter": {
          "source_hidden": false,
          "outputs_hidden": false
        },
        "nteract": {
          "transient": {
            "deleting": false
          }
        },
        "gather": {
          "logged": 1610730480431
        }
      }
    },
    {
      "cell_type": "code",
      "source": [
        "def load_avec_dataset_file(path, score_column):\r\n",
        "    ds = pd.read_csv(path, sep=',')\r\n",
        "    ds['level'] = pd.cut(ds[score_column], bins=[-1,0,5,10,15,25], labels=[0,1,2,3,4])\r\n",
        "    ds['PHQ8_Score'] = ds[score_column]\r\n",
        "    ds['cat_level'] = keras.utils.to_categorical(ds['level'], num_classes).tolist()\r\n",
        "    ds = ds[['Participant_ID', 'level', 'cat_level', 'PHQ8_Score']]\r\n",
        "    ds = ds.astype({\"Participant_ID\": float, \"level\": int, 'PHQ8_Score': int})\r\n",
        "    return ds"
      ],
      "outputs": [],
      "execution_count": 5,
      "metadata": {
        "collapsed": true,
        "jupyter": {
          "source_hidden": false,
          "outputs_hidden": false
        },
        "nteract": {
          "transient": {
            "deleting": false
          }
        },
        "gather": {
          "logged": 1610730482762
        }
      }
    },
    {
      "cell_type": "code",
      "source": [
        " # Split 70, 14 and 16 for training, dev & test\r\n",
        "\r\n",
        "train = load_avec_dataset_file('./depression-detection-extract/data/train_split_Depression_AVEC2017.csv', 'PHQ8_Score')\r\n",
        "dev = load_avec_dataset_file('./depression-detection-extract/data/dev_split_Depression_AVEC2017.csv', 'PHQ8_Score')\r\n",
        "test = load_avec_dataset_file('./depression-detection-extract/data/full_test_split.csv', 'PHQ_Score')\r\n",
        "print(\"Size: train= {}, dev= {}, test= {}\".format(len(train), len(dev), len(test)))\r\n",
        "train.head()"
      ],
      "outputs": [
        {
          "output_type": "stream",
          "name": "stdout",
          "text": [
            "Size: train= 107, dev= 35, test= 47\n"
          ]
        },
        {
          "output_type": "execute_result",
          "execution_count": 20,
          "data": {
            "text/plain": "   Participant_ID  level                  cat_level  PHQ8_Score\n0           303.0      0  [1.0, 0.0, 0.0, 0.0, 0.0]           0\n1           304.0      2  [0.0, 0.0, 1.0, 0.0, 0.0]           6\n2           305.0      2  [0.0, 0.0, 1.0, 0.0, 0.0]           7\n3           310.0      1  [0.0, 1.0, 0.0, 0.0, 0.0]           4\n4           312.0      1  [0.0, 1.0, 0.0, 0.0, 0.0]           2",
            "text/html": "<div>\n<style scoped>\n    .dataframe tbody tr th:only-of-type {\n        vertical-align: middle;\n    }\n\n    .dataframe tbody tr th {\n        vertical-align: top;\n    }\n\n    .dataframe thead th {\n        text-align: right;\n    }\n</style>\n<table border=\"1\" class=\"dataframe\">\n  <thead>\n    <tr style=\"text-align: right;\">\n      <th></th>\n      <th>Participant_ID</th>\n      <th>level</th>\n      <th>cat_level</th>\n      <th>PHQ8_Score</th>\n    </tr>\n  </thead>\n  <tbody>\n    <tr>\n      <th>0</th>\n      <td>303.0</td>\n      <td>0</td>\n      <td>[1.0, 0.0, 0.0, 0.0, 0.0]</td>\n      <td>0</td>\n    </tr>\n    <tr>\n      <th>1</th>\n      <td>304.0</td>\n      <td>2</td>\n      <td>[0.0, 0.0, 1.0, 0.0, 0.0]</td>\n      <td>6</td>\n    </tr>\n    <tr>\n      <th>2</th>\n      <td>305.0</td>\n      <td>2</td>\n      <td>[0.0, 0.0, 1.0, 0.0, 0.0]</td>\n      <td>7</td>\n    </tr>\n    <tr>\n      <th>3</th>\n      <td>310.0</td>\n      <td>1</td>\n      <td>[0.0, 1.0, 0.0, 0.0, 0.0]</td>\n      <td>4</td>\n    </tr>\n    <tr>\n      <th>4</th>\n      <td>312.0</td>\n      <td>1</td>\n      <td>[0.0, 1.0, 0.0, 0.0, 0.0]</td>\n      <td>2</td>\n    </tr>\n  </tbody>\n</table>\n</div>"
          },
          "metadata": {}
        }
      ],
      "execution_count": 20,
      "metadata": {
        "collapsed": true,
        "jupyter": {
          "source_hidden": false,
          "outputs_hidden": false
        },
        "nteract": {
          "transient": {
            "deleting": false
          }
        },
        "gather": {
          "logged": 1612296881730
        }
      }
    },
    {
      "cell_type": "markdown",
      "source": [
        "### Audio segmentation & speaker diarization"
      ],
      "metadata": {
        "nteract": {
          "transient": {
            "deleting": false
          }
        }
      }
    },
    {
      "cell_type": "code",
      "source": [
        "ds_total = pd.concat([train,dev,test])\r\n",
        "total_phq8 = len(ds_total)\r\n",
        "print(\"Total size = {}\".format(total_phq8))"
      ],
      "outputs": [
        {
          "output_type": "stream",
          "name": "stdout",
          "text": [
            "Total size = 189\n"
          ]
        }
      ],
      "execution_count": 7,
      "metadata": {
        "collapsed": true,
        "jupyter": {
          "source_hidden": false,
          "outputs_hidden": false
        },
        "nteract": {
          "transient": {
            "deleting": false
          }
        },
        "gather": {
          "logged": 1610730490196
        }
      }
    },
    {
      "cell_type": "code",
      "source": [
        "ds_total.to_csv(data_path + 'ds_total.csv', sep='\\t')\r\n",
        "print(\"File created\")"
      ],
      "outputs": [
        {
          "output_type": "stream",
          "name": "stdout",
          "text": [
            "File created\n"
          ]
        }
      ],
      "execution_count": 8,
      "metadata": {
        "collapsed": true,
        "jupyter": {
          "source_hidden": false,
          "outputs_hidden": false
        },
        "nteract": {
          "transient": {
            "deleting": false
          }
        },
        "gather": {
          "logged": 1610730500944
        }
      }
    },
    {
      "cell_type": "markdown",
      "source": [
        "### Removing Ellie's voice from the interview"
      ],
      "metadata": {
        "nteract": {
          "transient": {
            "deleting": false
          }
        }
      }
    },
    {
      "cell_type": "code",
      "source": [
        "# Segmenting the audio for each paricipant\r\n",
        "\r\n",
        "\"\"\"\r\n",
        "The segmentation is done using the transcripts that the database provides for each participant.\r\n",
        "We use the provided transcripts to diarize out the virtual interviewer's voice.\r\n",
        "This is done to achieve better performance in the training and validation of the system\r\n",
        "\"\"\"\r\n",
        "\r\n",
        "# Segment the audio using the time info of the transcript of each participant, also concatenate\r\n",
        "# each segmented audio to the end of the sums of all audios, to create a .wav that only contains\r\n",
        "# the audio from the particpant. The audio from the interviewer gets erased using this segmentation.\r\n",
        "\r\n",
        "def segment_audio(ds_total, transcript_directory, audio_directory, audio_output_dir):\r\n",
        "    input_array = []\r\n",
        "    person_id_list = []\r\n",
        "    level_array = []\r\n",
        "    \r\n",
        "    filenames = os.listdir(transcript_directory)\r\n",
        "    \r\n",
        "    if \".DS_Store\" in filenames:\r\n",
        "        filenames.remove(\".DS_Store\")\r\n",
        "        \r\n",
        "    for filename in filenames:\r\n",
        "        transcript_path = os.path.join(transcript_directory, filename)\r\n",
        "        transcript = pd.read_csv(transcript_path, sep='\\t')\r\n",
        "        m = re.search(\"(\\d{3})_TRANSCRIPT.csv\", filename)\r\n",
        "        if m:\r\n",
        "            person_id = int(m.group(1))            \r\n",
        "            person_audio = AudioSegment.from_wav(audio_directory \r\n",
        "                                             + str(person_id) + '_AUDIO.wav')\r\n",
        "            lines = len(transcript)\r\n",
        "            combined_sounds = AudioSegment.empty()\r\n",
        "            for i in range(0, lines):\r\n",
        "                row = transcript.iloc[i]\r\n",
        "                if row[\"speaker\"] == \"Participant\":\r\n",
        "                    t1 = int(float(row[\"start_time\"]) * 1000)\r\n",
        "                    t2 = int(float(row[\"stop_time\"]) * 1000)\r\n",
        "                    newAudio = person_audio[t1:t2]\r\n",
        "                    combined_sounds += newAudio\r\n",
        "                    \r\n",
        "            combined_sounds.export(audio_output_dir + str(person_id) + '.wav', format=\"wav\")\r\n",
        "\r\n",
        "            w = AudioSegment.from_wav(audio_output_dir + str(person_id) + '.wav')\r\n",
        "            input_array.append(w)\r\n",
        "            person_id_list.append(person_id)\r\n",
        "            level_array.append(ds_total.loc[ds_total[\"Participant_ID\"] == person_id, \"level\"].item())\r\n",
        "    print(f\"Segmentation complete!\")\r\n",
        "            \r\n",
        "    return input_array, person_id_list, level_array"
      ],
      "outputs": [],
      "execution_count": 9,
      "metadata": {
        "collapsed": true,
        "jupyter": {
          "source_hidden": false,
          "outputs_hidden": false
        },
        "nteract": {
          "transient": {
            "deleting": false
          }
        },
        "gather": {
          "logged": 1610730504694
        }
      }
    },
    {
      "cell_type": "code",
      "source": [
        "input_array, person_id_list, level_array = segment_audio (ds_total, data_path , audio_path, \"./depression-detection-extract/data/segmented_audio/\")"
      ],
      "outputs": [
        {
          "output_type": "stream",
          "name": "stderr",
          "text": [
            "/anaconda/envs/azureml_py36/lib/python3.6/site-packages/ipykernel_launcher.py:46: FutureWarning: `item` has been deprecated and will be removed in a future version\n"
          ]
        },
        {
          "output_type": "stream",
          "name": "stdout",
          "text": [
            "Segmentation complete!\n"
          ]
        }
      ],
      "execution_count": 10,
      "metadata": {
        "collapsed": true,
        "jupyter": {
          "source_hidden": false,
          "outputs_hidden": false
        },
        "nteract": {
          "transient": {
            "deleting": false
          }
        },
        "gather": {
          "logged": 1610730828770
        }
      }
    },
    {
      "cell_type": "markdown",
      "source": [
        "## Visualizing sample patient's MFCC"
      ],
      "metadata": {
        "nteract": {
          "transient": {
            "deleting": false
          }
        }
      }
    },
    {
      "cell_type": "code",
      "source": [
        "import matplotlib.pyplot as plt\r\n",
        "from scipy.io import wavfile as wav\r\n",
        "from scipy.fftpack import fft\r\n",
        "import numpy as np\r\n",
        "rate, data = wav.read('./depression-detection-extract/data/segmented_audio/300.wav')\r\n",
        "fft_out = fft(data)\r\n",
        "%matplotlib inline\r\n",
        "plt.plot(data, np.abs(fft_out))\r\n",
        "plt.show()"
      ],
      "outputs": [
        {
          "output_type": "display_data",
          "data": {
            "text/plain": "<Figure size 432x288 with 1 Axes>",
            "image/png": "[encoded data removed]"
          },
          "metadata": {
            "needs_background": "light"
          }
        }
      ],
      "execution_count": 31,
      "metadata": {
        "collapsed": true,
        "jupyter": {
          "source_hidden": false,
          "outputs_hidden": false
        },
        "nteract": {
          "transient": {
            "deleting": false
          }
        },
        "gather": {
          "logged": 1610358841510
        }
      }
    },
    {
      "cell_type": "code",
      "source": [
        "import matplotlib.pyplot as plt\r\n",
        "import numpy as np\r\n",
        "from python_speech_features import mfcc\r\n",
        "from matplotlib import cm\r\n",
        "\r\n",
        "(rate,sig) = wav.read(\"./depression-detection-extract/data/segmented_audio/300.wav\")\r\n",
        "mfcc_feat = mfcc(sig,rate)\r\n",
        "\r\n",
        "ig, ax = plt.subplots()\r\n",
        "mfcc_data= np.swapaxes(mfcc_feat, 0 ,1)\r\n",
        "cax = ax.imshow(mfcc_data, interpolation='nearest', cmap=cm.coolwarm, origin='lower', aspect='auto')\r\n",
        "ax.set_title('MFCC')\r\n",
        "#Showing mfcc_data\r\n",
        "plt.show()\r\n",
        "#Showing mfcc_feat\r\n",
        "plt.plot(mfcc_feat)\r\n",
        "plt.show()"
      ],
      "outputs": [
        {
          "output_type": "display_data",
          "data": {
            "text/plain": "<Figure size 432x288 with 1 Axes>",
            "image/png": "[encoded data removed]"
          },
          "metadata": {
            "needs_background": "light"
          }
        },
        {
          "output_type": "display_data",
          "data": {
            "text/plain": "<Figure size 432x288 with 1 Axes>",
            "image/png": "[encoded data removed]"
          },
          "metadata": {
            "needs_background": "light"
          }
        }
      ],
      "execution_count": 16,
      "metadata": {
        "collapsed": true,
        "jupyter": {
          "source_hidden": false,
          "outputs_hidden": false
        },
        "nteract": {
          "transient": {
            "deleting": false
          }
        },
        "gather": {
          "logged": 1610350062326
        }
      }
    },
    {
      "cell_type": "code",
      "source": [
        "import matplotlib.pyplot as plt\r\n",
        "import numpy as np\r\n",
        "import wave\r\n",
        "import sys\r\n",
        "\r\n",
        "\r\n",
        "spf = wave.open(\"./depression-detection-extract/data/segmented_audio/300.wav\", \"r\")\r\n",
        "\r\n",
        "# Extract Raw Audio from Wav File\r\n",
        "signal = spf.readframes(-1)\r\n",
        "signal = np.fromstring(signal, \"Int16\")\r\n",
        "\r\n",
        "\r\n",
        "plt.figure(1)\r\n",
        "plt.title(\"Signal Wave as Time Series\")\r\n",
        "plt.plot(signal)\r\n",
        "plt.show()"
      ],
      "outputs": [
        {
          "output_type": "stream",
          "name": "stderr",
          "text": [
            "/anaconda/envs/azureml_py36/lib/python3.6/site-packages/ipykernel_launcher.py:11: DeprecationWarning: Numeric-style type codes are deprecated and will result in an error in the future.\n",
            "  # This is added back by InteractiveShellApp.init_path()\n",
            "/anaconda/envs/azureml_py36/lib/python3.6/site-packages/ipykernel_launcher.py:11: DeprecationWarning: The binary mode of fromstring is deprecated, as it behaves surprisingly on unicode inputs. Use frombuffer instead\n",
            "  # This is added back by InteractiveShellApp.init_path()\n"
          ]
        },
        {
          "output_type": "display_data",
          "data": {
            "text/plain": "<Figure size 432x288 with 1 Axes>",
            "image/png": "[encoded data removed]"
          },
          "metadata": {
            "needs_background": "light"
          }
        }
      ],
      "execution_count": 21,
      "metadata": {
        "collapsed": true,
        "jupyter": {
          "source_hidden": false,
          "outputs_hidden": false
        },
        "nteract": {
          "transient": {
            "deleting": false
          }
        },
        "gather": {
          "logged": 1612297112058
        }
      }
    },
    {
      "cell_type": "code",
      "source": [
        "# Calculation of .wav length so we can move the time window from the start to the end without any problems.\r\n",
        "\r\n",
        "len_list = []\r\n",
        "for audio_file in input_array:\r\n",
        "    len_list.append(int(len(audio_file) / (1000)))"
      ],
      "outputs": [],
      "execution_count": 11,
      "metadata": {
        "collapsed": true,
        "jupyter": {
          "source_hidden": false,
          "outputs_hidden": false
        },
        "nteract": {
          "transient": {
            "deleting": false
          }
        },
        "gather": {
          "logged": 1610730982600
        }
      }
    },
    {
      "cell_type": "code",
      "source": [
        "print(\"\\n\",input_array)\r\n",
        "print(\"\\n\",person_id_list)\r\n",
        "print(\"\\n\",level_array)"
      ],
      "outputs": [],
      "execution_count": null,
      "metadata": {
        "collapsed": true,
        "jupyter": {
          "source_hidden": false,
          "outputs_hidden": false
        },
        "nteract": {
          "transient": {
            "deleting": false
          }
        },
        "gather": {
          "logged": 1612297261704
        }
      }
    },
    {
      "cell_type": "markdown",
      "source": [
        "### Data Augmentation"
      ],
      "metadata": {
        "nteract": {
          "transient": {
            "deleting": false
          }
        }
      }
    },
    {
      "cell_type": "markdown",
      "source": [
        "*We use data augmentation to increase the number of samples to train the system. We take a time window and move it along the .wav that was segmented. We create 10 samples, each 7 minutes long for each segmented .wav file. Also we add the PHQ-8 score (predicted value) of each new sample.*"
      ],
      "metadata": {
        "nteract": {
          "transient": {
            "deleting": false
          }
        }
      }
    },
    {
      "cell_type": "code",
      "source": [
        "person_id_list_extended = []\r\n",
        "trim_array = []\r\n",
        "level_array_extended = []\r\n",
        "stride = 15\r\n",
        "time_window = 7\r\n",
        "n_samples_max = 10\r\n",
        "\r\n",
        "path = \"./depression-detection-extract/data/audio_augmented/time_window_\" + str(time_window) + \"_stride_\" + str(stride) + \"_max_\" + str(n_samples_max) +\"/\"\r\n",
        "\r\n",
        "if not os.path.exists(path):\r\n",
        "    os.makedirs(path)\r\n",
        "\r\n",
        "for audio_file, person_id, level in zip(input_array, person_id_list, level_array):  \r\n",
        "    n_samples = min(n_samples_max, int((len(audio_file) - time_window * 1000)/(stride * 1000)))\r\n",
        "    t1_ini = 0\r\n",
        "    t2_end = time_window * 1000\r\n",
        "    for i in range(n_samples):\r\n",
        "        t1_ini = t1_ini + stride * 1000\r\n",
        "        t2_end = t2_end + stride * 1000\r\n",
        "        audio_trim = audio_file[t1_ini:t2_end]\r\n",
        "        trim_array.append(audio_trim)\r\n",
        "        person_id_list_extended.append(person_id)\r\n",
        "        level_array_extended.append(level)\r\n",
        "        audio_trim.export(path + str(person_id) + '_' + str(i) + '.wav', format=\"wav\")"
      ],
      "outputs": [],
      "execution_count": 12,
      "metadata": {
        "collapsed": true,
        "jupyter": {
          "source_hidden": false,
          "outputs_hidden": false
        },
        "nteract": {
          "transient": {
            "deleting": false
          }
        },
        "gather": {
          "logged": 1610731160650
        }
      }
    },
    {
      "cell_type": "code",
      "source": [
        "len(trim_array)"
      ],
      "outputs": [
        {
          "output_type": "execute_result",
          "execution_count": 23,
          "data": {
            "text/plain": "1869"
          },
          "metadata": {}
        }
      ],
      "execution_count": 23,
      "metadata": {
        "collapsed": true,
        "jupyter": {
          "source_hidden": false,
          "outputs_hidden": false
        },
        "nteract": {
          "transient": {
            "deleting": false
          }
        },
        "gather": {
          "logged": 1612297279858
        }
      }
    },
    {
      "cell_type": "code",
      "source": [
        "person_id_list_padded = []\r\n",
        "padded_array = []\r\n",
        "level_array_padded = []\r\n",
        "max_size = max(len_list)\r\n",
        "mean_size = np.mean(len_list)\r\n",
        "min_size = min(len_list)\r\n",
        "for audio_file, person_id, level in zip(input_array, person_id_list, level_array):  \r\n",
        "    padding = AudioSegment.silent(duration = min_size * 1000)\r\n",
        "    audio_trim = padding.overlay(audio_file)\r\n",
        "    padded_array.append(audio_trim)\r\n",
        "    person_id_list_padded.append(person_id)\r\n",
        "    level_array_padded.append(level)\r\n",
        "    audio_trim.export(\"./depression-detection-extract/data/audio_cut_padded/mean/\" + str(person_id) + '.wav', format=\"wav\")\r\n"
      ],
      "outputs": [],
      "execution_count": 24,
      "metadata": {
        "collapsed": true,
        "jupyter": {
          "source_hidden": false,
          "outputs_hidden": false
        },
        "nteract": {
          "transient": {
            "deleting": false
          }
        },
        "gather": {
          "logged": 1612297314599
        }
      }
    },
    {
      "cell_type": "markdown",
      "source": [
        "### Spectograms creation for each audio sample"
      ],
      "metadata": {
        "nteract": {
          "transient": {
            "deleting": false
          }
        }
      }
    },
    {
      "cell_type": "code",
      "source": [
        "# Read the audio sample and calculate the normalized spectrogram\r\n",
        "\r\n",
        "X, sr = librosa.load(path + '303' + '_' + '1' + '.wav')\r\n",
        "sample = soundwave_to_np_spectrogram(X)\r\n",
        "sample = sample[0:95,:]\r\n",
        "sample.shape"
      ],
      "outputs": [
        {
          "output_type": "execute_result",
          "execution_count": 15,
          "data": {
            "text/plain": "(95, 2412)"
          },
          "metadata": {}
        }
      ],
      "execution_count": 15,
      "metadata": {
        "collapsed": true,
        "jupyter": {
          "source_hidden": false,
          "outputs_hidden": false
        },
        "nteract": {
          "transient": {
            "deleting": false
          }
        },
        "gather": {
          "logged": 1610731238223
        }
      }
    },
    {
      "cell_type": "code",
      "source": [
        "sample.size"
      ],
      "outputs": [
        {
          "output_type": "execute_result",
          "execution_count": 25,
          "data": {
            "text/plain": "2755569"
          },
          "metadata": {}
        }
      ],
      "execution_count": 25,
      "metadata": {
        "collapsed": true,
        "jupyter": {
          "source_hidden": false,
          "outputs_hidden": false
        },
        "nteract": {
          "transient": {
            "deleting": false
          }
        },
        "gather": {
          "logged": 1612297321538
        }
      }
    },
    {
      "cell_type": "markdown",
      "source": [
        "*The spectogram shows the information of the audio in the frequency domain. The frequencies shown are up to ~3600 MHz*"
      ],
      "metadata": {
        "nteract": {
          "transient": {
            "deleting": false
          }
        }
      }
    },
    {
      "cell_type": "code",
      "source": [
        "X, sr = librosa.load('./depression-detection-extract/data/audio_cut_padded/mean/' + '303' + '.wav')\r\n",
        "sample = soundwave_to_np_spectrogram(X)"
      ],
      "outputs": [],
      "execution_count": 26,
      "metadata": {
        "collapsed": true,
        "jupyter": {
          "source_hidden": false,
          "outputs_hidden": false
        },
        "nteract": {
          "transient": {
            "deleting": false
          }
        },
        "gather": {
          "logged": 1612297336608
        }
      }
    },
    {
      "cell_type": "code",
      "source": [
        "# Show the sample spectrogram of participant 303\r\n",
        "\r\n",
        "librosa.display.specshow(sample,\r\n",
        "                         y_axis='mel',\r\n",
        "                         x_axis='time')\r\n",
        "plt.colorbar(format='%+2.0f dB')\r\n",
        "plt.title('Mel spectrogram')\r\n",
        "plt.tight_layout()"
      ],
      "outputs": [
        {
          "output_type": "display_data",
          "data": {
            "text/plain": "<Figure size 432x288 with 2 Axes>",
            "image/png": "[encoded data removed]"
          },
          "metadata": {
            "needs_background": "light"
          }
        }
      ],
      "execution_count": 24,
      "metadata": {
        "collapsed": true,
        "jupyter": {
          "source_hidden": false,
          "outputs_hidden": false
        },
        "nteract": {
          "transient": {
            "deleting": false
          }
        },
        "gather": {
          "logged": 1610283927709
        }
      }
    },
    {
      "cell_type": "code",
      "source": [
        "def tryint(s):\r\n",
        "    try:\r\n",
        "        return int(s)\r\n",
        "    except:\r\n",
        "        return s\r\n",
        "\r\n",
        "def alphanum_key(s):\r\n",
        "    \"\"\" \r\n",
        "    Turn a string into a list of string and number chunks.\r\n",
        "        \"z23a\" -> [\"z\", 23, \"a\"]\r\n",
        "    \"\"\"\r\n",
        "    return [ tryint(c) for c in re.split('([0-9]+)', s) ]\r\n",
        "\r\n",
        "def sort_nicely(l):\r\n",
        "    \"\"\" \r\n",
        "    Sort the given list in the way that humans expect.\r\n",
        "    \"\"\"\r\n",
        "    l.sort(key=alphanum_key)"
      ],
      "outputs": [],
      "execution_count": 29,
      "metadata": {
        "collapsed": true,
        "jupyter": {
          "source_hidden": false,
          "outputs_hidden": false
        },
        "nteract": {
          "transient": {
            "deleting": false
          }
        },
        "gather": {
          "logged": 1612297362984
        }
      }
    },
    {
      "cell_type": "code",
      "source": [
        "\"\"\"\r\n",
        "Create Spectograms of each segmented audio\r\n",
        "\"\"\"\r\n",
        "dataset_path = path\r\n",
        "filenames = os.listdir(dataset_path)\r\n",
        "\r\n",
        "if \".DS_Store\" in filenames:\r\n",
        "    filenames.remove(\".DS_Store\")\r\n",
        "\r\n",
        "sort_nicely(filenames)\r\n",
        "Xdb = []    \r\n",
        "    \r\n",
        "for filename in filenames:\r\n",
        "    X, sr = librosa.load(dataset_path + filename)\r\n",
        "    X = abs(soundwave_to_np_spectrogram(X))\r\n",
        "    X = X[0:95,:]\r\n",
        "    Xdb.append(X)"
      ],
      "outputs": [],
      "execution_count": 30,
      "metadata": {
        "collapsed": true,
        "jupyter": {
          "source_hidden": false,
          "outputs_hidden": false
        },
        "nteract": {
          "transient": {
            "deleting": false
          }
        },
        "gather": {
          "logged": 1610724971830
        }
      }
    },
    {
      "cell_type": "code",
      "source": [
        "spec_path = \"./depression-detection-extract/data/spectrogram/audio_augmented/time_window_\" + str(time_window) + \"_stride_\" + str(stride) + \"_max_\" + str(n_samples_max) + \"/\"\r\n",
        "\r\n",
        "if not os.path.exists(spec_path):\r\n",
        "    os.makedirs(spec_path)\r\n",
        "\r\n",
        "np.asarray(Xdb).dump(open(spec_path +\"Xdb.npy\", \"wb\"))\r\n",
        "np.asarray(level_array_extended).dump(open(spec_path + 'Y.npy', 'wb'))"
      ],
      "outputs": [],
      "execution_count": 31,
      "metadata": {
        "collapsed": true,
        "jupyter": {
          "source_hidden": false,
          "outputs_hidden": false
        },
        "nteract": {
          "transient": {
            "deleting": false
          }
        },
        "gather": {
          "logged": 1612298196851
        }
      }
    },
    {
      "cell_type": "code",
      "source": [
        "number_of_files = int(len(Xdb)/500)\r\n",
        "for i in range(number_of_files):\r\n",
        "    start = i * 500\r\n",
        "    end = start + 500 if start + 500 < len(Xdb) else len(Xdb)\r\n",
        "    np.asarray(Xdb[start:end]).dump(open('./depression-detection-extract/data/spectrogram/audio_augmented/time_window_7_stride_15_max_10/Xdb_' + str(i) + '.npy', 'wb'))\r\n",
        "    np.asarray(level_array_extended[start:end]).dump(open('./depression-detection-extract/data/spectrogram/audio_augmented/time_window_7_stride_15_max_10/Y_' + str(i) + '.npy', 'wb'))"
      ],
      "outputs": [],
      "execution_count": 32,
      "metadata": {
        "collapsed": true,
        "jupyter": {
          "source_hidden": false,
          "outputs_hidden": false
        },
        "nteract": {
          "transient": {
            "deleting": false
          }
        },
        "gather": {
          "logged": 1612298238436
        }
      }
    },
    {
      "cell_type": "code",
      "source": [
        "# Calculate size of the spectrogram. Every sample has the same length so only 1 size is calculated.\r\n",
        "\r\n",
        "alto, ancho = Xdb[0].shape\r\n",
        "print(alto, ancho)"
      ],
      "outputs": [
        {
          "output_type": "stream",
          "name": "stdout",
          "text": [
            "95 2412\n"
          ]
        }
      ],
      "execution_count": 33,
      "metadata": {
        "collapsed": true,
        "jupyter": {
          "source_hidden": false,
          "outputs_hidden": false
        },
        "nteract": {
          "transient": {
            "deleting": false
          }
        },
        "gather": {
          "logged": 1612298261676
        }
      }
    },
    {
      "cell_type": "markdown",
      "source": [
        "### Reshaping the data to be input to the model\r\n",
        "*We reshape the spectogram matrix to feed it in an LSTM network or a Convolutional network.*"
      ],
      "metadata": {
        "nteract": {
          "transient": {
            "deleting": false
          }
        }
      }
    },
    {
      "cell_type": "code",
      "source": [
        "level_array_extended_new = np.asarray(level_array_extended)\r\n",
        "print(np.asarray(Xdb).shape)\r\n",
        "print(level_array_extended_new.shape)\r\n",
        "len(Xdb)"
      ],
      "outputs": [
        {
          "output_type": "stream",
          "name": "stdout",
          "text": [
            "(1869, 95, 2412)\n",
            "(1869,)\n"
          ]
        },
        {
          "output_type": "execute_result",
          "execution_count": 34,
          "data": {
            "text/plain": "1869"
          },
          "metadata": {}
        }
      ],
      "execution_count": 34,
      "metadata": {
        "collapsed": true,
        "jupyter": {
          "source_hidden": false,
          "outputs_hidden": false
        },
        "nteract": {
          "transient": {
            "deleting": false
          }
        },
        "gather": {
          "logged": 1612298267981
        }
      }
    },
    {
      "cell_type": "code",
      "source": [
        "def split_by_phq_level(ds):\r\n",
        "    none_ds = ds[ds['level']==0]\r\n",
        "    mild_ds = ds[ds['level']==1]\r\n",
        "    moderate_ds = ds[ds['level']==2]\r\n",
        "    moderate_severe_ds = ds[ds['level']==3]\r\n",
        "    severe_ds = ds[ds['level']==4]\r\n",
        "    return (none_ds, mild_ds, moderate_ds, moderate_severe_ds, severe_ds)\r\n",
        "\r\n",
        "np.unique(level_array_extended_new, return_counts=True)"
      ],
      "outputs": [
        {
          "output_type": "execute_result",
          "execution_count": 35,
          "data": {
            "text/plain": "(array([0, 1, 2, 3, 4]), array([255, 697, 461, 240, 216]))"
          },
          "metadata": {}
        }
      ],
      "execution_count": 35,
      "metadata": {
        "collapsed": true,
        "jupyter": {
          "source_hidden": false,
          "outputs_hidden": false
        },
        "nteract": {
          "transient": {
            "deleting": false
          }
        },
        "gather": {
          "logged": 1612298271889
        }
      }
    },
    {
      "cell_type": "code",
      "source": [
        "def distribute_levels(Xdb, level_array):\r\n",
        "    Xdb_shuffled, level_array_shuffled = shuffle(Xdb, level_array, random_state=0)\r\n",
        "    \r\n",
        "    levels, counts = np.unique(level_array, return_counts=True)\r\n",
        "    n_levels = len(levels)\r\n",
        "    \r\n",
        "    X = [None] * n_levels\r\n",
        "    Y = [None] * n_levels\r\n",
        "       \r\n",
        "    for i in levels:\r\n",
        "        X[i] = np.compress(level_array_shuffled == i, Xdb_shuffled, axis = 0)\r\n",
        "        Y[i] = [i] * counts[i]\r\n",
        "    \r\n",
        "    X = np.array(X)\r\n",
        "    Y = np.array(Y)\r\n",
        "\r\n",
        "    return X, Y, levels, counts\r\n",
        "\r\n",
        "X, Y, levels, counts = distribute_levels(Xdb, level_array_extended_new)"
      ],
      "outputs": [],
      "execution_count": 36,
      "metadata": {
        "collapsed": true,
        "jupyter": {
          "source_hidden": false,
          "outputs_hidden": false
        },
        "nteract": {
          "transient": {
            "deleting": false
          }
        },
        "gather": {
          "logged": 1612298284894
        }
      }
    },
    {
      "cell_type": "code",
      "source": [
        "def distribute_sets(X, Y, levels, counts, split = [70,14,16]): \r\n",
        "    \r\n",
        "    n_levels = len(levels)\r\n",
        "        \r\n",
        "    X_dict = dict()\r\n",
        "    Y_dict = dict()\r\n",
        "    \r\n",
        "    last = np.zeros(n_levels)\r\n",
        "    prev = np.zeros(n_levels)\r\n",
        "   \r\n",
        "    for p in split:\r\n",
        "        X_dict['d'+str(p)] = []\r\n",
        "        Y_dict['d'+str(p)] = []\r\n",
        "        for i in levels:\r\n",
        "            last[i] = min(counts[i], prev[i] + round(counts[i] * p /100.))\r\n",
        "       \r\n",
        "        X_dict['d'+str(p)] = np.concatenate([X[i][int(prev[i]):int(last[i])] for i in levels], axis = 0)\r\n",
        "        Y_dict['d'+str(p)] = np.concatenate([Y[i][int(prev[i]):int(last[i])] for i in levels], axis = 0)\r\n",
        "        \r\n",
        "        prev = last.copy()\r\n",
        "        \r\n",
        "        \r\n",
        "    return (X_dict['d70'], Y_dict['d70'], X_dict['d14'], Y_dict['d14'], X_dict['d16'], Y_dict['d16'])"
      ],
      "outputs": [],
      "execution_count": 37,
      "metadata": {
        "collapsed": true,
        "jupyter": {
          "source_hidden": false,
          "outputs_hidden": false
        },
        "nteract": {
          "transient": {
            "deleting": false
          }
        },
        "gather": {
          "logged": 1612298318774
        }
      }
    },
    {
      "cell_type": "code",
      "source": [
        "X_train, Y_train, X_dev, Y_dev, X_test, Y_test = distribute_sets(X, Y, levels, counts)\r\n",
        "\r\n",
        "X_test.shape, X_train.shape\r\n",
        "# print(X_test)"
      ],
      "outputs": [
        {
          "output_type": "execute_result",
          "execution_count": 38,
          "data": {
            "text/plain": "((298, 95, 2412), (1308, 95, 2412))"
          },
          "metadata": {}
        }
      ],
      "execution_count": 38,
      "metadata": {
        "collapsed": true,
        "jupyter": {
          "source_hidden": false,
          "outputs_hidden": false
        },
        "nteract": {
          "transient": {
            "deleting": false
          }
        },
        "gather": {
          "logged": 1612298323194
        }
      }
    },
    {
      "cell_type": "code",
      "source": [
        "def reshape_to_cnn(X):\r\n",
        "    X_reshape = np.asarray(X.reshape(X.shape[0], X.shape[1], X.shape[2], 1))\r\n",
        "    return X_reshape"
      ],
      "outputs": [],
      "execution_count": 39,
      "metadata": {
        "collapsed": true,
        "jupyter": {
          "source_hidden": false,
          "outputs_hidden": false
        },
        "nteract": {
          "transient": {
            "deleting": false
          }
        },
        "gather": {
          "logged": 1612298324997
        }
      }
    },
    {
      "cell_type": "code",
      "source": [
        "# X_train_cnn = reshape_to_cnn(X_train)\r\n",
        "X_train_cnn = X_train.reshape(1308, 95, ancho, 1)\r\n",
        "X_dev_cnn = reshape_to_cnn(X_dev)\r\n",
        "# X_dev_cnn = np.asarray(X_dev).reshape(262, 95, ancho, 1)\r\n",
        "X_test_cnn = reshape_to_cnn(X_test)\r\n",
        "# X_test_cnn = X_test.reshape(299, 95, ancho, 1)\r\n",
        "\r\n",
        "\r\n",
        "Y_train_oh = keras.utils.to_categorical(Y_train)\r\n",
        "Y_dev_oh = keras.utils.to_categorical(Y_dev)\r\n",
        "Y_test_oh = keras.utils.to_categorical(Y_test)\r\n",
        "\r\n",
        "early_stopping = EarlyStopping(monitor='val_loss', patience=10)"
      ],
      "outputs": [],
      "execution_count": 40,
      "metadata": {
        "collapsed": true,
        "jupyter": {
          "source_hidden": false,
          "outputs_hidden": false
        },
        "nteract": {
          "transient": {
            "deleting": false
          }
        },
        "gather": {
          "logged": 1612298328906
        }
      }
    },
    {
      "cell_type": "code",
      "source": [
        "X_train_cnn.shape"
      ],
      "outputs": [
        {
          "output_type": "execute_result",
          "execution_count": 41,
          "data": {
            "text/plain": "(1308, 95, 2412, 1)"
          },
          "metadata": {}
        }
      ],
      "execution_count": 41,
      "metadata": {
        "collapsed": true,
        "jupyter": {
          "source_hidden": false,
          "outputs_hidden": false
        },
        "nteract": {
          "transient": {
            "deleting": false
          }
        },
        "gather": {
          "logged": 1612298331987
        }
      }
    },
    {
      "cell_type": "code",
      "source": [
        "X_test_cnn.shape"
      ],
      "outputs": [
        {
          "output_type": "execute_result",
          "execution_count": 42,
          "data": {
            "text/plain": "(298, 95, 2412, 1)"
          },
          "metadata": {}
        }
      ],
      "execution_count": 42,
      "metadata": {
        "collapsed": true,
        "jupyter": {
          "source_hidden": false,
          "outputs_hidden": false
        },
        "nteract": {
          "transient": {
            "deleting": false
          }
        },
        "gather": {
          "logged": 1612298333718
        }
      }
    },
    {
      "cell_type": "markdown",
      "source": [
        "### Creation of GRU and CNN model"
      ],
      "metadata": {
        "nteract": {
          "transient": {
            "deleting": false
          }
        }
      }
    },
    {
      "cell_type": "code",
      "source": [
        "# GRU model\r\n",
        "\r\n",
        "def model(input_shape):\r\n",
        "    \"\"\"\r\n",
        "    Function creating the model's graph in Keras.\r\n",
        "    \r\n",
        "    Argument:\r\n",
        "    input_shape -- shape of the model's input data (using Keras conventions)\r\n",
        "\r\n",
        "    Returns:\r\n",
        "    model -- Keras model instance\r\n",
        "    \"\"\"\r\n",
        "    \r\n",
        "    X_input = Input(shape = input_shape)\r\n",
        "    \r\n",
        "    # Step 1: CONV layer \r\n",
        "    X = Dropout(rate = 0.2)(X_input) \r\n",
        "    X = Conv1D(filters = 100, kernel_size = 2, strides=1)(X)                              # CONV1D\r\n",
        "    X = BatchNormalization(axis=-1)(X)                                 # Batch normalization\r\n",
        "    X = Activation('relu')(X)                                 # ReLu activation\r\n",
        "    X = Dropout(rate = 0.4)(X)                                 # dropout (use 0.8)\r\n",
        "\r\n",
        "    # Step 2: First GRU Layer\r\n",
        "    X = GRU(units = 100, return_sequences = True)(X)                                # GRU (use 128 units and return the sequences)\r\n",
        "    X = Dropout(rate = 0.4)(X)                                 # dropout (use 0.8)\r\n",
        "    X = BatchNormalization(axis=-1)(X)                                 # Batch normalization\r\n",
        "    \r\n",
        "    # Step 3: Second GRU Layer\r\n",
        "    X = GRU(units = 100, return_sequences = False)(X)                                  # GRU (use 128 units and return the sequences)\r\n",
        "    X = Dropout(rate = 0.4)(X)                                 # dropout (use 0.8)\r\n",
        "    X = BatchNormalization(axis=-1)(X)                                 # Batch normalization\r\n",
        "    \r\n",
        "    # Step 4: Time-distributed dense layer (≈1 line)\r\n",
        "    X = Dense(5, activation = \"softmax\")(X) # sigmoid\r\n",
        "\r\n",
        "    model = Model(inputs = X_input, outputs = X)\r\n",
        "    \r\n",
        "    return model"
      ],
      "outputs": [],
      "execution_count": 47,
      "metadata": {
        "collapsed": true,
        "jupyter": {
          "source_hidden": false,
          "outputs_hidden": false
        },
        "nteract": {
          "transient": {
            "deleting": false
          }
        },
        "gather": {
          "logged": 1612298378359
        }
      }
    },
    {
      "cell_type": "code",
      "source": [
        "model = model(input_shape = X_train[0].shape)\r\n",
        "model.summary()"
      ],
      "outputs": [
        {
          "output_type": "stream",
          "name": "stdout",
          "text": [
            "Model: \"model_1\"\n",
            "_________________________________________________________________\n",
            "Layer (type)                 Output Shape              Param #   \n",
            "=================================================================\n",
            "input_2 (InputLayer)         [(None, 95, 2412)]        0         \n",
            "_________________________________________________________________\n",
            "dropout_4 (Dropout)          (None, 95, 2412)          0         \n",
            "_________________________________________________________________\n",
            "conv1d_1 (Conv1D)            (None, 94, 100)           482500    \n",
            "_________________________________________________________________\n",
            "batch_normalization_3 (Batch (None, 94, 100)           400       \n",
            "_________________________________________________________________\n",
            "activation_1 (Activation)    (None, 94, 100)           0         \n",
            "_________________________________________________________________\n",
            "dropout_5 (Dropout)          (None, 94, 100)           0         \n",
            "_________________________________________________________________\n",
            "gru_2 (GRU)                  (None, 94, 100)           60600     \n",
            "_________________________________________________________________\n",
            "dropout_6 (Dropout)          (None, 94, 100)           0         \n",
            "_________________________________________________________________\n",
            "batch_normalization_4 (Batch (None, 94, 100)           400       \n",
            "_________________________________________________________________\n",
            "gru_3 (GRU)                  (None, 100)               60600     \n",
            "_________________________________________________________________\n",
            "dropout_7 (Dropout)          (None, 100)               0         \n",
            "_________________________________________________________________\n",
            "batch_normalization_5 (Batch (None, 100)               400       \n",
            "_________________________________________________________________\n",
            "dense_1 (Dense)              (None, 5)                 505       \n",
            "=================================================================\n",
            "Total params: 605,405\n",
            "Trainable params: 604,805\n",
            "Non-trainable params: 600\n",
            "_________________________________________________________________\n"
          ]
        }
      ],
      "execution_count": 48,
      "metadata": {
        "collapsed": true,
        "jupyter": {
          "source_hidden": false,
          "outputs_hidden": false
        },
        "nteract": {
          "transient": {
            "deleting": false
          }
        },
        "gather": {
          "logged": 1612298381229
        }
      }
    },
    {
      "cell_type": "markdown",
      "source": [
        "### Training the GRU model"
      ],
      "metadata": {
        "nteract": {
          "transient": {
            "deleting": false
          }
        }
      }
    },
    {
      "cell_type": "code",
      "source": [
        "model.compile(optimizer=\"adam\",loss=\"categorical_crossentropy\",metrics=[\"accuracy\"])"
      ],
      "outputs": [],
      "execution_count": 49,
      "metadata": {
        "collapsed": true,
        "jupyter": {
          "source_hidden": false,
          "outputs_hidden": false
        },
        "nteract": {
          "transient": {
            "deleting": false
          }
        },
        "gather": {
          "logged": 1612298385948
        }
      }
    },
    {
      "cell_type": "code",
      "source": [
        "from tensorflow.keras.callbacks import ReduceLROnPlateau\r\n",
        "learning_rate_reduced = ReduceLROnPlateau(monitor=\"val_loss\", patience=10, verbose=1, factor=0.5, min_lr=0.0001)"
      ],
      "outputs": [],
      "execution_count": 50,
      "metadata": {
        "collapsed": true,
        "jupyter": {
          "source_hidden": false,
          "outputs_hidden": false
        },
        "nteract": {
          "transient": {
            "deleting": false
          }
        },
        "gather": {
          "logged": 1612298388814
        }
      }
    },
    {
      "cell_type": "code",
      "source": [
        "model_2gru_hist = model.fit(X_train, Y_train_oh, validation_data=(X_dev, Y_dev_oh), epochs = 30, batch_size = 64, shuffle = True, callbacks=[early_stopping])"
      ],
      "outputs": [
        {
          "output_type": "stream",
          "name": "stdout",
          "text": [
            "Epoch 1/30\n",
            "21/21 [==============================] - 10s 286ms/step - loss: 2.1983 - accuracy: 0.2115 - val_loss: 1.7429 - val_accuracy: 0.2471\b\b\b\b\b\b\b\b\b\b\b\b\b\b\b\b\b\b\b\b\b\b\b\b\b\b\b\b\b\b\b\b\b\b\b\b\b\n",
            "Epoch 2/30\n",
            "21/21 [==============================] - 5s 237ms/step - loss: 2.0875 - accuracy: 0.2065 - val_loss: 1.6607 - val_accuracy: 0.1217\b\b\b\b\b\b\b\b\b\b\b\b\b\b\b\b\b\b\b\b\b\b\b\b\b\b\b\b\b\b\b\b\b\b\n",
            "Epoch 3/30\n",
            "21/21 [==============================] - 5s 239ms/step - loss: 1.9319 - accuracy: 0.2674 - val_loss: 1.5870 - val_accuracy: 0.2471\b\b\b\b\b\b\b\b\b\b\b\b\b\b\b\b\b\b\b\b\b\b\b\b\b\b\b\b\b\b\b\b\b\b\n",
            "Epoch 4/30\n",
            "21/21 [==============================] - 5s 234ms/step - loss: 1.8903 - accuracy: 0.2428 - val_loss: 1.6204 - val_accuracy: 0.1293\b\b\b\b\b\b\b\b\b\b\b\b\b\b\b\b\b\b\b\b\b\b\b\b\b\b\b\b\b\b\b\b\b\b\n",
            "Epoch 5/30\n",
            "21/21 [==============================] - 5s 236ms/step - loss: 1.8586 - accuracy: 0.2450 - val_loss: 1.5055 - val_accuracy: 0.3726\b\b\b\b\b\b\b\b\b\b\b\b\b\b\b\b\b\b\b\b\b\b\b\b\b\b\b\b\b\b\b\b\b\b\n",
            "Epoch 6/30\n",
            "21/21 [==============================] - 5s 248ms/step - loss: 1.8010 - accuracy: 0.2591 - val_loss: 1.5375 - val_accuracy: 0.2586\b\b\b\b\b\b\b\b\b\b\b\b\b\b\b\b\b\b\b\b\b\b\b\b\b\b\b\b\b\b\b\b\b\b\n",
            "Epoch 7/30\n",
            "21/21 [==============================] - 5s 237ms/step - loss: 1.7788 - accuracy: 0.2501 - val_loss: 1.5363 - val_accuracy: 0.2624\b\b\b\b\b\b\b\b\b\b\b\b\b\b\b\b\b\b\b\b\b\b\b\b\b\b\b\b\b\b\b\b\b\b\n",
            "Epoch 8/30\n",
            "21/21 [==============================] - 5s 237ms/step - loss: 1.7297 - accuracy: 0.2922 - val_loss: 1.5283 - val_accuracy: 0.2548\b\b\b\b\b\b\b\b\b\b\b\b\b\b\b\b\b\b\b\b\b\b\b\b\b\b\b\b\b\b\b\b\b\b\n",
            "Epoch 9/30\n",
            "21/21 [==============================] - 5s 238ms/step - loss: 1.6751 - accuracy: 0.3098 - val_loss: 1.5818 - val_accuracy: 0.2586\b\b\b\b\b\b\b\b\b\b\b\b\b\b\b\b\b\b\b\b\b\b\b\b\b\b\b\b\b\b\b\b\b\b\n",
            "Epoch 10/30\n",
            "21/21 [==============================] - 5s 243ms/step - loss: 1.6605 - accuracy: 0.3087 - val_loss: 1.5229 - val_accuracy: 0.3726\b\b\b\b\b\b\b\b\b\b\b\b\b\b\b\b\b\b\b\b\b\b\b\b\b\b\b\b\b\b\b\b\b\b\n",
            "Epoch 11/30\n",
            "21/21 [==============================] - 5s 246ms/step - loss: 1.7049 - accuracy: 0.2943 - val_loss: 1.5045 - val_accuracy: 0.3612\b\b\b\b\b\b\b\b\b\b\b\b\b\b\b\b\b\b\b\b\b\b\b\b\b\b\b\b\b\b\b\b\b\b\n",
            "Epoch 12/30\n",
            "21/21 [==============================] - 5s 243ms/step - loss: 1.6969 - accuracy: 0.2863 - val_loss: 1.5446 - val_accuracy: 0.3726\b\b\b\b\b\b\b\b\b\b\b\b\b\b\b\b\b\b\b\b\b\b\b\b\b\b\b\b\b\b\b\b\b\b\n",
            "Epoch 13/30\n",
            "21/21 [==============================] - 5s 243ms/step - loss: 1.6450 - accuracy: 0.2961 - val_loss: 1.5451 - val_accuracy: 0.3726\b\b\b\b\b\b\b\b\b\b\b\b\b\b\b\b\b\b\b\b\b\b\b\b\b\b\b\b\b\b\b\b\b\b\n",
            "Epoch 14/30\n",
            "21/21 [==============================] - 5s 239ms/step - loss: 1.5803 - accuracy: 0.3518 - val_loss: 1.5472 - val_accuracy: 0.3764\b\b\b\b\b\b\b\b\b\b\b\b\b\b\b\b\b\b\b\b\b\b\b\b\b\b\b\b\b\b\b\b\b\b\n",
            "Epoch 15/30\n",
            "21/21 [==============================] - 5s 245ms/step - loss: 1.5978 - accuracy: 0.3379 - val_loss: 1.5422 - val_accuracy: 0.2738\b\b\b\b\b\b\b\b\b\b\b\b\b\b\b\b\b\b\b\b\b\b\b\b\b\b\b\b\b\b\b\b\b\b\n",
            "Epoch 16/30\n",
            "21/21 [==============================] - 5s 242ms/step - loss: 1.5684 - accuracy: 0.3178 - val_loss: 1.5534 - val_accuracy: 0.2814\b\b\b\b\b\b\b\b\b\b\b\b\b\b\b\b\b\b\b\b\b\b\b\b\b\b\b\b\b\b\b\b\b\b\n",
            "Epoch 17/30\n",
            "21/21 [==============================] - 5s 240ms/step - loss: 1.5469 - accuracy: 0.3489 - val_loss: 1.6035 - val_accuracy: 0.2662\b\b\b\b\b\b\b\b\b\b\b\b\b\b\b\b\b\b\b\b\b\b\b\b\b\b\b\b\b\b\b\b\b\b\n",
            "Epoch 18/30\n",
            "21/21 [==============================] - 5s 245ms/step - loss: 1.5339 - accuracy: 0.3369 - val_loss: 1.5800 - val_accuracy: 0.2510\b\b\b\b\b\b\b\b\b\b\b\b\b\b\b\b\b\b\b\b\b\b\b\b\b\b\b\b\b\b\b\b\b\b\n",
            "Epoch 19/30\n",
            "21/21 [==============================] - 5s 239ms/step - loss: 1.5419 - accuracy: 0.3610 - val_loss: 1.6176 - val_accuracy: 0.2662\b\b\b\b\b\b\b\b\b\b\b\b\b\b\b\b\b\b\b\b\b\b\b\b\b\b\b\b\b\b\b\b\b\b\n",
            "Epoch 20/30\n",
            "21/21 [==============================] - 5s 260ms/step - loss: 1.5086 - accuracy: 0.3580 - val_loss: 1.7564 - val_accuracy: 0.3726\b\b\b\b\b\b\b\b\b\b\b\b\b\b\b\b\b\b\b\b\b\b\b\b\b\b\b\b\b\b\b\b\b\b\n",
            "Epoch 21/30\n",
            "21/21 [==============================] - 5s 252ms/step - loss: 1.4859 - accuracy: 0.3934 - val_loss: 1.5327 - val_accuracy: 0.3688\b\b\b\b\b\b\b\b\b\b\b\b\b\b\b\b\b\b\b\b\b\b\b\b\b\b\b\b\b\b\b\b\b\b\n"
          ]
        }
      ],
      "execution_count": 51,
      "metadata": {
        "collapsed": true,
        "jupyter": {
          "source_hidden": false,
          "outputs_hidden": false
        },
        "nteract": {
          "transient": {
            "deleting": false
          }
        },
        "gather": {
          "logged": 1612298502498
        }
      }
    },
    {
      "cell_type": "code",
      "source": [
        "# save the GRU model\r\n",
        "\r\n",
        "# print(model_2gru_hist.history)\r\n",
        "\r\n",
        "with open('./depression-detection-extract/models/model_2gru_hist.json', 'w') as f:\r\n",
        "    json.dump(model_2gru_hist.history, f)\r\n",
        "model.save('./depression-detection-extract/models/model_2gru.h5')"
      ],
      "outputs": [],
      "execution_count": 52,
      "metadata": {
        "collapsed": true,
        "jupyter": {
          "source_hidden": false,
          "outputs_hidden": false
        },
        "nteract": {
          "transient": {
            "deleting": false
          }
        },
        "gather": {
          "logged": 1612298635369
        }
      }
    },
    {
      "cell_type": "code",
      "source": [
        "score = model.evaluate(X_test, Y_test_oh, verbose=0)\r\n",
        "accuracy1 = 100*score[0]\r\n",
        "accuracy2 = 100*score[1]\r\n",
        "print('Test loss:  %.4f%%' % accuracy1)\r\n",
        "print('Test accuracy:  %.4f%%' % accuracy2)\r\n"
      ],
      "outputs": [
        {
          "output_type": "stream",
          "name": "stdout",
          "text": [
            "Test loss:  154.2572%\n",
            "Test accuracy:  36.5772%\n"
          ]
        }
      ],
      "execution_count": 53,
      "metadata": {
        "collapsed": true,
        "jupyter": {
          "source_hidden": false,
          "outputs_hidden": false
        },
        "nteract": {
          "transient": {
            "deleting": false
          }
        },
        "gather": {
          "logged": 1612298640092
        }
      }
    },
    {
      "cell_type": "code",
      "source": [
        "from sklearn import metrics\r\n",
        "\r\n",
        "Y_predict = model.predict(X_test) \r\n",
        "confusionmatrix = metrics.confusion_matrix(Y_test_oh.argmax(axis=1), Y_predict.argmax(axis=1))\r\n",
        "print(confusionmatrix)"
      ],
      "outputs": [
        {
          "output_type": "stream",
          "name": "stdout",
          "text": [
            "[[  1  37   3   0   0]\n",
            " [  1 108   2   0   0]\n",
            " [  0  73   0   0   0]\n",
            " [  0  36   2   0   0]\n",
            " [  0  35   0   0   0]]\n"
          ]
        }
      ],
      "execution_count": 54,
      "metadata": {
        "collapsed": true,
        "jupyter": {
          "source_hidden": false,
          "outputs_hidden": false
        },
        "nteract": {
          "transient": {
            "deleting": false
          }
        },
        "gather": {
          "logged": 1612298645724
        }
      }
    },
    {
      "cell_type": "code",
      "source": [
        "def plot_confusion_matrix(cm, classes,\r\n",
        "                          normalize=False,\r\n",
        "                          title='Confusion matrix',\r\n",
        "                          cmap=plt.cm.Blues):\r\n",
        "    \"\"\"\r\n",
        "    This function prints and plots the confusion matrix.\r\n",
        "    Normalization can be applied by setting `normalize=True`.\r\n",
        "    \"\"\"\r\n",
        "    if normalize:\r\n",
        "        cm = cm.astype('float') / cm.sum(axis=1)[:, np.newaxis]\r\n",
        "        print(\"Normalized confusion matrix\")\r\n",
        "    else:\r\n",
        "        print('Confusion matrix, without normalization')\r\n",
        "\r\n",
        "    print(cm)\r\n",
        "\r\n",
        "    plt.imshow(cm, interpolation='nearest', cmap=cmap)\r\n",
        "    plt.title(title)\r\n",
        "    plt.colorbar()\r\n",
        "    tick_marks = np.arange(len(classes))\r\n",
        "    plt.xticks(tick_marks, classes, rotation=45)\r\n",
        "    plt.yticks(tick_marks, classes)\r\n",
        "\r\n",
        "    fmt = '.2f' if normalize else 'd'\r\n",
        "    thresh = cm.max() / 2.\r\n",
        "    for i, j in itertools.product(range(cm.shape[0]), range(cm.shape[1])):\r\n",
        "        plt.text(j, i, format(cm[i, j], fmt),\r\n",
        "                 horizontalalignment=\"center\",\r\n",
        "                 color=\"white\" if cm[i, j] > thresh else \"black\")\r\n",
        "\r\n",
        "    plt.ylabel('True label')\r\n",
        "    plt.xlabel('Predicted label')\r\n",
        "    plt.tight_layout()"
      ],
      "outputs": [],
      "execution_count": 55,
      "metadata": {
        "collapsed": true,
        "jupyter": {
          "source_hidden": false,
          "outputs_hidden": false
        },
        "nteract": {
          "transient": {
            "deleting": false
          }
        },
        "gather": {
          "logged": 1612298648742
        }
      }
    },
    {
      "cell_type": "code",
      "source": [
        "import seaborn as sns\r\n",
        "sns.heatmap(confusionmatrix, annot=True)"
      ],
      "outputs": [
        {
          "output_type": "execute_result",
          "execution_count": 56,
          "data": {
            "text/plain": "<matplotlib.axes._subplots.AxesSubplot at 0x7f6129f16c18>"
          },
          "metadata": {}
        },
        {
          "output_type": "display_data",
          "data": {
            "text/plain": "<Figure size 432x288 with 2 Axes>",
            "image/png": "[encoded data removed]"
          },
          "metadata": {
            "needs_background": "light"
          }
        }
      ],
      "execution_count": 56,
      "metadata": {
        "collapsed": true,
        "jupyter": {
          "source_hidden": false,
          "outputs_hidden": false
        },
        "nteract": {
          "transient": {
            "deleting": false
          }
        },
        "gather": {
          "logged": 1612298657241
        }
      }
    },
    {
      "cell_type": "code",
      "source": [
        "plot_confusion_matrix(confusionmatrix, classes=['None','Mild', 'Moderate', 'Moderately \\n Severe', 'Severe'],\r\n",
        "                      title='GRU Confusion matrix')"
      ],
      "outputs": [
        {
          "output_type": "stream",
          "name": "stdout",
          "text": [
            "Confusion matrix, without normalization\n",
            "[[  1  37   3   0   0]\n",
            " [  1 108   2   0   0]\n",
            " [  0  73   0   0   0]\n",
            " [  0  36   2   0   0]\n",
            " [  0  35   0   0   0]]\n"
          ]
        },
        {
          "output_type": "display_data",
          "data": {
            "text/plain": "<Figure size 432x288 with 2 Axes>",
            "image/png": "[encoded data removed]"
          },
          "metadata": {
            "needs_background": "light"
          }
        }
      ],
      "execution_count": 57,
      "metadata": {
        "collapsed": true,
        "jupyter": {
          "source_hidden": false,
          "outputs_hidden": false
        },
        "nteract": {
          "transient": {
            "deleting": false
          }
        },
        "gather": {
          "logged": 1612298661510
        }
      }
    },
    {
      "cell_type": "code",
      "source": [
        "sns.heatmap(confusionmatrix/np.sum(confusionmatrix), annot=True, fmt='.2%', cmap='Blues')"
      ],
      "outputs": [
        {
          "output_type": "execute_result",
          "execution_count": 59,
          "data": {
            "text/plain": "<matplotlib.axes._subplots.AxesSubplot at 0x7f6128a51278>"
          },
          "metadata": {}
        },
        {
          "output_type": "display_data",
          "data": {
            "text/plain": "<Figure size 432x288 with 2 Axes>",
            "image/png": "[encoded data removed]"
          },
          "metadata": {
            "needs_background": "light"
          }
        }
      ],
      "execution_count": 59,
      "metadata": {
        "collapsed": true,
        "jupyter": {
          "source_hidden": false,
          "outputs_hidden": false
        },
        "nteract": {
          "transient": {
            "deleting": false
          }
        },
        "gather": {
          "logged": 1612298668346
        }
      }
    },
    {
      "cell_type": "markdown",
      "source": [
        "### Training the CNN model"
      ],
      "metadata": {
        "nteract": {
          "transient": {
            "deleting": false
          }
        }
      }
    },
    {
      "cell_type": "code",
      "source": [],
      "outputs": [],
      "execution_count": null,
      "metadata": {
        "collapsed": true,
        "jupyter": {
          "source_hidden": false,
          "outputs_hidden": false
        },
        "nteract": {
          "transient": {
            "deleting": false
          }
        }
      }
    },
    {
      "cell_type": "code",
      "source": [],
      "outputs": [],
      "execution_count": null,
      "metadata": {
        "collapsed": true,
        "jupyter": {
          "source_hidden": false,
          "outputs_hidden": false
        },
        "nteract": {
          "transient": {
            "deleting": false
          }
        }
      }
    },
    {
      "cell_type": "code",
      "source": [],
      "outputs": [],
      "execution_count": null,
      "metadata": {
        "collapsed": true,
        "jupyter": {
          "source_hidden": false,
          "outputs_hidden": false
        },
        "nteract": {
          "transient": {
            "deleting": false
          }
        }
      }
    },
    {
      "cell_type": "code",
      "source": [],
      "outputs": [],
      "execution_count": null,
      "metadata": {
        "collapsed": true,
        "jupyter": {
          "source_hidden": false,
          "outputs_hidden": false
        },
        "nteract": {
          "transient": {
            "deleting": false
          }
        }
      }
    },
    {
      "cell_type": "code",
      "source": [],
      "outputs": [],
      "execution_count": null,
      "metadata": {
        "collapsed": true,
        "jupyter": {
          "source_hidden": false,
          "outputs_hidden": false
        },
        "nteract": {
          "transient": {
            "deleting": false
          }
        }
      }
    },
    {
      "cell_type": "code",
      "source": [],
      "outputs": [],
      "execution_count": null,
      "metadata": {
        "collapsed": true,
        "jupyter": {
          "source_hidden": false,
          "outputs_hidden": false
        },
        "nteract": {
          "transient": {
            "deleting": false
          }
        }
      }
    },
    {
      "cell_type": "code",
      "source": [
        "def model2(input_shape):\r\n",
        "\r\n",
        "\tmodel=keras.Sequential()\r\n",
        "\r\n",
        "\t# 1st conv layer\r\n",
        "\tmodel.add(keras.layers.Conv2D(50, (5,5), activation='relu', input_shape=input_shape))\r\n",
        "\tmodel.add(keras.layers.MaxPool2D((2,4), strides=(1,4), padding='same'))\r\n",
        "\tmodel.add(keras.layers.BatchNormalization())\r\n",
        "\t\r\n",
        "\t# 2nd conv layer\r\n",
        "\tmodel.add(keras.layers.Conv2D(100, (5,5), activation='relu', input_shape=input_shape))\r\n",
        "\tmodel.add(keras.layers.MaxPool2D((2,3), strides=(1,2), padding='same'))\r\n",
        "\tmodel.add(keras.layers.BatchNormalization())\r\n",
        "\r\n",
        "\r\n",
        "\t# 3rd conv layer\r\n",
        "\tmodel.add(keras.layers.Conv2D(128, (3,3), activation='relu', input_shape=input_shape))\r\n",
        "\tmodel.add(keras.layers.MaxPool2D((2,3), strides=(1,1), padding='same'))\r\n",
        "\tmodel.add(keras.layers.BatchNormalization())\r\n",
        "\r\n",
        "\r\n",
        "\r\n",
        "\t# flatten output & feed to dense layer\r\n",
        "\tmodel.add(keras.layers.Flatten())\r\n",
        "\tmodel.add(keras.layers.Dense(64, activation='relu'))\r\n",
        "\tmodel.add(keras.layers.Dropout(0.3))\r\n",
        "\r\n",
        "\r\n",
        "\t# output layer\r\n",
        "\tmodel.add(keras.layers.Dense(5, activation='softmax'))\r\n",
        "\r\n",
        "\treturn model"
      ],
      "outputs": [],
      "execution_count": 54,
      "metadata": {
        "collapsed": true,
        "jupyter": {
          "source_hidden": false,
          "outputs_hidden": false
        },
        "nteract": {
          "transient": {
            "deleting": false
          }
        },
        "gather": {
          "logged": 1610730304166
        }
      }
    },
    {
      "cell_type": "code",
      "source": [
        "# method call\r\n",
        "input_shape = (X_train_cnn.shape[1], X_train_cnn.shape[2], X_train_cnn.shape[3])\r\n",
        "# input_shape = (X_train_cnn[0].shape)\r\n",
        "model2 = model2(input_shape)"
      ],
      "outputs": [],
      "execution_count": 55,
      "metadata": {
        "collapsed": true,
        "jupyter": {
          "source_hidden": false,
          "outputs_hidden": false
        },
        "nteract": {
          "transient": {
            "deleting": false
          }
        },
        "gather": {
          "logged": 1610730310503
        }
      }
    },
    {
      "cell_type": "code",
      "source": [
        "# compile the network\r\n",
        "optimizer2 = keras.optimizers.Adam(learning_rate=0.0001)\r\n",
        "model2.compile(optimizer=optimizer2,loss=\"categorical_crossentropy\", metrics=['accuracy'])\r\n"
      ],
      "outputs": [],
      "execution_count": 56,
      "metadata": {
        "collapsed": true,
        "jupyter": {
          "source_hidden": false,
          "outputs_hidden": false
        },
        "nteract": {
          "transient": {
            "deleting": false
          }
        },
        "gather": {
          "logged": 1610730319223
        }
      }
    },
    {
      "cell_type": "code",
      "source": [
        "# training the CNN\r\n",
        "hist = model2.fit(X_train_cnn, Y_train_oh,  validation_data=(X_dev_cnn, Y_dev_oh), batch_size=100, epochs=30, callbacks=[early_stopping])\r\n",
        "\r\n",
        "# model_cnn_hist = model_cnn.fit(X_train_cnn, Y_train_oh, validation_data=(X_dev_cnn, Y_dev_oh), epochs = 10, batch_size = 64, shuffle = True, callbacks=[early_stopping, checkpoint_best, checkpoint_epochs])"
      ],
      "outputs": [
        {
          "output_type": "stream",
          "name": "stdout",
          "text": [
            "Epoch 1/30\n"
          ]
        }
      ],
      "execution_count": 57,
      "metadata": {
        "collapsed": true,
        "jupyter": {
          "source_hidden": false,
          "outputs_hidden": false
        },
        "nteract": {
          "transient": {
            "deleting": false
          }
        },
        "gather": {
          "logged": 1610465507584
        }
      }
    },
    {
      "cell_type": "code",
      "source": [
        "score = model2.evaluate(X_test_cnn, Y_test_oh, verbose=1)\r\n",
        "accuracy1 = 100*score[0]\r\n",
        "accuracy2 = 100*score[1]\r\n",
        "print('Test loss:  %.4f%%' % accuracy1)\r\n",
        "print('Test accuracy:  %.4f%%' % accuracy2)"
      ],
      "outputs": [
        {
          "output_type": "stream",
          "name": "stdout",
          "text": [
            "10/10 [==============================] - 24s 2s/step - loss: 1.5958 - accuracy: 0.3725\b\b\b\b\b\b\b\b\b\b\b\b\b\b\b\b\b\b\b\b\b\b\b\b\b\b\b\b\b\b\b\b\b\b\b\b\b\b\b\b\b\b\b\b\b\b\b\b\b\b\b\b\b\b\b\b\b\b\b\b\b\b\b\b\b\b\b\b\b\b\b\b\b\b\b\b\b\b\b\b\b\b\b\b\b\b\b\b\n",
            "Test loss:  159.5831%\n",
            "Test accuracy:  37.2483%\n"
          ]
        }
      ],
      "execution_count": 91,
      "metadata": {
        "collapsed": true,
        "jupyter": {
          "source_hidden": false,
          "outputs_hidden": false
        },
        "nteract": {
          "transient": {
            "deleting": false
          }
        },
        "gather": {
          "logged": 1610657860011
        }
      }
    },
    {
      "cell_type": "code",
      "source": [],
      "outputs": [],
      "execution_count": null,
      "metadata": {
        "collapsed": true,
        "jupyter": {
          "source_hidden": false,
          "outputs_hidden": false
        },
        "nteract": {
          "transient": {
            "deleting": false
          }
        }
      }
    },
    {
      "cell_type": "code",
      "source": [],
      "outputs": [],
      "execution_count": null,
      "metadata": {
        "collapsed": true,
        "jupyter": {
          "source_hidden": false,
          "outputs_hidden": false
        },
        "nteract": {
          "transient": {
            "deleting": false
          }
        }
      }
    },
    {
      "cell_type": "code",
      "source": [
        "plot_acc(model_cnn_hist)\r\n",
        "plot_loss(model_cnn_hist)"
      ],
      "outputs": [],
      "execution_count": null,
      "metadata": {
        "collapsed": true,
        "jupyter": {
          "source_hidden": false,
          "outputs_hidden": false
        },
        "nteract": {
          "transient": {
            "deleting": false
          }
        }
      }
    },
    {
      "cell_type": "code",
      "source": [],
      "outputs": [],
      "execution_count": null,
      "metadata": {
        "collapsed": true,
        "jupyter": {
          "source_hidden": false,
          "outputs_hidden": false
        },
        "nteract": {
          "transient": {
            "deleting": false
          }
        }
      }
    },
    {
      "cell_type": "code",
      "source": [
        "def model_cnn(input_shape):\r\n",
        "    \"\"\"\r\n",
        "    Function creating the model's graph in Keras.\r\n",
        "    \r\n",
        "    Argument:\r\n",
        "    input_shape -- shape of the model's input data (using Keras conventions)\r\n",
        "\r\n",
        "    Returns:\r\n",
        "    model -- Keras model instance\r\n",
        "    \"\"\"\r\n",
        "    \r\n",
        "    X_input = Input(shape = input_shape)\r\n",
        "    \r\n",
        "    # Step 1: CONV2D layer \r\n",
        "    X = Conv2D(filters = 50, kernel_size = (5,5), strides=(1, 4), padding='same', data_format=\"channels_last\", activation='relu')(X_input)      # CONV2D\r\n",
        "    X = MaxPooling2D(pool_size=(2, 4))(X)\r\n",
        "    X = BatchNormalization(axis=-1)(X)                                 # Batch normalization\r\n",
        "    X = Dropout(rate = 0.4)(X)                                 # dropout \r\n",
        "\r\n",
        "    # Step 2: CONV2D Layer\r\n",
        "    X = Conv2D(filters = 100, kernel_size = (5,5), strides=(1, 2), padding='same', data_format=\"channels_last\", activation='relu')(X)      # CONV2D\r\n",
        "    X = MaxPooling2D(pool_size=(2, 3))(X)\r\n",
        "    X = BatchNormalization(axis=-1)(X)                                 # Batch normalization\r\n",
        "    X = Dropout(rate = 0.4)(X)                              # dropout \r\n",
        "\r\n",
        "#     # Step 3: CONV2D Layer\r\n",
        "#     X = Conv2D(filters = 128, kernel_size = (3,3), strides=(1, 1), padding='same', data_format=\"channels_last\", activation='relu')(X)      # CONV2D\r\n",
        "#     X = MaxPooling2D(pool_size=(2, 3))(X)\r\n",
        "#     X = BatchNormalization(axis=-1)(X)                                 # Batch normalization\r\n",
        "#     X = Dropout(rate = 0.4)(X)   # dropout \r\n",
        "    \r\n",
        "#     # Step 4: CONV2D Layer\r\n",
        "#     X = Conv2D(filters = 250, kernel_size = (3,3), strides=(1, 1), padding='same', data_format=\"channels_last\", activation='relu')(X)      # CONV2D\r\n",
        "#     X = MaxPooling2D(pool_size=(2, 2))(X)\r\n",
        "#     X = BatchNormalization(axis=-1)(X)                                 # Batch normalization\r\n",
        "#     X = Dropout(rate = 0.2)(X)   # dropout \r\n",
        "    \r\n",
        "    # Step 4: Flatten and dense layer\r\n",
        "    X = Flatten()(X)\r\n",
        "    X = Dense(5, activation = \"relu\")(X)\r\n",
        "    X = Dense(5, activation = \"softmax\")(X)\r\n",
        "\r\n",
        "    model = Model(inputs = X_input, outputs = X)\r\n",
        "    \r\n",
        "    return model"
      ],
      "outputs": [],
      "execution_count": 121,
      "metadata": {
        "collapsed": true,
        "jupyter": {
          "source_hidden": false,
          "outputs_hidden": false
        },
        "nteract": {
          "transient": {
            "deleting": false
          }
        },
        "gather": {
          "logged": 1612342681971
        }
      }
    },
    {
      "cell_type": "code",
      "source": [
        "model_cnn = model_cnn(input_shape = X_train_cnn[0].shape)\r\n",
        "model_cnn.summary()"
      ],
      "outputs": [
        {
          "output_type": "stream",
          "name": "stdout",
          "text": [
            "Model: \"model_5\"\n",
            "_________________________________________________________________\n",
            "Layer (type)                 Output Shape              Param #   \n",
            "=================================================================\n",
            "input_6 (InputLayer)         [(None, 95, 2412, 1)]     0         \n",
            "_________________________________________________________________\n",
            "conv2d_6 (Conv2D)            (None, 95, 603, 50)       1300      \n",
            "_________________________________________________________________\n",
            "max_pooling2d_6 (MaxPooling2 (None, 47, 150, 50)       0         \n",
            "_________________________________________________________________\n",
            "batch_normalization_12 (Batc (None, 47, 150, 50)       200       \n",
            "_________________________________________________________________\n",
            "dropout_14 (Dropout)         (None, 47, 150, 50)       0         \n",
            "_________________________________________________________________\n",
            "conv2d_7 (Conv2D)            (None, 47, 75, 100)       125100    \n",
            "_________________________________________________________________\n",
            "max_pooling2d_7 (MaxPooling2 (None, 23, 25, 100)       0         \n",
            "_________________________________________________________________\n",
            "batch_normalization_13 (Batc (None, 23, 25, 100)       400       \n",
            "_________________________________________________________________\n",
            "dropout_15 (Dropout)         (None, 23, 25, 100)       0         \n",
            "_________________________________________________________________\n",
            "flatten_3 (Flatten)          (None, 57500)             0         \n",
            "_________________________________________________________________\n",
            "dense_8 (Dense)              (None, 5)                 287505    \n",
            "_________________________________________________________________\n",
            "dense_9 (Dense)              (None, 5)                 30        \n",
            "=================================================================\n",
            "Total params: 414,535\n",
            "Trainable params: 414,235\n",
            "Non-trainable params: 300\n",
            "_________________________________________________________________\n"
          ]
        }
      ],
      "execution_count": 89,
      "metadata": {
        "collapsed": true,
        "jupyter": {
          "source_hidden": false,
          "outputs_hidden": false
        },
        "nteract": {
          "transient": {
            "deleting": false
          }
        },
        "gather": {
          "logged": 1612336154281
        }
      }
    },
    {
      "cell_type": "code",
      "source": [
        "model_cnn.compile(optimizer=\"adam\",loss=\"categorical_crossentropy\",metrics=[\"accuracy\"])"
      ],
      "outputs": [],
      "execution_count": 90,
      "metadata": {
        "collapsed": true,
        "jupyter": {
          "source_hidden": false,
          "outputs_hidden": false
        },
        "nteract": {
          "transient": {
            "deleting": false
          }
        },
        "gather": {
          "logged": 1612336158422
        }
      }
    },
    {
      "cell_type": "code",
      "source": [
        "# log best model\r\n",
        "checkpoint_best     = ModelCheckpoint('model_cnn_best',   monitor='loss', verbose=0, save_best_only=True, mode='auto')\r\n",
        "\r\n",
        "# log improved model\r\n",
        "checkpoint_epochs   = ModelCheckpoint('model_cnn_epochs', monitor='loss', verbose=0, save_best_only=True, mode='auto')"
      ],
      "outputs": [],
      "execution_count": 91,
      "metadata": {
        "collapsed": true,
        "jupyter": {
          "source_hidden": false,
          "outputs_hidden": false
        },
        "nteract": {
          "transient": {
            "deleting": false
          }
        },
        "gather": {
          "logged": 1612336160261
        }
      }
    },
    {
      "cell_type": "code",
      "source": [
        "model_cnn_hist = model_cnn.fit(X_train_cnn, Y_train_oh, validation_data=(X_test_cnn, Y_test_oh), epochs = 100, batch_size = 64, shuffle = True, callbacks=[early_stopping, checkpoint_best, checkpoint_epochs])"
      ],
      "outputs": [
        {
          "output_type": "stream",
          "name": "stdout",
          "text": [
            "Epoch 1/100\n",
            "21/21 [==============================] - 55s 3s/step - loss: 1.8285 - accuracy: 0.3329 - val_loss: 1.6062 - val_accuracy: 0.3725\b\b\b\b\b\b\b\b\b\b\b\b\b\b\b\b\b\b\b\b\b\b\b\b\b\b\b\b\b\b\b\b\b\b\b\b\b\b\b\b\n",
            "INFO:tensorflow:Assets written to: model_cnn_best/assets\n",
            "INFO:tensorflow:Assets written to: model_cnn_epochs/assets\n",
            "Epoch 2/100\n",
            "21/21 [==============================] - 46s 2s/step - loss: 1.6720 - accuracy: 0.3792 - val_loss: 1.5949 - val_accuracy: 0.3725\b\b\b\b\b\b\b\b\b\b\b\b\b\b\b\b\b\b\b\b\b\b\b\b\b\b\b\b\b\b\b\b\b\b\b\b\b\b\n",
            "INFO:tensorflow:Assets written to: model_cnn_best/assets\n",
            "INFO:tensorflow:Assets written to: model_cnn_epochs/assets\n",
            "Epoch 3/100\n",
            "21/21 [==============================] - 46s 2s/step - loss: 1.6161 - accuracy: 0.3791 - val_loss: 1.5881 - val_accuracy: 0.3725\b\b\b\b\b\b\b\b\b\b\b\b\b\b\b\b\b\b\b\b\b\b\b\b\b\b\b\b\b\b\b\b\b\b\b\b\b\b\n",
            "INFO:tensorflow:Assets written to: model_cnn_best/assets\n",
            "INFO:tensorflow:Assets written to: model_cnn_epochs/assets\n",
            "Epoch 4/100\n",
            "21/21 [==============================] - 46s 2s/step - loss: 1.6203 - accuracy: 0.3779 - val_loss: 1.5815 - val_accuracy: 0.3725\b\b\b\b\b\b\b\b\b\b\b\b\b\b\b\b\b\b\b\b\b\b\b\b\b\b\b\b\b\b\b\b\b\b\b\b\b\b\n",
            "INFO:tensorflow:Assets written to: model_cnn_best/assets\n",
            "INFO:tensorflow:Assets written to: model_cnn_epochs/assets\n",
            "Epoch 5/100\n",
            "21/21 [==============================] - 46s 2s/step - loss: 1.5771 - accuracy: 0.3799 - val_loss: 1.5754 - val_accuracy: 0.3725\b\b\b\b\b\b\b\b\b\b\b\b\b\b\b\b\b\b\b\b\b\b\b\b\b\b\b\b\b\b\b\b\b\b\b\b\b\b\n",
            "INFO:tensorflow:Assets written to: model_cnn_best/assets\n",
            "INFO:tensorflow:Assets written to: model_cnn_epochs/assets\n",
            "Epoch 6/100\n",
            "21/21 [==============================] - 46s 2s/step - loss: 1.5721 - accuracy: 0.3716 - val_loss: 1.5696 - val_accuracy: 0.3725\b\b\b\b\b\b\b\b\b\b\b\b\b\b\b\b\b\b\b\b\b\b\b\b\b\b\b\b\b\b\b\b\b\b\b\b\b\b\n",
            "INFO:tensorflow:Assets written to: model_cnn_best/assets\n",
            "INFO:tensorflow:Assets written to: model_cnn_epochs/assets\n",
            "Epoch 7/100\n",
            "21/21 [==============================] - 46s 2s/step - loss: 1.5656 - accuracy: 0.3683 - val_loss: 1.5642 - val_accuracy: 0.3725\b\b\b\b\b\b\b\b\b\b\b\b\b\b\b\b\b\b\b\b\b\b\b\b\b\b\b\b\b\b\b\b\b\b\b\b\b\b\n",
            "INFO:tensorflow:Assets written to: model_cnn_best/assets\n",
            "INFO:tensorflow:Assets written to: model_cnn_epochs/assets\n",
            "Epoch 8/100\n",
            "21/21 [==============================] - 46s 2s/step - loss: 1.5611 - accuracy: 0.3743 - val_loss: 1.5589 - val_accuracy: 0.3725\b\b\b\b\b\b\b\b\b\b\b\b\b\b\b\b\b\b\b\b\b\b\b\b\b\b\b\b\b\b\b\b\b\b\b\b\b\b\n",
            "INFO:tensorflow:Assets written to: model_cnn_best/assets\n",
            "INFO:tensorflow:Assets written to: model_cnn_epochs/assets\n",
            "Epoch 9/100\n",
            "21/21 [==============================] - 46s 2s/step - loss: 1.5555 - accuracy: 0.3707 - val_loss: 1.5544 - val_accuracy: 0.3725\b\b\b\b\b\b\b\b\b\b\b\b\b\b\b\b\b\b\b\b\b\b\b\b\b\b\b\b\b\b\b\b\b\b\b\b\b\b\n",
            "INFO:tensorflow:Assets written to: model_cnn_best/assets\n",
            "INFO:tensorflow:Assets written to: model_cnn_epochs/assets\n",
            "Epoch 10/100\n",
            "21/21 [==============================] - 47s 2s/step - loss: 1.5512 - accuracy: 0.3632 - val_loss: 1.5501 - val_accuracy: 0.3725\b\b\b\b\b\b\b\b\b\b\b\b\b\b\b\b\b\b\b\b\b\b\b\b\b\b\b\b\b\b\b\b\b\b\b\b\b\b\n",
            "INFO:tensorflow:Assets written to: model_cnn_best/assets\n",
            "INFO:tensorflow:Assets written to: model_cnn_epochs/assets\n",
            "Epoch 11/100\n",
            "21/21 [==============================] - 46s 2s/step - loss: 1.5493 - accuracy: 0.3657 - val_loss: 1.5460 - val_accuracy: 0.3725\b\b\b\b\b\b\b\b\b\b\b\b\b\b\b\b\b\b\b\b\b\b\b\b\b\b\b\b\b\b\b\b\b\b\b\b\b\b\n",
            "INFO:tensorflow:Assets written to: model_cnn_best/assets\n",
            "INFO:tensorflow:Assets written to: model_cnn_epochs/assets\n",
            "Epoch 12/100\n",
            "21/21 [==============================] - 46s 2s/step - loss: 1.5488 - accuracy: 0.3738 - val_loss: 1.5422 - val_accuracy: 0.3725\b\b\b\b\b\b\b\b\b\b\b\b\b\b\b\b\b\b\b\b\b\b\b\b\b\b\b\b\b\b\b\b\b\b\b\b\b\b\n",
            "Epoch 13/100\n",
            "21/21 [==============================] - 47s 2s/step - loss: 1.5413 - accuracy: 0.3910 - val_loss: 1.5384 - val_accuracy: 0.3725\b\b\b\b\b\b\b\b\b\b\b\b\b\b\b\b\b\b\b\b\b\b\b\b\b\b\b\b\b\b\b\b\b\b\b\b\b\b\n",
            "INFO:tensorflow:Assets written to: model_cnn_best/assets\n",
            "INFO:tensorflow:Assets written to: model_cnn_epochs/assets\n",
            "Epoch 14/100\n",
            "21/21 [==============================] - 47s 2s/step - loss: 1.5402 - accuracy: 0.3541 - val_loss: 1.5353 - val_accuracy: 0.3725\b\b\b\b\b\b\b\b\b\b\b\b\b\b\b\b\b\b\b\b\b\b\b\b\b\b\b\b\b\b\b\b\b\b\b\b\b\b\n",
            "INFO:tensorflow:Assets written to: model_cnn_best/assets\n",
            "INFO:tensorflow:Assets written to: model_cnn_epochs/assets\n",
            "Epoch 15/100\n",
            "21/21 [==============================] - 46s 2s/step - loss: 1.5306 - accuracy: 0.3778 - val_loss: 1.5322 - val_accuracy: 0.3725\b\b\b\b\b\b\b\b\b\b\b\b\b\b\b\b\b\b\b\b\b\b\b\b\b\b\b\b\b\b\b\b\b\b\b\b\b\b\n",
            "INFO:tensorflow:Assets written to: model_cnn_best/assets\n",
            "INFO:tensorflow:Assets written to: model_cnn_epochs/assets\n",
            "Epoch 16/100\n",
            "21/21 [==============================] - 46s 2s/step - loss: 1.5333 - accuracy: 0.3752 - val_loss: 1.5292 - val_accuracy: 0.3725\b\b\b\b\b\b\b\b\b\b\b\b\b\b\b\b\b\b\b\b\b\b\b\b\b\b\b\b\b\b\b\b\b\b\b\b\b\b\n",
            "INFO:tensorflow:Assets written to: model_cnn_best/assets\n",
            "INFO:tensorflow:Assets written to: model_cnn_epochs/assets\n",
            "Epoch 17/100\n",
            "21/21 [==============================] - 46s 2s/step - loss: 1.5264 - accuracy: 0.3663 - val_loss: 1.5264 - val_accuracy: 0.3725\b\b\b\b\b\b\b\b\b\b\b\b\b\b\b\b\b\b\b\b\b\b\b\b\b\b\b\b\b\b\b\b\b\b\b\b\b\b\n",
            "INFO:tensorflow:Assets written to: model_cnn_best/assets\n",
            "INFO:tensorflow:Assets written to: model_cnn_epochs/assets\n",
            "Epoch 18/100\n",
            "21/21 [==============================] - 46s 2s/step - loss: 1.5305 - accuracy: 0.3562 - val_loss: 1.5241 - val_accuracy: 0.3725\b\b\b\b\b\b\b\b\b\b\b\b\b\b\b\b\b\b\b\b\b\b\b\b\b\b\b\b\b\b\b\b\b\b\b\b\b\b\n",
            "INFO:tensorflow:Assets written to: model_cnn_best/assets\n",
            "INFO:tensorflow:Assets written to: model_cnn_epochs/assets\n",
            "Epoch 19/100\n",
            "21/21 [==============================] - 46s 2s/step - loss: 1.5241 - accuracy: 0.3693 - val_loss: 1.5219 - val_accuracy: 0.3725\b\b\b\b\b\b\b\b\b\b\b\b\b\b\b\b\b\b\b\b\b\b\b\b\b\b\b\b\b\b\b\b\b\b\b\b\b\b\n",
            "INFO:tensorflow:Assets written to: model_cnn_best/assets\n",
            "INFO:tensorflow:Assets written to: model_cnn_epochs/assets\n",
            "Epoch 20/100\n",
            "21/21 [==============================] - 46s 2s/step - loss: 1.5087 - accuracy: 0.3701 - val_loss: 1.5197 - val_accuracy: 0.3725\b\b\b\b\b\b\b\b\b\b\b\b\b\b\b\b\b\b\b\b\b\b\b\b\b\b\b\b\b\b\b\b\b\b\b\b\b\b\n",
            "INFO:tensorflow:Assets written to: model_cnn_best/assets\n",
            "INFO:tensorflow:Assets written to: model_cnn_epochs/assets\n",
            "Epoch 21/100\n",
            "21/21 [==============================] - 46s 2s/step - loss: 1.5119 - accuracy: 0.3855 - val_loss: 1.5179 - val_accuracy: 0.3725\b\b\b\b\b\b\b\b\b\b\b\b\b\b\b\b\b\b\b\b\b\b\b\b\b\b\b\b\b\b\b\b\b\b\b\b\b\b\n",
            "INFO:tensorflow:Assets written to: model_cnn_best/assets\n",
            "INFO:tensorflow:Assets written to: model_cnn_epochs/assets\n",
            "Epoch 22/100\n",
            "21/21 [==============================] - 46s 2s/step - loss: 1.5256 - accuracy: 0.3471 - val_loss: 1.5162 - val_accuracy: 0.3725\b\b\b\b\b\b\b\b\b\b\b\b\b\b\b\b\b\b\b\b\b\b\b\b\b\b\b\b\b\b\b\b\b\b\b\b\b\b\n",
            "INFO:tensorflow:Assets written to: model_cnn_best/assets\n",
            "INFO:tensorflow:Assets written to: model_cnn_epochs/assets\n",
            "Epoch 23/100\n",
            "21/21 [==============================] - 46s 2s/step - loss: 1.5189 - accuracy: 0.3670 - val_loss: 1.5147 - val_accuracy: 0.3725\b\b\b\b\b\b\b\b\b\b\b\b\b\b\b\b\b\b\b\b\b\b\b\b\b\b\b\b\b\b\b\b\b\b\b\b\b\b\n",
            "INFO:tensorflow:Assets written to: model_cnn_best/assets\n",
            "INFO:tensorflow:Assets written to: model_cnn_epochs/assets\n",
            "Epoch 24/100\n",
            "21/21 [==============================] - 46s 2s/step - loss: 1.5099 - accuracy: 0.3661 - val_loss: 1.5131 - val_accuracy: 0.3725\b\b\b\b\b\b\b\b\b\b\b\b\b\b\b\b\b\b\b\b\b\b\b\b\b\b\b\b\b\b\b\b\b\b\b\b\b\b\n",
            "INFO:tensorflow:Assets written to: model_cnn_best/assets\n",
            "INFO:tensorflow:Assets written to: model_cnn_epochs/assets\n",
            "Epoch 25/100\n",
            "21/21 [==============================] - 46s 2s/step - loss: 1.5086 - accuracy: 0.3798 - val_loss: 1.5118 - val_accuracy: 0.3725\b\b\b\b\b\b\b\b\b\b\b\b\b\b\b\b\b\b\b\b\b\b\b\b\b\b\b\b\b\b\b\b\b\b\b\b\b\b\n",
            "INFO:tensorflow:Assets written to: model_cnn_best/assets\n",
            "INFO:tensorflow:Assets written to: model_cnn_epochs/assets\n",
            "Epoch 26/100\n",
            "21/21 [==============================] - 47s 2s/step - loss: 1.5093 - accuracy: 0.3572 - val_loss: 1.5107 - val_accuracy: 0.3725\b\b\b\b\b\b\b\b\b\b\b\b\b\b\b\b\b\b\b\b\b\b\b\b\b\b\b\b\b\b\b\b\b\b\b\b\b\b\n",
            "INFO:tensorflow:Assets written to: model_cnn_best/assets\n",
            "INFO:tensorflow:Assets written to: model_cnn_epochs/assets\n",
            "Epoch 27/100\n",
            "21/21 [==============================] - 46s 2s/step - loss: 1.4988 - accuracy: 0.3809 - val_loss: 1.5094 - val_accuracy: 0.3725\b\b\b\b\b\b\b\b\b\b\b\b\b\b\b\b\b\b\b\b\b\b\b\b\b\b\b\b\b\b\b\b\b\b\b\b\b\b\n",
            "INFO:tensorflow:Assets written to: model_cnn_best/assets\n",
            "INFO:tensorflow:Assets written to: model_cnn_epochs/assets\n",
            "Epoch 28/100\n",
            "21/21 [==============================] - 46s 2s/step - loss: 1.5065 - accuracy: 0.3725 - val_loss: 1.5085 - val_accuracy: 0.3725\b\b\b\b\b\b\b\b\b\b\b\b\b\b\b\b\b\b\b\b\b\b\b\b\b\b\b\b\b\b\b\b\b\b\b\b\b\b\n",
            "INFO:tensorflow:Assets written to: model_cnn_best/assets\n",
            "INFO:tensorflow:Assets written to: model_cnn_epochs/assets\n",
            "Epoch 29/100\n",
            "21/21 [==============================] - 46s 2s/step - loss: 1.5053 - accuracy: 0.3805 - val_loss: 1.5076 - val_accuracy: 0.3725\b\b\b\b\b\b\b\b\b\b\b\b\b\b\b\b\b\b\b\b\b\b\b\b\b\b\b\b\b\b\b\b\b\b\b\b\b\b\n",
            "INFO:tensorflow:Assets written to: model_cnn_best/assets\n",
            "INFO:tensorflow:Assets written to: model_cnn_epochs/assets\n",
            "Epoch 30/100\n",
            "21/21 [==============================] - 47s 2s/step - loss: 1.4950 - accuracy: 0.3898 - val_loss: 1.5067 - val_accuracy: 0.3725\b\b\b\b\b\b\b\b\b\b\b\b\b\b\b\b\b\b\b\b\b\b\b\b\b\b\b\b\b\b\b\b\b\b\b\b\b\b\n",
            "INFO:tensorflow:Assets written to: model_cnn_best/assets\n",
            "INFO:tensorflow:Assets written to: model_cnn_epochs/assets\n",
            "Epoch 31/100\n",
            "21/21 [==============================] - 47s 2s/step - loss: 1.4998 - accuracy: 0.3800 - val_loss: 1.5059 - val_accuracy: 0.3725\b\b\b\b\b\b\b\b\b\b\b\b\b\b\b\b\b\b\b\b\b\b\b\b\b\b\b\b\b\b\b\b\b\b\b\b\b\b\n",
            "INFO:tensorflow:Assets written to: model_cnn_best/assets\n",
            "INFO:tensorflow:Assets written to: model_cnn_epochs/assets\n",
            "Epoch 32/100\n",
            "21/21 [==============================] - 46s 2s/step - loss: 1.5042 - accuracy: 0.3857 - val_loss: 1.5053 - val_accuracy: 0.3725\b\b\b\b\b\b\b\b\b\b\b\b\b\b\b\b\b\b\b\b\b\b\b\b\b\b\b\b\b\b\b\b\b\b\b\b\b\b\n",
            "INFO:tensorflow:Assets written to: model_cnn_best/assets\n",
            "INFO:tensorflow:Assets written to: model_cnn_epochs/assets\n",
            "Epoch 33/100\n",
            "21/21 [==============================] - 47s 2s/step - loss: 1.5020 - accuracy: 0.3604 - val_loss: 1.5047 - val_accuracy: 0.3725\b\b\b\b\b\b\b\b\b\b\b\b\b\b\b\b\b\b\b\b\b\b\b\b\b\b\b\b\b\b\b\b\b\b\b\b\b\b\n",
            "INFO:tensorflow:Assets written to: model_cnn_best/assets\n",
            "INFO:tensorflow:Assets written to: model_cnn_epochs/assets\n",
            "Epoch 34/100\n",
            "21/21 [==============================] - 46s 2s/step - loss: 1.5061 - accuracy: 0.3653 - val_loss: 1.5041 - val_accuracy: 0.3725\b\b\b\b\b\b\b\b\b\b\b\b\b\b\b\b\b\b\b\b\b\b\b\b\b\b\b\b\b\b\b\b\b\b\b\b\b\b\n",
            "INFO:tensorflow:Assets written to: model_cnn_best/assets\n",
            "INFO:tensorflow:Assets written to: model_cnn_epochs/assets\n",
            "Epoch 35/100\n",
            "21/21 [==============================] - 47s 2s/step - loss: 1.4912 - accuracy: 0.3891 - val_loss: 1.5035 - val_accuracy: 0.3725\b\b\b\b\b\b\b\b\b\b\b\b\b\b\b\b\b\b\b\b\b\b\b\b\b\b\b\b\b\b\b\b\b\b\b\b\b\b\n",
            "INFO:tensorflow:Assets written to: model_cnn_best/assets\n",
            "INFO:tensorflow:Assets written to: model_cnn_epochs/assets\n",
            "Epoch 36/100\n",
            "21/21 [==============================] - 46s 2s/step - loss: 1.4961 - accuracy: 0.3834 - val_loss: 1.5031 - val_accuracy: 0.3725\b\b\b\b\b\b\b\b\b\b\b\b\b\b\b\b\b\b\b\b\b\b\b\b\b\b\b\b\b\b\b\b\b\b\b\b\b\b\n",
            "INFO:tensorflow:Assets written to: model_cnn_best/assets\n",
            "INFO:tensorflow:Assets written to: model_cnn_epochs/assets\n",
            "Epoch 37/100\n",
            "21/21 [==============================] - 46s 2s/step - loss: 1.5005 - accuracy: 0.3776 - val_loss: 1.5027 - val_accuracy: 0.3725\b\b\b\b\b\b\b\b\b\b\b\b\b\b\b\b\b\b\b\b\b\b\b\b\b\b\b\b\b\b\b\b\b\b\b\b\b\b\n",
            "INFO:tensorflow:Assets written to: model_cnn_best/assets\n",
            "INFO:tensorflow:Assets written to: model_cnn_epochs/assets\n",
            "Epoch 38/100\n",
            "21/21 [==============================] - 46s 2s/step - loss: 1.4969 - accuracy: 0.3765 - val_loss: 1.5023 - val_accuracy: 0.3725\b\b\b\b\b\b\b\b\b\b\b\b\b\b\b\b\b\b\b\b\b\b\b\b\b\b\b\b\b\b\b\b\b\b\b\b\b\b\n",
            "INFO:tensorflow:Assets written to: model_cnn_best/assets\n",
            "INFO:tensorflow:Assets written to: model_cnn_epochs/assets\n",
            "Epoch 39/100\n",
            "21/21 [==============================] - 47s 2s/step - loss: 1.5111 - accuracy: 0.3603 - val_loss: 1.5020 - val_accuracy: 0.3725\b\b\b\b\b\b\b\b\b\b\b\b\b\b\b\b\b\b\b\b\b\b\b\b\b\b\b\b\b\b\b\b\b\b\b\b\b\b\n",
            "INFO:tensorflow:Assets written to: model_cnn_best/assets\n",
            "INFO:tensorflow:Assets written to: model_cnn_epochs/assets\n",
            "Epoch 40/100\n",
            "21/21 [==============================] - 47s 2s/step - loss: 1.5051 - accuracy: 0.3743 - val_loss: 1.5018 - val_accuracy: 0.3725\b\b\b\b\b\b\b\b\b\b\b\b\b\b\b\b\b\b\b\b\b\b\b\b\b\b\b\b\b\b\b\b\b\b\b\b\b\b\n",
            "INFO:tensorflow:Assets written to: model_cnn_best/assets\n",
            "INFO:tensorflow:Assets written to: model_cnn_epochs/assets\n",
            "Epoch 41/100\n",
            "21/21 [==============================] - 47s 2s/step - loss: 1.5021 - accuracy: 0.3808 - val_loss: 1.5015 - val_accuracy: 0.3725\b\b\b\b\b\b\b\b\b\b\b\b\b\b\b\b\b\b\b\b\b\b\b\b\b\b\b\b\b\b\b\b\b\b\b\b\b\b\n",
            "INFO:tensorflow:Assets written to: model_cnn_best/assets\n",
            "INFO:tensorflow:Assets written to: model_cnn_epochs/assets\n",
            "Epoch 42/100\n",
            "21/21 [==============================] - 47s 2s/step - loss: 1.5055 - accuracy: 0.3616 - val_loss: 1.5012 - val_accuracy: 0.3725\b\b\b\b\b\b\b\b\b\b\b\b\b\b\b\b\b\b\b\b\b\b\b\b\b\b\b\b\b\b\b\b\b\b\b\b\b\b\n",
            "INFO:tensorflow:Assets written to: model_cnn_best/assets\n",
            "INFO:tensorflow:Assets written to: model_cnn_epochs/assets\n",
            "Epoch 43/100\n",
            "21/21 [==============================] - 47s 2s/step - loss: 1.5355 - accuracy: 0.3313 - val_loss: 1.5011 - val_accuracy: 0.3725\b\b\b\b\b\b\b\b\b\b\b\b\b\b\b\b\b\b\b\b\b\b\b\b\b\b\b\b\b\b\b\b\b\b\b\b\b\b\n",
            "INFO:tensorflow:Assets written to: model_cnn_best/assets\n",
            "INFO:tensorflow:Assets written to: model_cnn_epochs/assets\n",
            "Epoch 44/100\n",
            "21/21 [==============================] - 46s 2s/step - loss: 1.5007 - accuracy: 0.3783 - val_loss: 1.5008 - val_accuracy: 0.3725\b\b\b\b\b\b\b\b\b\b\b\b\b\b\b\b\b\b\b\b\b\b\b\b\b\b\b\b\b\b\b\b\b\b\b\b\b\b\n",
            "INFO:tensorflow:Assets written to: model_cnn_best/assets\n",
            "INFO:tensorflow:Assets written to: model_cnn_epochs/assets\n",
            "Epoch 45/100\n",
            "21/21 [==============================] - 46s 2s/step - loss: 1.4913 - accuracy: 0.3738 - val_loss: 1.5006 - val_accuracy: 0.3725\b\b\b\b\b\b\b\b\b\b\b\b\b\b\b\b\b\b\b\b\b\b\b\b\b\b\b\b\b\b\b\b\b\b\b\b\b\b\n",
            "INFO:tensorflow:Assets written to: model_cnn_best/assets\n",
            "INFO:tensorflow:Assets written to: model_cnn_epochs/assets\n",
            "Epoch 46/100\n",
            "21/21 [==============================] - 47s 2s/step - loss: 1.4797 - accuracy: 0.3959 - val_loss: 1.5005 - val_accuracy: 0.3725\b\b\b\b\b\b\b\b\b\b\b\b\b\b\b\b\b\b\b\b\b\b\b\b\b\b\b\b\b\b\b\b\b\b\b\b\b\b\n",
            "INFO:tensorflow:Assets written to: model_cnn_best/assets\n",
            "INFO:tensorflow:Assets written to: model_cnn_epochs/assets\n",
            "Epoch 47/100\n",
            "21/21 [==============================] - 47s 2s/step - loss: 1.5071 - accuracy: 0.3698 - val_loss: 1.5004 - val_accuracy: 0.3725\b\b\b\b\b\b\b\b\b\b\b\b\b\b\b\b\b\b\b\b\b\b\b\b\b\b\b\b\b\b\b\b\b\b\b\b\b\b\n",
            "INFO:tensorflow:Assets written to: model_cnn_best/assets\n",
            "INFO:tensorflow:Assets written to: model_cnn_epochs/assets\n",
            "Epoch 48/100\n",
            "21/21 [==============================] - 47s 2s/step - loss: 1.5073 - accuracy: 0.3752 - val_loss: 1.5003 - val_accuracy: 0.3725\b\b\b\b\b\b\b\b\b\b\b\b\b\b\b\b\b\b\b\b\b\b\b\b\b\b\b\b\b\b\b\b\b\b\b\b\b\b\n",
            "INFO:tensorflow:Assets written to: model_cnn_best/assets\n",
            "INFO:tensorflow:Assets written to: model_cnn_epochs/assets\n",
            "Epoch 49/100\n",
            "21/21 [==============================] - 46s 2s/step - loss: 1.4829 - accuracy: 0.3947 - val_loss: 1.5002 - val_accuracy: 0.3725\b\b\b\b\b\b\b\b\b\b\b\b\b\b\b\b\b\b\b\b\b\b\b\b\b\b\b\b\b\b\b\b\b\b\b\b\b\b\n",
            "INFO:tensorflow:Assets written to: model_cnn_best/assets\n",
            "INFO:tensorflow:Assets written to: model_cnn_epochs/assets\n",
            "Epoch 50/100\n",
            "21/21 [==============================] - 46s 2s/step - loss: 1.5014 - accuracy: 0.3714 - val_loss: 1.5001 - val_accuracy: 0.3725\b\b\b\b\b\b\b\b\b\b\b\b\b\b\b\b\b\b\b\b\b\b\b\b\b\b\b\b\b\b\b\b\b\b\b\b\b\b\n",
            "INFO:tensorflow:Assets written to: model_cnn_best/assets\n",
            "INFO:tensorflow:Assets written to: model_cnn_epochs/assets\n",
            "Epoch 51/100\n",
            "21/21 [==============================] - 46s 2s/step - loss: 1.5127 - accuracy: 0.3622 - val_loss: 1.5001 - val_accuracy: 0.3725\b\b\b\b\b\b\b\b\b\b\b\b\b\b\b\b\b\b\b\b\b\b\b\b\b\b\b\b\b\b\b\b\b\b\b\b\b\b\n",
            "INFO:tensorflow:Assets written to: model_cnn_best/assets\n",
            "INFO:tensorflow:Assets written to: model_cnn_epochs/assets\n",
            "Epoch 52/100\n",
            "21/21 [==============================] - 46s 2s/step - loss: 1.5234 - accuracy: 0.3482 - val_loss: 1.5000 - val_accuracy: 0.3725\b\b\b\b\b\b\b\b\b\b\b\b\b\b\b\b\b\b\b\b\b\b\b\b\b\b\b\b\b\b\b\b\b\b\b\b\b\b\n",
            "INFO:tensorflow:Assets written to: model_cnn_best/assets\n",
            "INFO:tensorflow:Assets written to: model_cnn_epochs/assets\n",
            "Epoch 53/100\n",
            "21/21 [==============================] - 46s 2s/step - loss: 1.5090 - accuracy: 0.3579 - val_loss: 1.4999 - val_accuracy: 0.3725\b\b\b\b\b\b\b\b\b\b\b\b\b\b\b\b\b\b\b\b\b\b\b\b\b\b\b\b\b\b\b\b\b\b\b\b\b\b\n",
            "INFO:tensorflow:Assets written to: model_cnn_best/assets\n",
            "INFO:tensorflow:Assets written to: model_cnn_epochs/assets\n",
            "Epoch 54/100\n",
            "21/21 [==============================] - 46s 2s/step - loss: 1.4910 - accuracy: 0.3775 - val_loss: 1.4998 - val_accuracy: 0.3725\b\b\b\b\b\b\b\b\b\b\b\b\b\b\b\b\b\b\b\b\b\b\b\b\b\b\b\b\b\b\b\b\b\b\b\b\b\b\n",
            "INFO:tensorflow:Assets written to: model_cnn_best/assets\n",
            "INFO:tensorflow:Assets written to: model_cnn_epochs/assets\n",
            "Epoch 55/100\n",
            "21/21 [==============================] - 46s 2s/step - loss: 1.5042 - accuracy: 0.3773 - val_loss: 1.4998 - val_accuracy: 0.3725\b\b\b\b\b\b\b\b\b\b\b\b\b\b\b\b\b\b\b\b\b\b\b\b\b\b\b\b\b\b\b\b\b\b\b\b\b\b\n",
            "INFO:tensorflow:Assets written to: model_cnn_best/assets\n",
            "INFO:tensorflow:Assets written to: model_cnn_epochs/assets\n",
            "Epoch 56/100\n",
            "21/21 [==============================] - 47s 2s/step - loss: 1.4739 - accuracy: 0.4029 - val_loss: 1.4998 - val_accuracy: 0.3725\b\b\b\b\b\b\b\b\b\b\b\b\b\b\b\b\b\b\b\b\b\b\b\b\b\b\b\b\b\b\b\b\b\b\b\b\b\b\n",
            "Epoch 57/100\n",
            "21/21 [==============================] - 46s 2s/step - loss: 1.4815 - accuracy: 0.3938 - val_loss: 1.4997 - val_accuracy: 0.3725\b\b\b\b\b\b\b\b\b\b\b\b\b\b\b\b\b\b\b\b\b\b\b\b\b\b\b\b\b\b\b\b\b\b\b\b\b\b\n",
            "INFO:tensorflow:Assets written to: model_cnn_best/assets\n",
            "INFO:tensorflow:Assets written to: model_cnn_epochs/assets\n",
            "Epoch 58/100\n",
            "21/21 [==============================] - 46s 2s/step - loss: 1.4937 - accuracy: 0.3864 - val_loss: 1.4997 - val_accuracy: 0.3725\b\b\b\b\b\b\b\b\b\b\b\b\b\b\b\b\b\b\b\b\b\b\b\b\b\b\b\b\b\b\b\b\b\b\b\b\b\b\n",
            "INFO:tensorflow:Assets written to: model_cnn_best/assets\n",
            "INFO:tensorflow:Assets written to: model_cnn_epochs/assets\n",
            "Epoch 59/100\n",
            "21/21 [==============================] - 46s 2s/step - loss: 1.5005 - accuracy: 0.3742 - val_loss: 1.4997 - val_accuracy: 0.3725\b\b\b\b\b\b\b\b\b\b\b\b\b\b\b\b\b\b\b\b\b\b\b\b\b\b\b\b\b\b\b\b\b\b\b\b\b\b\n",
            "INFO:tensorflow:Assets written to: model_cnn_best/assets\n",
            "INFO:tensorflow:Assets written to: model_cnn_epochs/assets\n",
            "Epoch 60/100\n",
            "21/21 [==============================] - 46s 2s/step - loss: 1.4979 - accuracy: 0.3819 - val_loss: 1.4997 - val_accuracy: 0.3725\b\b\b\b\b\b\b\b\b\b\b\b\b\b\b\b\b\b\b\b\b\b\b\b\b\b\b\b\b\b\b\b\b\b\b\b\b\b\n",
            "INFO:tensorflow:Assets written to: model_cnn_best/assets\n",
            "INFO:tensorflow:Assets written to: model_cnn_epochs/assets\n",
            "Epoch 61/100\n",
            "21/21 [==============================] - 53s 3s/step - loss: 1.4731 - accuracy: 0.3847 - val_loss: 1.4996 - val_accuracy: 0.3725\b\b\b\b\b\b\b\b\b\b\b\b\b\b\b\b\b\b\b\b\b\b\b\b\b\b\b\b\b\b\b\b\b\b\b\b\b\b\n",
            "Epoch 62/100\n",
            "21/21 [==============================] - 59s 3s/step - loss: 1.4776 - accuracy: 0.3804 - val_loss: 1.4996 - val_accuracy: 0.3725\b\b\b\b\b\b\b\b\b\b\b\b\b\b\b\b\b\b\b\b\b\b\b\b\b\b\b\b\b\b\b\b\b\b\b\b\b\b\n",
            "INFO:tensorflow:Assets written to: model_cnn_best/assets\n",
            "INFO:tensorflow:Assets written to: model_cnn_epochs/assets\n",
            "Epoch 63/100\n",
            "21/21 [==============================] - 59s 3s/step - loss: 1.5013 - accuracy: 0.3598 - val_loss: 1.4996 - val_accuracy: 0.3725\b\b\b\b\b\b\b\b\b\b\b\b\b\b\b\b\b\b\b\b\b\b\b\b\b\b\b\b\b\b\b\b\b\b\b\b\b\b\n",
            "INFO:tensorflow:Assets written to: model_cnn_best/assets\n",
            "INFO:tensorflow:Assets written to: model_cnn_epochs/assets\n",
            "Epoch 64/100\n",
            "21/21 [==============================] - 59s 3s/step - loss: 1.5040 - accuracy: 0.3715 - val_loss: 1.4996 - val_accuracy: 0.3725\b\b\b\b\b\b\b\b\b\b\b\b\b\b\b\b\b\b\b\b\b\b\b\b\b\b\b\b\b\b\b\b\b\b\b\b\b\b\n",
            "INFO:tensorflow:Assets written to: model_cnn_best/assets\n",
            "INFO:tensorflow:Assets written to: model_cnn_epochs/assets\n",
            "Epoch 65/100\n",
            "21/21 [==============================] - 59s 3s/step - loss: 1.4907 - accuracy: 0.3730 - val_loss: 1.4996 - val_accuracy: 0.3725\b\b\b\b\b\b\b\b\b\b\b\b\b\b\b\b\b\b\b\b\b\b\b\b\b\b\b\b\b\b\b\b\b\b\b\b\b\b\n",
            "INFO:tensorflow:Assets written to: model_cnn_best/assets\n",
            "INFO:tensorflow:Assets written to: model_cnn_epochs/assets\n",
            "Epoch 66/100\n",
            "21/21 [==============================] - 55s 3s/step - loss: 1.4888 - accuracy: 0.3772 - val_loss: 1.4996 - val_accuracy: 0.3725\b\b\b\b\b\b\b\b\b\b\b\b\b\b\b\b\b\b\b\b\b\b\b\b\b\b\b\b\b\b\b\b\b\b\b\b\b\b\n",
            "INFO:tensorflow:Assets written to: model_cnn_best/assets\n",
            "INFO:tensorflow:Assets written to: model_cnn_epochs/assets\n",
            "Epoch 67/100\n",
            "21/21 [==============================] - 46s 2s/step - loss: 1.5067 - accuracy: 0.3694 - val_loss: 1.4996 - val_accuracy: 0.3725\b\b\b\b\b\b\b\b\b\b\b\b\b\b\b\b\b\b\b\b\b\b\b\b\b\b\b\b\b\b\b\b\b\b\b\b\b\b\n",
            "INFO:tensorflow:Assets written to: model_cnn_best/assets\n",
            "INFO:tensorflow:Assets written to: model_cnn_epochs/assets\n",
            "Epoch 68/100\n",
            "21/21 [==============================] - 46s 2s/step - loss: 1.4819 - accuracy: 0.3761 - val_loss: 1.4996 - val_accuracy: 0.3725\b\b\b\b\b\b\b\b\b\b\b\b\b\b\b\b\b\b\b\b\b\b\b\b\b\b\b\b\b\b\b\b\b\b\b\b\b\b\n",
            "Epoch 69/100\n",
            "21/21 [==============================] - 46s 2s/step - loss: 1.4815 - accuracy: 0.3816 - val_loss: 1.4995 - val_accuracy: 0.3725\b\b\b\b\b\b\b\b\b\b\b\b\b\b\b\b\b\b\b\b\b\b\b\b\b\b\b\b\b\b\b\b\b\b\b\b\b\b\n",
            "INFO:tensorflow:Assets written to: model_cnn_best/assets\n",
            "INFO:tensorflow:Assets written to: model_cnn_epochs/assets\n",
            "Epoch 70/100\n",
            "21/21 [==============================] - 46s 2s/step - loss: 1.4838 - accuracy: 0.3694 - val_loss: 1.4995 - val_accuracy: 0.3725\b\b\b\b\b\b\b\b\b\b\b\b\b\b\b\b\b\b\b\b\b\b\b\b\b\b\b\b\b\b\b\b\b\b\b\b\b\b\n",
            "INFO:tensorflow:Assets written to: model_cnn_best/assets\n",
            "INFO:tensorflow:Assets written to: model_cnn_epochs/assets\n",
            "Epoch 71/100\n",
            "21/21 [==============================] - 47s 2s/step - loss: 1.4959 - accuracy: 0.3631 - val_loss: 1.4995 - val_accuracy: 0.3725\b\b\b\b\b\b\b\b\b\b\b\b\b\b\b\b\b\b\b\b\b\b\b\b\b\b\b\b\b\b\b\b\b\b\b\b\b\b\n",
            "INFO:tensorflow:Assets written to: model_cnn_best/assets\n",
            "INFO:tensorflow:Assets written to: model_cnn_epochs/assets\n",
            "Epoch 72/100\n",
            "21/21 [==============================] - 46s 2s/step - loss: 1.4874 - accuracy: 0.3801 - val_loss: 1.4995 - val_accuracy: 0.3725\b\b\b\b\b\b\b\b\b\b\b\b\b\b\b\b\b\b\b\b\b\b\b\b\b\b\b\b\b\b\b\b\b\b\b\b\b\b\n",
            "INFO:tensorflow:Assets written to: model_cnn_best/assets\n",
            "INFO:tensorflow:Assets written to: model_cnn_epochs/assets\n",
            "Epoch 73/100\n",
            "21/21 [==============================] - 46s 2s/step - loss: 1.4895 - accuracy: 0.3733 - val_loss: 1.4995 - val_accuracy: 0.3725\b\b\b\b\b\b\b\b\b\b\b\b\b\b\b\b\b\b\b\b\b\b\b\b\b\b\b\b\b\b\b\b\b\b\b\b\b\b\n",
            "INFO:tensorflow:Assets written to: model_cnn_best/assets\n",
            "INFO:tensorflow:Assets written to: model_cnn_epochs/assets\n",
            "Epoch 74/100\n",
            "21/21 [==============================] - 46s 2s/step - loss: 1.5098 - accuracy: 0.3628 - val_loss: 1.4995 - val_accuracy: 0.3725\b\b\b\b\b\b\b\b\b\b\b\b\b\b\b\b\b\b\b\b\b\b\b\b\b\b\b\b\b\b\b\b\b\b\b\b\b\b\n",
            "Epoch 75/100\n",
            "21/21 [==============================] - 46s 2s/step - loss: 1.5109 - accuracy: 0.3631 - val_loss: 1.4995 - val_accuracy: 0.3725\b\b\b\b\b\b\b\b\b\b\b\b\b\b\b\b\b\b\b\b\b\b\b\b\b\b\b\b\b\b\b\b\b\b\b\b\b\b\n",
            "INFO:tensorflow:Assets written to: model_cnn_best/assets\n",
            "INFO:tensorflow:Assets written to: model_cnn_epochs/assets\n",
            "Epoch 76/100\n",
            "21/21 [==============================] - 46s 2s/step - loss: 1.5038 - accuracy: 0.3695 - val_loss: 1.4995 - val_accuracy: 0.3725\b\b\b\b\b\b\b\b\b\b\b\b\b\b\b\b\b\b\b\b\b\b\b\b\b\b\b\b\b\b\b\b\b\b\b\b\b\b\n",
            "Epoch 77/100\n",
            "21/21 [==============================] - 46s 2s/step - loss: 1.4876 - accuracy: 0.3780 - val_loss: 1.4995 - val_accuracy: 0.3725\b\b\b\b\b\b\b\b\b\b\b\b\b\b\b\b\b\b\b\b\b\b\b\b\b\b\b\b\b\b\b\b\b\b\b\b\b\b\n",
            "Epoch 78/100\n",
            "21/21 [==============================] - 47s 2s/step - loss: 1.4972 - accuracy: 0.3819 - val_loss: 1.4995 - val_accuracy: 0.3725\b\b\b\b\b\b\b\b\b\b\b\b\b\b\b\b\b\b\b\b\b\b\b\b\b\b\b\b\b\b\b\b\b\b\b\b\b\b\n",
            "INFO:tensorflow:Assets written to: model_cnn_best/assets\n",
            "INFO:tensorflow:Assets written to: model_cnn_epochs/assets\n",
            "Epoch 79/100\n",
            "21/21 [==============================] - 47s 2s/step - loss: 1.5004 - accuracy: 0.3661 - val_loss: 1.4995 - val_accuracy: 0.3725\b\b\b\b\b\b\b\b\b\b\b\b\b\b\b\b\b\b\b\b\b\b\b\b\b\b\b\b\b\b\b\b\b\b\b\b\b\b\n",
            "Epoch 80/100\n",
            "21/21 [==============================] - 47s 2s/step - loss: 1.5277 - accuracy: 0.3522 - val_loss: 1.4995 - val_accuracy: 0.3725\b\b\b\b\b\b\b\b\b\b\b\b\b\b\b\b\b\b\b\b\b\b\b\b\b\b\b\b\b\b\b\b\b\b\b\b\b\b\n",
            "Epoch 81/100\n",
            "21/21 [==============================] - 46s 2s/step - loss: 1.5012 - accuracy: 0.3722 - val_loss: 1.4995 - val_accuracy: 0.3725\b\b\b\b\b\b\b\b\b\b\b\b\b\b\b\b\b\b\b\b\b\b\b\b\b\b\b\b\b\b\b\b\b\b\b\b\b\b\n",
            "Epoch 82/100\n",
            "21/21 [==============================] - 46s 2s/step - loss: 1.4912 - accuracy: 0.3852 - val_loss: 1.4995 - val_accuracy: 0.3725\b\b\b\b\b\b\b\b\b\b\b\b\b\b\b\b\b\b\b\b\b\b\b\b\b\b\b\b\b\b\b\b\b\b\b\b\b\b\n"
          ]
        }
      ],
      "execution_count": 92,
      "metadata": {
        "collapsed": true,
        "jupyter": {
          "source_hidden": false,
          "outputs_hidden": false
        },
        "nteract": {
          "transient": {
            "deleting": false
          }
        },
        "gather": {
          "logged": 1612340360785
        }
      }
    },
    {
      "cell_type": "code",
      "source": [
        "score = model_cnn.evaluate(X_test_cnn, Y_test_oh, verbose=1)\r\n",
        "accuracy1 = 100*score[0]\r\n",
        "accuracy2 = 100*score[1]\r\n",
        "print('Test loss:  %.4f%%' % accuracy1)\r\n",
        "print('Test accuracy:  %.4f%%' % accuracy2)"
      ],
      "outputs": [
        {
          "output_type": "stream",
          "name": "stdout",
          "text": [
            "10/10 [==============================] - 2s 202ms/step - loss: 1.4995 - accuracy: 0.3725\b\b\b\b\b\b\b\b\b\b\b\b\b\b\b\b\b\b\b\b\b\b\b\b\b\b\b\b\b\b\b\b\b\b\b\b\b\b\b\b\b\b\b\b\b\b\b\b\b\b\b\b\b\b\b\b\b\b\b\b\b\b\b\b\b\b\b\b\b\b\b\b\b\b\b\b\b\b\b\b\b\b\b\b\n",
            "Test loss:  149.9524%\n",
            "Test accuracy:  37.2483%\n"
          ]
        }
      ],
      "execution_count": 93,
      "metadata": {
        "collapsed": true,
        "jupyter": {
          "source_hidden": false,
          "outputs_hidden": false
        },
        "nteract": {
          "transient": {
            "deleting": false
          }
        },
        "gather": {
          "logged": 1612340579167
        }
      }
    },
    {
      "cell_type": "code",
      "source": [],
      "outputs": [],
      "execution_count": null,
      "metadata": {
        "collapsed": true,
        "jupyter": {
          "source_hidden": false,
          "outputs_hidden": false
        },
        "nteract": {
          "transient": {
            "deleting": false
          }
        }
      }
    },
    {
      "cell_type": "code",
      "source": [
        "Y_predict = model_cnn.predict(X_test_cnn) \r\n",
        "cnn_confusionmatrix = metrics.confusion_matrix(Y_test_oh.argmax(axis=1), Y_predict.argmax(axis=1))\r\n",
        "print(cnn_confusionmatrix)"
      ],
      "outputs": [
        {
          "output_type": "stream",
          "name": "stdout",
          "text": [
            "[[  0  41   0   0   0]\n",
            " [  0 111   0   0   0]\n",
            " [  0  73   0   0   0]\n",
            " [  0  38   0   0   0]\n",
            " [  0  35   0   0   0]]\n"
          ]
        }
      ],
      "execution_count": 91,
      "metadata": {
        "collapsed": true,
        "jupyter": {
          "source_hidden": false,
          "outputs_hidden": false
        },
        "nteract": {
          "transient": {
            "deleting": false
          }
        },
        "gather": {
          "logged": 1610703137989
        }
      }
    },
    {
      "cell_type": "code",
      "source": [
        "plot_confusion_matrix(cnn_confusionmatrix, classes=['None','Mild', 'Moderate', 'Moderately \\n Severe', 'Severe'],\r\n",
        "                      title='CNN Confusion matrix')"
      ],
      "outputs": [
        {
          "output_type": "stream",
          "name": "stdout",
          "text": [
            "Confusion matrix, without normalization\n",
            "[[  0  41   0   0   0]\n",
            " [  0 111   0   0   0]\n",
            " [  0  73   0   0   0]\n",
            " [  0  38   0   0   0]\n",
            " [  0  35   0   0   0]]\n"
          ]
        },
        {
          "output_type": "display_data",
          "data": {
            "text/plain": "<Figure size 432x288 with 2 Axes>",
            "image/png": "[encoded data removed]"
          },
          "metadata": {
            "needs_background": "light"
          }
        }
      ],
      "execution_count": 92,
      "metadata": {
        "collapsed": true,
        "jupyter": {
          "source_hidden": false,
          "outputs_hidden": false
        },
        "nteract": {
          "transient": {
            "deleting": false
          }
        },
        "gather": {
          "logged": 1610703142209
        }
      }
    },
    {
      "cell_type": "code",
      "source": [
        "#Saving the cnn model\r\n",
        "with open('./depression-detection-extract/models/model_cnn_hist.json', 'w') as f:\r\n",
        "    json.dump(model_cnn_hist.history, f)\r\n",
        "model_cnn.save('./depression-detection-extract/models/model_cnn.h5')"
      ],
      "outputs": [],
      "execution_count": 96,
      "metadata": {
        "collapsed": true,
        "jupyter": {
          "source_hidden": false,
          "outputs_hidden": false
        },
        "nteract": {
          "transient": {
            "deleting": false
          }
        },
        "gather": {
          "logged": 1612340649272
        }
      }
    },
    {
      "cell_type": "code",
      "source": [
        "def plot_acc(history=model_cnn_hist, title=\"Model Accuracy\"):\r\n",
        "    plt.plot(history.history['accuracy'])\r\n",
        "    plt.plot(history.history['val_accuracy'])\r\n",
        "    plt.title(title)\r\n",
        "    plt.ylabel('Accuracy')\r\n",
        "    plt.xlabel('Epoch')\r\n",
        "    plt.legend(['Train', 'Val'], loc='upper left')\r\n",
        "    plt.show()\r\n",
        "    \r\n",
        "def plot_loss(history, title=\"Model Loss\"):\r\n",
        "    plt.plot(history.history['loss'])\r\n",
        "    plt.plot(history.history['val_loss'])\r\n",
        "    plt.title(title)\r\n",
        "    plt.ylabel('Loss')\r\n",
        "    plt.xlabel('Epoch')\r\n",
        "    plt.legend(['Train', 'Val'], loc='upper right')\r\n",
        "    plt.show()\r\n",
        "    \r\n",
        "def plot_compare_losses(history1, history2, name1=\"Red 1\", name2=\"Red 2\", title=\"Losses Comparison\"):\r\n",
        "    plt.plot(history1.history['loss'], color=\"green\")\r\n",
        "    plt.plot(history1.history['val_loss'], 'r--', color=\"green\")\r\n",
        "    plt.plot(history2.history['loss'], color=\"blue\")\r\n",
        "    plt.plot(history2.history['val_loss'], 'r--', color=\"blue\")\r\n",
        "    plt.title(title)\r\n",
        "    plt.ylabel('Loss')\r\n",
        "    plt.xlabel('Epoch')\r\n",
        "    plt.legend(['Train ' + name1, 'Val ' + name1, \r\n",
        "                'Train ' + name2, 'Val ' + name2],\r\n",
        "               loc='upper right')\r\n",
        "    plt.show()\r\n",
        "    \r\n",
        "def plot_compare_accs(history1, history2, name1=\"Red 1\",\r\n",
        "                      name2=\"Red 2\", title=\"Accuracy Comparison\"):\r\n",
        "    \"\"\"Compare Accuracies of Two Trainings with Names Name1 and Name2\"\"\"\r\n",
        "    plt.plot(history1.history['accuracy'], color=\"green\")\r\n",
        "    plt.plot(history1.history['val_accuracy'], 'r--', color=\"green\")\r\n",
        "    plt.plot(history2.history['accuracy'], color=\"blue\")\r\n",
        "    plt.plot(history2.history['val_accuracy'], 'r--', color=\"blue\")\r\n",
        "    plt.title(title)\r\n",
        "    plt.ylabel('Accuracy')\r\n",
        "    plt.xlabel('Epoch')\r\n",
        "    plt.legend(['Train ' + name1, 'Val ' + name1, \r\n",
        "                'Train ' + name2, 'Val ' + name2], \r\n",
        "               loc='lower right')\r\n",
        "    plt.show()\r\n",
        "\r\n",
        "def plot_compare_multiple_metrics(history_array, names, colors, title=\"Multiple metrics\", metric='accuracy'):  \r\n",
        "    legend = []\r\n",
        "    for i in range(0, len(history_array)):\r\n",
        "        plt.plot(history_array[i].history[metric], color=colors[i])\r\n",
        "        plt.plot(history_array[i].history['val_' + metric], 'r--', color=colors[i])\r\n",
        "        legend.append('Train ' + names[i])\r\n",
        "        legend.append('Val ' + names[i])\r\n",
        "    \r\n",
        "    plt.title(title)\r\n",
        "    plt.ylabel('Accuracy')\r\n",
        "    plt.xlabel('Epoch')   \r\n",
        "    plt.axis\r\n",
        "    plt.legend(legend, \r\n",
        "               loc='lower right')\r\n",
        "    plt.show()"
      ],
      "outputs": [],
      "execution_count": 76,
      "metadata": {
        "collapsed": true,
        "jupyter": {
          "source_hidden": false,
          "outputs_hidden": false
        },
        "nteract": {
          "transient": {
            "deleting": false
          }
        },
        "gather": {
          "logged": 1612328760648
        }
      }
    },
    {
      "cell_type": "code",
      "source": [
        "plot_acc(model_cnn_hist)\r\n",
        "plot_loss(model_cnn_hist)"
      ],
      "outputs": [
        {
          "output_type": "display_data",
          "data": {
            "text/plain": "<Figure size 432x288 with 1 Axes>",
            "image/png": "[encoded data removed]"
          },
          "metadata": {
            "needs_background": "light"
          }
        },
        {
          "output_type": "display_data",
          "data": {
            "text/plain": "<Figure size 432x288 with 1 Axes>",
            "image/png": "[encoded data removed]"
          },
          "metadata": {
            "needs_background": "light"
          }
        }
      ],
      "execution_count": 95,
      "metadata": {
        "collapsed": true,
        "jupyter": {
          "source_hidden": false,
          "outputs_hidden": false
        },
        "nteract": {
          "transient": {
            "deleting": false
          }
        },
        "gather": {
          "logged": 1612340608451
        }
      }
    },
    {
      "cell_type": "code",
      "source": [],
      "outputs": [],
      "execution_count": null,
      "metadata": {
        "collapsed": true,
        "jupyter": {
          "source_hidden": false,
          "outputs_hidden": false
        },
        "nteract": {
          "transient": {
            "deleting": false
          }
        }
      }
    },
    {
      "cell_type": "markdown",
      "source": [
        "### Using ensemble learning to improve on model accuracy\r\n",
        "From the above hypothesis, indivdual models are not performing so well. There's<br>\r\n",
        "therefore the need to introduce ensemble learning.\r\n",
        "\r\n",
        "Retraining the CNN model but saving multiple models with each iteration <br>\r\n",
        "The models would then be combined to try reducing the variance and <br>\r\n",
        "generalization error & improve on accuracy"
      ],
      "metadata": {
        "nteract": {
          "transient": {
            "deleting": false
          }
        }
      }
    },
    {
      "cell_type": "code",
      "source": [
        "from math import floor\r\n",
        "from math import pi\r\n",
        "from math import cos\r\n",
        "from keras.callbacks import Callback\r\n",
        "from keras.optimizers import SGD\r\n",
        "from keras import backend\r\n",
        "\r\n",
        "# snapshot ensemble with custom learning rate schedule\r\n",
        "class SnapshotEnsemble(Callback):\r\n",
        "\t# constructor\r\n",
        "\tdef __init__(self, n_epochs, n_cycles, lrate_max, verbose=0):\r\n",
        "\t\tself.epochs = n_epochs\r\n",
        "\t\tself.cycles = n_cycles\r\n",
        "\t\tself.lr_max = lrate_max\r\n",
        "\t\tself.lrates = list()\r\n",
        " \r\n",
        "\t# calculate learning rate for epoch\r\n",
        "\tdef cosine_annealing(self, epoch, n_epochs, n_cycles, lrate_max):\r\n",
        "\t\tepochs_per_cycle = floor(n_epochs/n_cycles)\r\n",
        "\t\tcos_inner = (pi * (epoch % epochs_per_cycle)) / (epochs_per_cycle)\r\n",
        "\t\treturn lrate_max/2 * (cos(cos_inner) + 1)\r\n",
        " \r\n",
        "\t# calculate and set learning rate at the start of the epoch\r\n",
        "\tdef on_epoch_begin(self, epoch, logs={}):\r\n",
        "\t\t# calculate learning rate\r\n",
        "\t\tlr = self.cosine_annealing(epoch, self.epochs, self.cycles, self.lr_max)\r\n",
        "\t\t# set learning rate\r\n",
        "\t\tbackend.set_value(self.model.optimizer.lr, lr)\r\n",
        "\t\t# log value\r\n",
        "\t\tself.lrates.append(lr)\r\n",
        " \r\n",
        "\t# save models at the end of each cycle\r\n",
        "\tdef on_epoch_end(self, epoch, logs={}):\r\n",
        "\t\t# check if we can save model\r\n",
        "\t\tepochs_per_cycle = floor(self.epochs / self.cycles)\r\n",
        "\t\tif epoch != 0 and (epoch + 1) % epochs_per_cycle == 0:\r\n",
        "\t\t\t# save model to file\r\n",
        "\t\t\tfilename = \"snapshot_model_%d.h5\" % int((epoch + 1) / epochs_per_cycle)\r\n",
        "\t\t\tself.model.save(filename)\r\n",
        "\t\t\tprint('>saved snapshot %s, epoch %d' % (filename, epoch))"
      ],
      "outputs": [],
      "execution_count": 97,
      "metadata": {
        "collapsed": true,
        "jupyter": {
          "source_hidden": false,
          "outputs_hidden": false
        },
        "nteract": {
          "transient": {
            "deleting": false
          }
        },
        "gather": {
          "logged": 1612340674283
        }
      }
    },
    {
      "cell_type": "code",
      "source": [
        "opt = SGD(momentum=0.9)\r\n",
        "\r\n",
        "model_cnn2 = model_cnn(input_shape = X_train_cnn[0].shape)\r\n",
        "model_cnn2.compile(optimizer=opt,loss=\"categorical_crossentropy\",metrics=[\"accuracy\"])\r\n"
      ],
      "outputs": [],
      "execution_count": 108,
      "metadata": {
        "collapsed": true,
        "jupyter": {
          "source_hidden": false,
          "outputs_hidden": false
        },
        "nteract": {
          "transient": {
            "deleting": false
          }
        },
        "gather": {
          "logged": 1612341809506
        }
      }
    },
    {
      "cell_type": "code",
      "source": [
        "# create snapshot ensemble callback\r\n",
        "n_epochs = 100\r\n",
        "n_cycles = n_epochs / 10\r\n",
        "ca = SnapshotEnsemble(n_epochs, n_cycles, 0.01)"
      ],
      "outputs": [],
      "execution_count": 109,
      "metadata": {
        "collapsed": true,
        "jupyter": {
          "source_hidden": false,
          "outputs_hidden": false
        },
        "nteract": {
          "transient": {
            "deleting": false
          }
        },
        "gather": {
          "logged": 1612341812981
        }
      }
    },
    {
      "cell_type": "code",
      "source": [
        "model_cnn2.fit(X_train_cnn, Y_train_oh, validation_data=(X_test_cnn, Y_test_oh), epochs = n_epochs, verbose=0, callbacks=[early_stopping, ca])"
      ],
      "outputs": [
        {
          "output_type": "stream",
          "name": "stdout",
          "text": [
            ">saved snapshot snapshot_model_1.h5, epoch 9\n",
            ">saved snapshot snapshot_model_2.h5, epoch 19\n",
            ">saved snapshot snapshot_model_3.h5, epoch 29\n",
            ">saved snapshot snapshot_model_4.h5, epoch 39\n",
            ">saved snapshot snapshot_model_5.h5, epoch 49\n",
            ">saved snapshot snapshot_model_6.h5, epoch 59\n",
            ">saved snapshot snapshot_model_7.h5, epoch 69\n",
            ">saved snapshot snapshot_model_8.h5, epoch 79\n",
            ">saved snapshot snapshot_model_9.h5, epoch 89\n",
            ">saved snapshot snapshot_model_10.h5, epoch 99\n"
          ]
        },
        {
          "output_type": "execute_result",
          "execution_count": 112,
          "data": {
            "text/plain": "<tensorflow.python.keras.callbacks.History at 0x7f60b7ac3470>"
          },
          "metadata": {}
        }
      ],
      "execution_count": 112,
      "metadata": {
        "collapsed": true,
        "jupyter": {
          "source_hidden": false,
          "outputs_hidden": false
        },
        "nteract": {
          "transient": {
            "deleting": false
          }
        },
        "gather": {
          "logged": 1612341989049
        }
      }
    },
    {
      "cell_type": "markdown",
      "source": [
        "### Load Models and Make Ensemble Prediction"
      ],
      "metadata": {
        "nteract": {
          "transient": {
            "deleting": false
          }
        }
      }
    },
    {
      "cell_type": "code",
      "source": [
        "from keras.models import load_model\r\n",
        "from numpy import array\r\n",
        "from numpy import argmax\r\n",
        "from numpy import mean\r\n",
        "from numpy import std\r\n",
        "import numpy\r\n",
        "from sklearn.metrics import accuracy_score\r\n",
        "\r\n",
        "# load models from file\r\n",
        "def load_all_models(n_models):\r\n",
        "\tall_models = list()\r\n",
        "\tfor i in range(n_models):\r\n",
        "\t\t# define filename for this ensemble\r\n",
        "\t\tfilename = 'snapshot_model_' + str(i + 1) + '.h5'\r\n",
        "\t\t# load model from file\r\n",
        "\t\tmodel = load_model(filename)\r\n",
        "\t\t# add to list of members\r\n",
        "\t\tall_models.append(model)\r\n",
        "\t\tprint('>loaded %s' % filename)\r\n",
        "\treturn all_models\r\n",
        " \r\n",
        "# make an ensemble prediction for multi-class classification\r\n",
        "def ensemble_predictions(members, testX):\r\n",
        "\t# make predictions\r\n",
        "\tyhats = [model.predict(testX) for model in members]\r\n",
        "\tyhats = array(yhats)\r\n",
        "\t# sum across ensemble members\r\n",
        "\tsummed = numpy.sum(yhats, axis=0)\r\n",
        "\t# argmax across classes\r\n",
        "\tresult = argmax(summed, axis=1)\r\n",
        "\treturn result\r\n",
        " \r\n",
        "# evaluate a specific number of members in an ensemble\r\n",
        "def evaluate_n_members(members, n_members, testX, testy):\r\n",
        "\t# select a subset of members\r\n",
        "\tsubset = members[:n_members]\r\n",
        "\t# make prediction\r\n",
        "\tyhat = ensemble_predictions(subset, testX)\r\n",
        "\t# calculate accuracy\r\n",
        "\treturn accuracy_score(testy, yhat)\r\n",
        " \r\n",
        "# generate 2d classification dataset\r\n",
        "X, y = make_blobs(n_samples=1100, centers=3, n_features=2, cluster_std=2, random_state=2)\r\n",
        "# split into train and test\r\n",
        "n_train = 100\r\n",
        "trainX, testX = X[:n_train, :], X[n_train:, :]\r\n",
        "trainy, testy = y[:n_train], y[n_train:]\r\n",
        "print(trainX.shape, testX.shape)\r\n",
        "# load models in order\r\n",
        "members = load_all_models(10)\r\n",
        "print('Loaded %d models' % len(members))\r\n",
        "# reverse loaded models so we build the ensemble with the last models first\r\n",
        "members = list(reversed(members))\r\n",
        "# evaluate different numbers of ensembles on hold out set\r\n",
        "single_scores, ensemble_scores = list(), list()\r\n",
        "for i in range(1, len(members)+1):\r\n",
        "\t# evaluate model with i members\r\n",
        "\tensemble_score = evaluate_n_members(members, i, testX, testy)\r\n",
        "\t# evaluate the i'th model standalone\r\n",
        "\ttesty_enc = to_categorical(testy)\r\n",
        "\t_, single_score = members[i-1].evaluate(testX, testy_enc, verbose=0)\r\n",
        "\t# summarize this step\r\n",
        "\tprint('> %d: single=%.3f, ensemble=%.3f' % (i, single_score, ensemble_score))\r\n",
        "\tensemble_scores.append(ensemble_score)\r\n",
        "\tsingle_scores.append(single_score)\r\n",
        "# summarize average accuracy of a single final model\r\n",
        "print('Accuracy %.3f (%.3f)' % (mean(single_scores), std(single_scores)))"
      ],
      "outputs": [
        {
          "output_type": "stream",
          "name": "stdout",
          "text": [
            "(100, 2) (1000, 2)\n",
            ">loaded snapshot_model_1.h5\n",
            ">loaded snapshot_model_2.h5\n",
            ">loaded snapshot_model_3.h5\n",
            ">loaded snapshot_model_4.h5\n",
            ">loaded snapshot_model_5.h5\n",
            ">loaded snapshot_model_6.h5\n",
            ">loaded snapshot_model_7.h5\n",
            ">loaded snapshot_model_8.h5\n",
            ">loaded snapshot_model_9.h5\n",
            ">loaded snapshot_model_10.h5\n",
            "Loaded 10 models\n",
            "> 1: single=0.756, ensemble=0.756\n",
            "> 2: single=0.751, ensemble=0.752\n",
            "> 3: single=0.715, ensemble=0.743\n",
            "> 4: single=0.655, ensemble=0.715\n",
            "> 5: single=0.615, ensemble=0.703\n",
            "> 6: single=0.662, ensemble=0.705\n",
            "> 7: single=0.721, ensemble=0.704\n",
            "> 8: single=0.503, ensemble=0.693\n",
            "> 9: single=0.357, ensemble=0.669\n",
            "> 10: single=0.685, ensemble=0.674\n",
            "Accuracy 0.642 (0.118)\n"
          ]
        }
      ],
      "execution_count": 134,
      "metadata": {
        "collapsed": true,
        "jupyter": {
          "source_hidden": false,
          "outputs_hidden": false
        },
        "nteract": {
          "transient": {
            "deleting": false
          }
        },
        "gather": {
          "logged": 1612344111833
        }
      }
    },
    {
      "cell_type": "code",
      "source": [
        "plot_acc(history2)\r\n",
        "plot_loss(history2)"
      ],
      "outputs": [
        {
          "output_type": "display_data",
          "data": {
            "text/plain": "<Figure size 432x288 with 1 Axes>",
            "image/png": "[encoded data removed]"
          },
          "metadata": {
            "needs_background": "light"
          }
        },
        {
          "output_type": "display_data",
          "data": {
            "text/plain": "<Figure size 432x288 with 1 Axes>",
            "image/png": "[encoded data removed]"
          },
          "metadata": {
            "needs_background": "light"
          }
        }
      ],
      "execution_count": 133,
      "metadata": {
        "collapsed": true,
        "jupyter": {
          "source_hidden": false,
          "outputs_hidden": false
        },
        "nteract": {
          "transient": {
            "deleting": false
          }
        },
        "gather": {
          "logged": 1612344046916
        }
      }
    },
    {
      "cell_type": "markdown",
      "source": [
        "### Stacking the ensemble models to a single model\r\n",
        "\r\n",
        "The enseble approach shows improved accuracy. Here the models are <br>\r\n",
        "stacked together into a single model."
      ],
      "metadata": {
        "nteract": {
          "transient": {
            "deleting": false
          }
        }
      }
    },
    {
      "cell_type": "code",
      "source": [
        "from numpy import dstack\r\n",
        "# from sklearn.linear_model import LogisticRegression\r\n",
        "import sklearn.linear_model as lm\r\n",
        "\r\n",
        "# create stacked model input dataset as outputs from the ensemble\r\n",
        "def stacked_dataset(members, inputX):\r\n",
        "\tstackX = None\r\n",
        "\tfor model in members:\r\n",
        "\t\t# make prediction\r\n",
        "\t\tyhat = model.predict(inputX, verbose=0)\r\n",
        "\t\t# stack predictions into [rows, members, probabilities]\r\n",
        "\t\tif stackX is None:\r\n",
        "\t\t\tstackX = yhat\r\n",
        "\t\telse:\r\n",
        "\t\t\tstackX = dstack((stackX, yhat))\r\n",
        "\t# flatten predictions to [rows, members x probabilities]\r\n",
        "\tstackX = stackX.reshape((stackX.shape[0], stackX.shape[1]*stackX.shape[2]))\r\n",
        "\treturn stackX\r\n",
        " \r\n",
        "# fit a model based on the outputs from the ensemble members\r\n",
        "def fit_stacked_model(members, inputX, inputy):\r\n",
        "\t# create dataset using ensemble\r\n",
        "\tstackedX = stacked_dataset(members, inputX)\r\n",
        "\t# fit standalone model\r\n",
        "\tmodel = lm.LogisticRegression()\r\n",
        "\tmodel.fit(stackedX, inputy)\r\n",
        "\treturn model\r\n",
        " \r\n",
        "# make a prediction with the stacked model\r\n",
        "def stacked_prediction(members, model, inputX):\r\n",
        "\t# create dataset using ensemble\r\n",
        "\tstackedX = stacked_dataset(members, inputX)\r\n",
        "\t# make a prediction\r\n",
        "\tyhat = model.predict(stackedX)\r\n",
        "\treturn yhat"
      ],
      "outputs": [],
      "execution_count": 162,
      "metadata": {
        "collapsed": true,
        "jupyter": {
          "source_hidden": false,
          "outputs_hidden": false
        },
        "nteract": {
          "transient": {
            "deleting": false
          }
        },
        "gather": {
          "logged": 1612345990087
        }
      }
    },
    {
      "cell_type": "code",
      "source": [
        "stacked_model = fit_stacked_model(members, testX, testy)\r\n",
        "# evaluate model on test set\r\n",
        "yhat = stacked_prediction(members, stacked_model, testX)\r\n",
        "acc = accuracy_score(testy, yhat)\r\n",
        "print('Stacked Test Accuracy: %.3f' % acc)"
      ],
      "outputs": [
        {
          "output_type": "stream",
          "name": "stdout",
          "text": [
            "Stacked Test Accuracy: 0.649\n"
          ]
        }
      ],
      "execution_count": 163,
      "metadata": {
        "collapsed": true,
        "jupyter": {
          "source_hidden": false,
          "outputs_hidden": false
        },
        "nteract": {
          "transient": {
            "deleting": false
          }
        },
        "gather": {
          "logged": 1612346017616
        }
      }
    },
    {
      "cell_type": "markdown",
      "source": [
        "#### Saving the stacked model"
      ],
      "metadata": {
        "nteract": {
          "transient": {
            "deleting": false
          }
        }
      }
    },
    {
      "cell_type": "code",
      "source": [
        "import pickle\r\n",
        "filename = './depression-detection-extract/models/stacked_model.h5'\r\n",
        "pickle.dump(stacked_model, open(filename, 'wb'))\r\n"
      ],
      "outputs": [],
      "execution_count": 174,
      "metadata": {
        "collapsed": true,
        "jupyter": {
          "source_hidden": false,
          "outputs_hidden": false
        },
        "nteract": {
          "transient": {
            "deleting": false
          }
        },
        "gather": {
          "logged": 1612347159021
        }
      }
    },
    {
      "cell_type": "markdown",
      "source": [
        "### Converting model to tflite format (for deployment on android)"
      ],
      "metadata": {
        "nteract": {
          "transient": {
            "deleting": false
          }
        }
      }
    },
    {
      "cell_type": "code",
      "source": [
        "import tensorflow as tf\r\n",
        "\r\n",
        "model = tf.keras.models.load_model('./depression-detection-extract/models/stacked_model.h5')\r\n",
        "converter = tf.lite.TFLiteConverter.from_keras_model(model)\r\n",
        "tflite_model = converter.convert()\r\n",
        "open(\"./depression-detection-extract/models/model.tflite\", \"wb\").write(tflite_model)"
      ],
      "outputs": [
        {
          "output_type": "stream",
          "name": "stdout",
          "text": [
            "INFO:tensorflow:Assets written to: /tmp/tmpmzml39ii/assets\n"
          ]
        },
        {
          "output_type": "execute_result",
          "execution_count": 177,
          "data": {
            "text/plain": "1661152"
          },
          "metadata": {}
        }
      ],
      "execution_count": 177,
      "metadata": {
        "collapsed": true,
        "jupyter": {
          "source_hidden": false,
          "outputs_hidden": false
        },
        "nteract": {
          "transient": {
            "deleting": false
          }
        },
        "gather": {
          "logged": 1612347403139
        }
      }
    },
    {
      "cell_type": "markdown",
      "source": [
        "### Using quantization to compress the model by reducing weights"
      ],
      "metadata": {
        "nteract": {
          "transient": {
            "deleting": false
          }
        }
      }
    },
    {
      "cell_type": "code",
      "source": [
        "converter = tf.lite.TFLiteConverter.from_saved_model('./depression-detection-extract/models/model.tflite')\r\n",
        "converter.optimizations = [tf.lite.Optimize.DEFAULT]\r\n",
        "tflite_quant_model = converter.convert()\r\n",
        "open(\"./depression-detection-extract/models/model2.tflite\", \"wb\").write(tflite_quant_model)"
      ],
      "outputs": [
        {
          "output_type": "execute_result",
          "execution_count": 185,
          "data": {
            "text/plain": "16"
          },
          "metadata": {}
        }
      ],
      "execution_count": 185,
      "metadata": {
        "collapsed": true,
        "jupyter": {
          "source_hidden": false,
          "outputs_hidden": false
        },
        "nteract": {
          "transient": {
            "deleting": false
          }
        },
        "gather": {
          "logged": 1612348852036
        }
      }
    },
    {
      "cell_type": "code",
      "source": [],
      "outputs": [],
      "execution_count": null,
      "metadata": {
        "collapsed": true,
        "jupyter": {
          "source_hidden": false,
          "outputs_hidden": false
        },
        "nteract": {
          "transient": {
            "deleting": false
          }
        }
      }
    }
  ],
  "metadata": {
    "kernelspec": {
      "name": "python3-azureml",
      "language": "python",
      "display_name": "Python 3.6 - AzureML"
    },
    "language_info": {
      "name": "python",
      "version": "3.6.9",
      "mimetype": "text/x-python",
      "codemirror_mode": {
        "name": "ipython",
        "version": 3
      },
      "pygments_lexer": "ipython3",
      "nbconvert_exporter": "python",
      "file_extension": ".py"
    },
    "kernel_info": {
      "name": "python3-azureml"
    },
    "nteract": {
      "version": "nteract-front-end@1.0.0"
    }
  },
  "nbformat": 4,
  "nbformat_minor": 2
}